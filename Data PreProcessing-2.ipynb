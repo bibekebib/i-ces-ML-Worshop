{
 "cells": [
  {
   "cell_type": "markdown",
   "source": "# \"Data is Dirty\n## I Repeat data is dirty\"\n\n\n",
   "metadata": {
    "cell_id": "f77ff3b7-e6ba-44ec-af3a-735c91a4a9de",
    "tags": [],
    "deepnote_cell_type": "markdown"
   }
  },
  {
   "cell_type": "markdown",
   "source": "![](https://th.bing.com/th/id/OIP.ETmCZRVzJ5xNc3f8REj9KQHaFt?pid=ImgDet&rs=1)",
   "metadata": {
    "cell_id": "72118c77-23ca-434d-a331-866f91891732",
    "tags": [],
    "deepnote_cell_type": "markdown"
   }
  },
  {
   "cell_type": "markdown",
   "source": "Data preprocessing is a major part of any machine learning process. As we know the major part of any machine learning model is for sure data and if the data is not in proper shape and form, the model will not perform at its best. So we have to make sure we process the data in right form so that future work on the data becomes meaningful.\n\nThe major steps in Data Preprocessing are: \n1. Data Collection\n2. Importing Libraries\n3. Dealing with Missing data\n4. Data Reduction\n5. Feature Importance / Feature Selection\n6. Standardization\n7. PCA\n8. Train_test\n",
   "metadata": {
    "cell_id": "b187840b-f0b2-49ef-857d-8231859dd956",
    "tags": [],
    "deepnote_cell_type": "markdown"
   }
  },
  {
   "cell_type": "markdown",
   "source": "# 1. Data Collection\nData is everything, without data there is no machine learning models. So the first step is always data collection. We have to collect data from various resources. sometimes in real life scenario we need to scrap data from various resources as formatted data is not available. for that various libraries and extension are available. However here, we are mainly focused in collecting data from various datasets centres, websites that have achieves of various data. We can collect data from [www.kaggle.com](https://www.kaggle.com) or [https://archive.ics.uci.edu/ml/machine-learning-databases](https://archive.ics.uci.edu/ml/machine-learning-databases) .\n\nOther to it, you can do data scraping using various libraries or tools to get data but as of now, YO 2Ta WEBSITES WILL BE ENOUGH. \n",
   "metadata": {
    "cell_id": "6ebd60e8-d35d-43c3-b31d-a92ed149f304",
    "tags": [],
    "deepnote_cell_type": "markdown"
   }
  },
  {
   "cell_type": "markdown",
   "source": "",
   "metadata": {
    "cell_id": "998cfa25-864e-4a74-8bd6-1033fe90f421",
    "tags": [],
    "deepnote_cell_type": "markdown"
   }
  },
  {
   "cell_type": "markdown",
   "source": "# 2. Importing Libraries\nwe have to import all the important libraries that will be used for all the preprocessing. The basis python libraries are: NumPy, Pandas, Matplotlib, seaborn, sKlearn........",
   "metadata": {
    "cell_id": "735d8648-b167-4dec-9da4-d58240b675e8",
    "tags": [],
    "deepnote_cell_type": "markdown"
   }
  },
  {
   "cell_type": "code",
   "metadata": {
    "cell_id": "ea0e0032-e402-4b8b-a633-808659dd3b58",
    "tags": [],
    "deepnote_to_be_reexecuted": false,
    "source_hash": "b89b80b4",
    "execution_start": 1643447627017,
    "execution_millis": 3093,
    "deepnote_cell_type": "code"
   },
   "source": "import numpy as np\nimport pandas as pd\nimport matplotlib.pyplot as plt\nimport scipy\nfrom sklearn.model_selection import train_test_split\nfrom sklearn.impute import SimpleImputer",
   "outputs": [],
   "execution_count": 1
  },
  {
   "cell_type": "markdown",
   "source": "# Dealing with missing data",
   "metadata": {
    "cell_id": "16958d8d-24c6-4479-a9bf-76281487cf9d",
    "tags": [],
    "deepnote_cell_type": "markdown"
   }
  },
  {
   "cell_type": "markdown",
   "source": "1. Data missed at Random\n    \n    During survey or at the time of data collection, the participants might missed filling up certain data, this can be a reason data are missing.\n    \n2. Data missed at Reason\n    \n    There can the scenario where the participants intentionally doesnt want to provide certain data like the phone number or the address for personal reasons. This can be the reason, the dataset can have multiple Null values.",
   "metadata": {
    "cell_id": "49ea6fe1-cb0c-4126-b61d-3cd2268c7dc3",
    "tags": [],
    "deepnote_cell_type": "markdown"
   }
  },
  {
   "cell_type": "markdown",
   "source": "So, if we came across missing data, we have to follow following types of ideas to deal with missing data. \n\nFirst we have to check the number of missing data in a column. If the percentage of missing data is more than 60% of the total data points, then there is no reason we have to keep that data column as it will have negative response to our future Machine Learning model. So, its always better to drop these columns. \n\nSecond, we can also drop rows if the number of Null values of a certain column is very less, as it will have no impact over large dataset. \n\nWhat we can also do is use statistical method to figure out what to replace with the missing data. \n\nIn case of numerical data, we can go with Mean of the entire column and then replace with mean to the Null values.\nIn case of categorical data, we can use mode to replace the missing values. \n\nThe ideas how to generate mean can slightly be different accoring to the kind of dataset we are working on. If one column is highly co-related with another column, what we can do is find mean as per the another column and replace as per it. \n\nLet's take an example for it, like we have two column, GDP and Country. So replacing mean of entire GDP column will not be a good idea as there will be GDP for both Rich and Poor Countries and sometimes, the missing values can be of Poor country, so mean will still be very high GDP for that country. \n\nInstead what we can do is, aggregate all the mean of particular country and find mean of that country only and replace it with that mean.",
   "metadata": {
    "cell_id": "1a9621f6-ec86-49ca-ae8a-622cfa35ca69",
    "tags": [],
    "deepnote_cell_type": "markdown"
   }
  },
  {
   "cell_type": "markdown",
   "source": "",
   "metadata": {
    "cell_id": "5860ea15-6e75-449d-9b3f-ef6911f7a313",
    "tags": [],
    "deepnote_cell_type": "markdown"
   }
  },
  {
   "cell_type": "code",
   "metadata": {
    "cell_id": "8757bea1-bfed-43f4-ab13-e3fc84baa386",
    "tags": [],
    "deepnote_to_be_reexecuted": false,
    "source_hash": "b623e53d",
    "execution_start": 1643447630127,
    "execution_millis": 0,
    "deepnote_cell_type": "code"
   },
   "source": "",
   "outputs": [],
   "execution_count": 1
  },
  {
   "cell_type": "markdown",
   "source": "![Picture title](image-20220121-122633.png)",
   "metadata": {
    "cell_id": "c21a6428-7938-4202-9a1f-9df28952f10d",
    "tags": [],
    "deepnote_cell_type": "markdown"
   }
  },
  {
   "cell_type": "code",
   "metadata": {
    "cell_id": "5e035e57-4e9d-4b7a-87c1-0c929aee82ec",
    "deepnote_to_be_reexecuted": false,
    "source_hash": "d416fdba",
    "execution_start": 1643447630186,
    "execution_millis": 1756587,
    "deepnote_cell_type": "code"
   },
   "source": "import numpy as np\nfrom io import StringIO",
   "outputs": [],
   "execution_count": 2
  },
  {
   "cell_type": "code",
   "metadata": {
    "cell_id": "00001-ae2ad48a-b4f2-4a42-8c01-0b6deedf859a",
    "deepnote_to_be_reexecuted": false,
    "source_hash": "32b6ec0f",
    "execution_start": 1643447630187,
    "execution_millis": 1756629,
    "deepnote_cell_type": "code"
   },
   "source": "csv_data = \\\n            '''\n            A,B,C,D\n            1.0, 2.0, 3.0, 4.0\n            5.0, 6.0,,8.0\n            10.0,11.0,12.0\n            '''",
   "outputs": [],
   "execution_count": 3
  },
  {
   "cell_type": "code",
   "metadata": {
    "cell_id": "00002-3482fa44-e535-4a9b-a8f9-42d24c410eb4",
    "deepnote_to_be_reexecuted": false,
    "source_hash": "9b82ee11",
    "execution_start": 1643447630187,
    "execution_millis": 1756610,
    "deepnote_cell_type": "code"
   },
   "source": "import pandas as pd",
   "outputs": [],
   "execution_count": 4
  },
  {
   "cell_type": "code",
   "metadata": {
    "cell_id": "00003-f47f2d60-072a-4469-a461-c33ea53b09a6",
    "deepnote_to_be_reexecuted": false,
    "source_hash": "670719f2",
    "execution_start": 1643447630230,
    "execution_millis": 1,
    "deepnote_cell_type": "code"
   },
   "source": "df =pd.read_csv(StringIO(csv_data))\ndf_large = pd.read_csv('dataset_titanic.csv')",
   "outputs": [],
   "execution_count": 5
  },
  {
   "cell_type": "code",
   "metadata": {
    "deepnote_output_heights": [
     118.953125
    ],
    "cell_id": "00004-9433e1e6-8ee8-4421-ab26-480187741b99",
    "deepnote_to_be_reexecuted": false,
    "source_hash": "f804c160",
    "execution_start": 1643447630232,
    "execution_millis": 136,
    "deepnote_cell_type": "code"
   },
   "source": "df",
   "outputs": [
    {
     "output_type": "execute_result",
     "execution_count": 6,
     "data": {
      "application/vnd.deepnote.dataframe.v3+json": {
       "column_count": 4,
       "row_count": 3,
       "columns": [
        {
         "name": "            A",
         "dtype": "float64",
         "stats": {
          "unique_count": 3,
          "nan_count": 0,
          "min": "1.0",
          "max": "10.0",
          "histogram": [
           {
            "bin_start": 1,
            "bin_end": 1.9,
            "count": 1
           },
           {
            "bin_start": 1.9,
            "bin_end": 2.8,
            "count": 0
           },
           {
            "bin_start": 2.8,
            "bin_end": 3.7,
            "count": 0
           },
           {
            "bin_start": 3.7,
            "bin_end": 4.6,
            "count": 0
           },
           {
            "bin_start": 4.6,
            "bin_end": 5.5,
            "count": 1
           },
           {
            "bin_start": 5.5,
            "bin_end": 6.4,
            "count": 0
           },
           {
            "bin_start": 6.4,
            "bin_end": 7.3,
            "count": 0
           },
           {
            "bin_start": 7.3,
            "bin_end": 8.2,
            "count": 0
           },
           {
            "bin_start": 8.2,
            "bin_end": 9.1,
            "count": 0
           },
           {
            "bin_start": 9.1,
            "bin_end": 10,
            "count": 1
           }
          ]
         }
        },
        {
         "name": "B",
         "dtype": "float64",
         "stats": {
          "unique_count": 3,
          "nan_count": 0,
          "min": "2.0",
          "max": "11.0",
          "histogram": [
           {
            "bin_start": 2,
            "bin_end": 2.9,
            "count": 1
           },
           {
            "bin_start": 2.9,
            "bin_end": 3.8,
            "count": 0
           },
           {
            "bin_start": 3.8,
            "bin_end": 4.7,
            "count": 0
           },
           {
            "bin_start": 4.7,
            "bin_end": 5.6,
            "count": 0
           },
           {
            "bin_start": 5.6,
            "bin_end": 6.5,
            "count": 1
           },
           {
            "bin_start": 6.5,
            "bin_end": 7.4,
            "count": 0
           },
           {
            "bin_start": 7.4,
            "bin_end": 8.3,
            "count": 0
           },
           {
            "bin_start": 8.3,
            "bin_end": 9.2,
            "count": 0
           },
           {
            "bin_start": 9.2,
            "bin_end": 10.1,
            "count": 0
           },
           {
            "bin_start": 10.1,
            "bin_end": 11,
            "count": 1
           }
          ]
         }
        },
        {
         "name": "C",
         "dtype": "float64",
         "stats": {
          "unique_count": 2,
          "nan_count": 1,
          "min": "3.0",
          "max": "12.0",
          "histogram": [
           {
            "bin_start": 3,
            "bin_end": 3.9,
            "count": 1
           },
           {
            "bin_start": 3.9,
            "bin_end": 4.8,
            "count": 0
           },
           {
            "bin_start": 4.8,
            "bin_end": 5.7,
            "count": 0
           },
           {
            "bin_start": 5.7,
            "bin_end": 6.6,
            "count": 0
           },
           {
            "bin_start": 6.6,
            "bin_end": 7.5,
            "count": 0
           },
           {
            "bin_start": 7.5,
            "bin_end": 8.4,
            "count": 0
           },
           {
            "bin_start": 8.4,
            "bin_end": 9.3,
            "count": 0
           },
           {
            "bin_start": 9.3,
            "bin_end": 10.2,
            "count": 0
           },
           {
            "bin_start": 10.2,
            "bin_end": 11.1,
            "count": 0
           },
           {
            "bin_start": 11.1,
            "bin_end": 12,
            "count": 1
           }
          ]
         }
        },
        {
         "name": "D",
         "dtype": "float64",
         "stats": {
          "unique_count": 2,
          "nan_count": 1,
          "min": "4.0",
          "max": "8.0",
          "histogram": [
           {
            "bin_start": 4,
            "bin_end": 4.4,
            "count": 1
           },
           {
            "bin_start": 4.4,
            "bin_end": 4.8,
            "count": 0
           },
           {
            "bin_start": 4.8,
            "bin_end": 5.2,
            "count": 0
           },
           {
            "bin_start": 5.2,
            "bin_end": 5.6,
            "count": 0
           },
           {
            "bin_start": 5.6,
            "bin_end": 6,
            "count": 0
           },
           {
            "bin_start": 6,
            "bin_end": 6.4,
            "count": 0
           },
           {
            "bin_start": 6.4,
            "bin_end": 6.800000000000001,
            "count": 0
           },
           {
            "bin_start": 6.800000000000001,
            "bin_end": 7.2,
            "count": 0
           },
           {
            "bin_start": 7.2,
            "bin_end": 7.6,
            "count": 0
           },
           {
            "bin_start": 7.6,
            "bin_end": 8,
            "count": 1
           }
          ]
         }
        },
        {
         "name": "_deepnote_index_column",
         "dtype": "int64"
        }
       ],
       "rows": [
        {
         "            A": 1,
         "B": 2,
         "C": 3,
         "D": 4,
         "_deepnote_index_column": 0
        },
        {
         "            A": 5,
         "B": 6,
         "C": "nan",
         "D": 8,
         "_deepnote_index_column": 1
        },
        {
         "            A": 10,
         "B": 11,
         "C": 12,
         "D": "nan",
         "_deepnote_index_column": 2
        }
       ]
      },
      "text/plain": "               A     B     C    D\n0            1.0   2.0   3.0  4.0\n1            5.0   6.0   NaN  8.0\n2           10.0  11.0  12.0  NaN",
      "text/html": "<div>\n<style scoped>\n    .dataframe tbody tr th:only-of-type {\n        vertical-align: middle;\n    }\n\n    .dataframe tbody tr th {\n        vertical-align: top;\n    }\n\n    .dataframe thead th {\n        text-align: right;\n    }\n</style>\n<table border=\"1\" class=\"dataframe\">\n  <thead>\n    <tr style=\"text-align: right;\">\n      <th></th>\n      <th>A</th>\n      <th>B</th>\n      <th>C</th>\n      <th>D</th>\n    </tr>\n  </thead>\n  <tbody>\n    <tr>\n      <th>0</th>\n      <td>1.0</td>\n      <td>2.0</td>\n      <td>3.0</td>\n      <td>4.0</td>\n    </tr>\n    <tr>\n      <th>1</th>\n      <td>5.0</td>\n      <td>6.0</td>\n      <td>NaN</td>\n      <td>8.0</td>\n    </tr>\n    <tr>\n      <th>2</th>\n      <td>10.0</td>\n      <td>11.0</td>\n      <td>12.0</td>\n      <td>NaN</td>\n    </tr>\n  </tbody>\n</table>\n</div>"
     },
     "metadata": {}
    }
   ],
   "execution_count": 6
  },
  {
   "cell_type": "code",
   "metadata": {
    "cell_id": "a69a4ef6-7ac3-489e-b83e-3b3dcf2b3c5d",
    "tags": [],
    "deepnote_to_be_reexecuted": false,
    "source_hash": "e078c2cb",
    "execution_start": 1643447630357,
    "execution_millis": 1755845,
    "deepnote_cell_type": "code"
   },
   "source": "# df_large.describe()",
   "outputs": [],
   "execution_count": 7
  },
  {
   "cell_type": "code",
   "metadata": {
    "cell_id": "046acd8c-846c-40db-8b05-a76926bda58f",
    "tags": [],
    "deepnote_to_be_reexecuted": false,
    "source_hash": "5d2dc481",
    "execution_start": 1643447630370,
    "execution_millis": 1755845,
    "deepnote_cell_type": "code"
   },
   "source": "# df_large.head()",
   "outputs": [],
   "execution_count": 8
  },
  {
   "cell_type": "code",
   "metadata": {
    "deepnote_output_heights": [
     98
    ],
    "cell_id": "00005-0a04f326-81bb-4959-bee5-bdfc15c5789d",
    "deepnote_to_be_reexecuted": false,
    "source_hash": "630e8669",
    "execution_start": 1643447630406,
    "execution_millis": 1755845,
    "deepnote_cell_type": "code"
   },
   "source": "# Number of missing values in each feature column\ndf.isnull().sum()",
   "outputs": [
    {
     "output_type": "execute_result",
     "execution_count": 9,
     "data": {
      "text/plain": "            A    0\nB                0\nC                1\nD                1\ndtype: int64"
     },
     "metadata": {}
    }
   ],
   "execution_count": 9
  },
  {
   "cell_type": "code",
   "metadata": {
    "cell_id": "7c769f17-95f3-4e40-bf2f-d043f20687a4",
    "tags": [],
    "deepnote_to_be_reexecuted": false,
    "source_hash": "ae6428cb",
    "execution_start": 1643447630408,
    "execution_millis": 1755844,
    "deepnote_output_heights": [
     281.640625
    ],
    "deepnote_cell_type": "code"
   },
   "source": "# df_large.isnull().sum()",
   "outputs": [],
   "execution_count": 10
  },
  {
   "cell_type": "code",
   "metadata": {
    "cell_id": "00006-858cf7e4-b438-4128-bcec-15e4420a1fca",
    "deepnote_to_be_reexecuted": false,
    "source_hash": "4281f31",
    "execution_start": 1643447630409,
    "execution_millis": 1755854,
    "deepnote_output_heights": [
     59
    ],
    "deepnote_cell_type": "code"
   },
   "source": "df.values\n# print(type(df.values))",
   "outputs": [
    {
     "output_type": "execute_result",
     "execution_count": 11,
     "data": {
      "text/plain": "array([[ 1.,  2.,  3.,  4.],\n       [ 5.,  6., nan,  8.],\n       [10., 11., 12., nan]])"
     },
     "metadata": {}
    }
   ],
   "execution_count": 11
  },
  {
   "cell_type": "markdown",
   "source": "###### One of the most simplest echnique is to remove the orw or colum with tha tcontaisn missing data",
   "metadata": {
    "cell_id": "00007-defaffbd-f6ad-43d8-8da5-bb2366f05f54",
    "deepnote_cell_type": "markdown"
   }
  },
  {
   "cell_type": "code",
   "metadata": {
    "deepnote_output_heights": [
     60.96875
    ],
    "cell_id": "00008-a239d762-7a6a-4797-a355-d1229ec130cd",
    "deepnote_to_be_reexecuted": false,
    "source_hash": "22cf84eb",
    "execution_start": 1643447630410,
    "execution_millis": 113,
    "deepnote_cell_type": "code"
   },
   "source": "# drop rows\ndf.dropna(axis=0)",
   "outputs": [
    {
     "output_type": "execute_result",
     "execution_count": 12,
     "data": {
      "application/vnd.deepnote.dataframe.v3+json": {
       "column_count": 4,
       "row_count": 1,
       "columns": [
        {
         "name": "            A",
         "dtype": "float64",
         "stats": {
          "unique_count": 1,
          "nan_count": 0,
          "min": "1.0",
          "max": "1.0",
          "histogram": [
           {
            "bin_start": 0.5,
            "bin_end": 0.6,
            "count": 0
           },
           {
            "bin_start": 0.6,
            "bin_end": 0.7,
            "count": 0
           },
           {
            "bin_start": 0.7,
            "bin_end": 0.8,
            "count": 0
           },
           {
            "bin_start": 0.8,
            "bin_end": 0.9,
            "count": 0
           },
           {
            "bin_start": 0.9,
            "bin_end": 1,
            "count": 0
           },
           {
            "bin_start": 1,
            "bin_end": 1.1,
            "count": 1
           },
           {
            "bin_start": 1.1,
            "bin_end": 1.2000000000000002,
            "count": 0
           },
           {
            "bin_start": 1.2000000000000002,
            "bin_end": 1.3,
            "count": 0
           },
           {
            "bin_start": 1.3,
            "bin_end": 1.4,
            "count": 0
           },
           {
            "bin_start": 1.4,
            "bin_end": 1.5,
            "count": 0
           }
          ]
         }
        },
        {
         "name": "B",
         "dtype": "float64",
         "stats": {
          "unique_count": 1,
          "nan_count": 0,
          "min": "2.0",
          "max": "2.0",
          "histogram": [
           {
            "bin_start": 1.5,
            "bin_end": 1.6,
            "count": 0
           },
           {
            "bin_start": 1.6,
            "bin_end": 1.7,
            "count": 0
           },
           {
            "bin_start": 1.7,
            "bin_end": 1.8,
            "count": 0
           },
           {
            "bin_start": 1.8,
            "bin_end": 1.9,
            "count": 0
           },
           {
            "bin_start": 1.9,
            "bin_end": 2,
            "count": 0
           },
           {
            "bin_start": 2,
            "bin_end": 2.1,
            "count": 1
           },
           {
            "bin_start": 2.1,
            "bin_end": 2.2,
            "count": 0
           },
           {
            "bin_start": 2.2,
            "bin_end": 2.3,
            "count": 0
           },
           {
            "bin_start": 2.3,
            "bin_end": 2.4,
            "count": 0
           },
           {
            "bin_start": 2.4,
            "bin_end": 2.5,
            "count": 0
           }
          ]
         }
        },
        {
         "name": "C",
         "dtype": "float64",
         "stats": {
          "unique_count": 1,
          "nan_count": 0,
          "min": "3.0",
          "max": "3.0",
          "histogram": [
           {
            "bin_start": 2.5,
            "bin_end": 2.6,
            "count": 0
           },
           {
            "bin_start": 2.6,
            "bin_end": 2.7,
            "count": 0
           },
           {
            "bin_start": 2.7,
            "bin_end": 2.8,
            "count": 0
           },
           {
            "bin_start": 2.8,
            "bin_end": 2.9,
            "count": 0
           },
           {
            "bin_start": 2.9,
            "bin_end": 3,
            "count": 0
           },
           {
            "bin_start": 3,
            "bin_end": 3.1,
            "count": 1
           },
           {
            "bin_start": 3.1,
            "bin_end": 3.2,
            "count": 0
           },
           {
            "bin_start": 3.2,
            "bin_end": 3.3,
            "count": 0
           },
           {
            "bin_start": 3.3,
            "bin_end": 3.4,
            "count": 0
           },
           {
            "bin_start": 3.4,
            "bin_end": 3.5,
            "count": 0
           }
          ]
         }
        },
        {
         "name": "D",
         "dtype": "float64",
         "stats": {
          "unique_count": 1,
          "nan_count": 0,
          "min": "4.0",
          "max": "4.0",
          "histogram": [
           {
            "bin_start": 3.5,
            "bin_end": 3.6,
            "count": 0
           },
           {
            "bin_start": 3.6,
            "bin_end": 3.7,
            "count": 0
           },
           {
            "bin_start": 3.7,
            "bin_end": 3.8,
            "count": 0
           },
           {
            "bin_start": 3.8,
            "bin_end": 3.9,
            "count": 0
           },
           {
            "bin_start": 3.9,
            "bin_end": 4,
            "count": 0
           },
           {
            "bin_start": 4,
            "bin_end": 4.1,
            "count": 1
           },
           {
            "bin_start": 4.1,
            "bin_end": 4.2,
            "count": 0
           },
           {
            "bin_start": 4.2,
            "bin_end": 4.3,
            "count": 0
           },
           {
            "bin_start": 4.3,
            "bin_end": 4.4,
            "count": 0
           },
           {
            "bin_start": 4.4,
            "bin_end": 4.5,
            "count": 0
           }
          ]
         }
        },
        {
         "name": "_deepnote_index_column",
         "dtype": "int64"
        }
       ],
       "rows": [
        {
         "            A": 1,
         "B": 2,
         "C": 3,
         "D": 4,
         "_deepnote_index_column": 0
        }
       ]
      },
      "text/plain": "               A    B    C    D\n0            1.0  2.0  3.0  4.0",
      "text/html": "<div>\n<style scoped>\n    .dataframe tbody tr th:only-of-type {\n        vertical-align: middle;\n    }\n\n    .dataframe tbody tr th {\n        vertical-align: top;\n    }\n\n    .dataframe thead th {\n        text-align: right;\n    }\n</style>\n<table border=\"1\" class=\"dataframe\">\n  <thead>\n    <tr style=\"text-align: right;\">\n      <th></th>\n      <th>A</th>\n      <th>B</th>\n      <th>C</th>\n      <th>D</th>\n    </tr>\n  </thead>\n  <tbody>\n    <tr>\n      <th>0</th>\n      <td>1.0</td>\n      <td>2.0</td>\n      <td>3.0</td>\n      <td>4.0</td>\n    </tr>\n  </tbody>\n</table>\n</div>"
     },
     "metadata": {}
    }
   ],
   "execution_count": 12
  },
  {
   "cell_type": "code",
   "metadata": {
    "deepnote_output_heights": [
     118.953125
    ],
    "cell_id": "00009-af7c0eb2-c350-495b-85db-d47b545f42cf",
    "deepnote_to_be_reexecuted": false,
    "source_hash": "33bb4d09",
    "execution_start": 1643447630499,
    "execution_millis": 25,
    "deepnote_cell_type": "code"
   },
   "source": "# drop columns\ndf.dropna(axis=1)",
   "outputs": [
    {
     "output_type": "execute_result",
     "execution_count": 13,
     "data": {
      "application/vnd.deepnote.dataframe.v3+json": {
       "column_count": 2,
       "row_count": 3,
       "columns": [
        {
         "name": "            A",
         "dtype": "float64",
         "stats": {
          "unique_count": 3,
          "nan_count": 0,
          "min": "1.0",
          "max": "10.0",
          "histogram": [
           {
            "bin_start": 1,
            "bin_end": 1.9,
            "count": 1
           },
           {
            "bin_start": 1.9,
            "bin_end": 2.8,
            "count": 0
           },
           {
            "bin_start": 2.8,
            "bin_end": 3.7,
            "count": 0
           },
           {
            "bin_start": 3.7,
            "bin_end": 4.6,
            "count": 0
           },
           {
            "bin_start": 4.6,
            "bin_end": 5.5,
            "count": 1
           },
           {
            "bin_start": 5.5,
            "bin_end": 6.4,
            "count": 0
           },
           {
            "bin_start": 6.4,
            "bin_end": 7.3,
            "count": 0
           },
           {
            "bin_start": 7.3,
            "bin_end": 8.2,
            "count": 0
           },
           {
            "bin_start": 8.2,
            "bin_end": 9.1,
            "count": 0
           },
           {
            "bin_start": 9.1,
            "bin_end": 10,
            "count": 1
           }
          ]
         }
        },
        {
         "name": "B",
         "dtype": "float64",
         "stats": {
          "unique_count": 3,
          "nan_count": 0,
          "min": "2.0",
          "max": "11.0",
          "histogram": [
           {
            "bin_start": 2,
            "bin_end": 2.9,
            "count": 1
           },
           {
            "bin_start": 2.9,
            "bin_end": 3.8,
            "count": 0
           },
           {
            "bin_start": 3.8,
            "bin_end": 4.7,
            "count": 0
           },
           {
            "bin_start": 4.7,
            "bin_end": 5.6,
            "count": 0
           },
           {
            "bin_start": 5.6,
            "bin_end": 6.5,
            "count": 1
           },
           {
            "bin_start": 6.5,
            "bin_end": 7.4,
            "count": 0
           },
           {
            "bin_start": 7.4,
            "bin_end": 8.3,
            "count": 0
           },
           {
            "bin_start": 8.3,
            "bin_end": 9.2,
            "count": 0
           },
           {
            "bin_start": 9.2,
            "bin_end": 10.1,
            "count": 0
           },
           {
            "bin_start": 10.1,
            "bin_end": 11,
            "count": 1
           }
          ]
         }
        },
        {
         "name": "_deepnote_index_column",
         "dtype": "int64"
        }
       ],
       "rows": [
        {
         "            A": 1,
         "B": 2,
         "_deepnote_index_column": 0
        },
        {
         "            A": 5,
         "B": 6,
         "_deepnote_index_column": 1
        },
        {
         "            A": 10,
         "B": 11,
         "_deepnote_index_column": 2
        }
       ]
      },
      "text/plain": "               A     B\n0            1.0   2.0\n1            5.0   6.0\n2           10.0  11.0",
      "text/html": "<div>\n<style scoped>\n    .dataframe tbody tr th:only-of-type {\n        vertical-align: middle;\n    }\n\n    .dataframe tbody tr th {\n        vertical-align: top;\n    }\n\n    .dataframe thead th {\n        text-align: right;\n    }\n</style>\n<table border=\"1\" class=\"dataframe\">\n  <thead>\n    <tr style=\"text-align: right;\">\n      <th></th>\n      <th>A</th>\n      <th>B</th>\n    </tr>\n  </thead>\n  <tbody>\n    <tr>\n      <th>0</th>\n      <td>1.0</td>\n      <td>2.0</td>\n    </tr>\n    <tr>\n      <th>1</th>\n      <td>5.0</td>\n      <td>6.0</td>\n    </tr>\n    <tr>\n      <th>2</th>\n      <td>10.0</td>\n      <td>11.0</td>\n    </tr>\n  </tbody>\n</table>\n</div>"
     },
     "metadata": {}
    }
   ],
   "execution_count": 13
  },
  {
   "cell_type": "markdown",
   "source": "dropna , method has other several parameters, such as ,\n 1. only drop rows where all columsna re NAN",
   "metadata": {
    "cell_id": "00010-0dd30ee1-ad8f-4941-8570-5fa5bee50b32",
    "deepnote_cell_type": "markdown"
   }
  },
  {
   "cell_type": "code",
   "metadata": {
    "deepnote_output_heights": [
     118.953125
    ],
    "cell_id": "00011-ab300059-dbeb-4e55-8be3-7086a907ca6c",
    "deepnote_to_be_reexecuted": false,
    "source_hash": "82e58a90",
    "execution_start": 1643447630504,
    "execution_millis": 39,
    "deepnote_cell_type": "code"
   },
   "source": "df.dropna(how='all') # no colum has alll NAN values",
   "outputs": [
    {
     "output_type": "execute_result",
     "execution_count": 14,
     "data": {
      "application/vnd.deepnote.dataframe.v3+json": {
       "column_count": 4,
       "row_count": 3,
       "columns": [
        {
         "name": "            A",
         "dtype": "float64",
         "stats": {
          "unique_count": 3,
          "nan_count": 0,
          "min": "1.0",
          "max": "10.0",
          "histogram": [
           {
            "bin_start": 1,
            "bin_end": 1.9,
            "count": 1
           },
           {
            "bin_start": 1.9,
            "bin_end": 2.8,
            "count": 0
           },
           {
            "bin_start": 2.8,
            "bin_end": 3.7,
            "count": 0
           },
           {
            "bin_start": 3.7,
            "bin_end": 4.6,
            "count": 0
           },
           {
            "bin_start": 4.6,
            "bin_end": 5.5,
            "count": 1
           },
           {
            "bin_start": 5.5,
            "bin_end": 6.4,
            "count": 0
           },
           {
            "bin_start": 6.4,
            "bin_end": 7.3,
            "count": 0
           },
           {
            "bin_start": 7.3,
            "bin_end": 8.2,
            "count": 0
           },
           {
            "bin_start": 8.2,
            "bin_end": 9.1,
            "count": 0
           },
           {
            "bin_start": 9.1,
            "bin_end": 10,
            "count": 1
           }
          ]
         }
        },
        {
         "name": "B",
         "dtype": "float64",
         "stats": {
          "unique_count": 3,
          "nan_count": 0,
          "min": "2.0",
          "max": "11.0",
          "histogram": [
           {
            "bin_start": 2,
            "bin_end": 2.9,
            "count": 1
           },
           {
            "bin_start": 2.9,
            "bin_end": 3.8,
            "count": 0
           },
           {
            "bin_start": 3.8,
            "bin_end": 4.7,
            "count": 0
           },
           {
            "bin_start": 4.7,
            "bin_end": 5.6,
            "count": 0
           },
           {
            "bin_start": 5.6,
            "bin_end": 6.5,
            "count": 1
           },
           {
            "bin_start": 6.5,
            "bin_end": 7.4,
            "count": 0
           },
           {
            "bin_start": 7.4,
            "bin_end": 8.3,
            "count": 0
           },
           {
            "bin_start": 8.3,
            "bin_end": 9.2,
            "count": 0
           },
           {
            "bin_start": 9.2,
            "bin_end": 10.1,
            "count": 0
           },
           {
            "bin_start": 10.1,
            "bin_end": 11,
            "count": 1
           }
          ]
         }
        },
        {
         "name": "C",
         "dtype": "float64",
         "stats": {
          "unique_count": 2,
          "nan_count": 1,
          "min": "3.0",
          "max": "12.0",
          "histogram": [
           {
            "bin_start": 3,
            "bin_end": 3.9,
            "count": 1
           },
           {
            "bin_start": 3.9,
            "bin_end": 4.8,
            "count": 0
           },
           {
            "bin_start": 4.8,
            "bin_end": 5.7,
            "count": 0
           },
           {
            "bin_start": 5.7,
            "bin_end": 6.6,
            "count": 0
           },
           {
            "bin_start": 6.6,
            "bin_end": 7.5,
            "count": 0
           },
           {
            "bin_start": 7.5,
            "bin_end": 8.4,
            "count": 0
           },
           {
            "bin_start": 8.4,
            "bin_end": 9.3,
            "count": 0
           },
           {
            "bin_start": 9.3,
            "bin_end": 10.2,
            "count": 0
           },
           {
            "bin_start": 10.2,
            "bin_end": 11.1,
            "count": 0
           },
           {
            "bin_start": 11.1,
            "bin_end": 12,
            "count": 1
           }
          ]
         }
        },
        {
         "name": "D",
         "dtype": "float64",
         "stats": {
          "unique_count": 2,
          "nan_count": 1,
          "min": "4.0",
          "max": "8.0",
          "histogram": [
           {
            "bin_start": 4,
            "bin_end": 4.4,
            "count": 1
           },
           {
            "bin_start": 4.4,
            "bin_end": 4.8,
            "count": 0
           },
           {
            "bin_start": 4.8,
            "bin_end": 5.2,
            "count": 0
           },
           {
            "bin_start": 5.2,
            "bin_end": 5.6,
            "count": 0
           },
           {
            "bin_start": 5.6,
            "bin_end": 6,
            "count": 0
           },
           {
            "bin_start": 6,
            "bin_end": 6.4,
            "count": 0
           },
           {
            "bin_start": 6.4,
            "bin_end": 6.800000000000001,
            "count": 0
           },
           {
            "bin_start": 6.800000000000001,
            "bin_end": 7.2,
            "count": 0
           },
           {
            "bin_start": 7.2,
            "bin_end": 7.6,
            "count": 0
           },
           {
            "bin_start": 7.6,
            "bin_end": 8,
            "count": 1
           }
          ]
         }
        },
        {
         "name": "_deepnote_index_column",
         "dtype": "int64"
        }
       ],
       "rows": [
        {
         "            A": 1,
         "B": 2,
         "C": 3,
         "D": 4,
         "_deepnote_index_column": 0
        },
        {
         "            A": 5,
         "B": 6,
         "C": "nan",
         "D": 8,
         "_deepnote_index_column": 1
        },
        {
         "            A": 10,
         "B": 11,
         "C": 12,
         "D": "nan",
         "_deepnote_index_column": 2
        }
       ]
      },
      "text/plain": "               A     B     C    D\n0            1.0   2.0   3.0  4.0\n1            5.0   6.0   NaN  8.0\n2           10.0  11.0  12.0  NaN",
      "text/html": "<div>\n<style scoped>\n    .dataframe tbody tr th:only-of-type {\n        vertical-align: middle;\n    }\n\n    .dataframe tbody tr th {\n        vertical-align: top;\n    }\n\n    .dataframe thead th {\n        text-align: right;\n    }\n</style>\n<table border=\"1\" class=\"dataframe\">\n  <thead>\n    <tr style=\"text-align: right;\">\n      <th></th>\n      <th>A</th>\n      <th>B</th>\n      <th>C</th>\n      <th>D</th>\n    </tr>\n  </thead>\n  <tbody>\n    <tr>\n      <th>0</th>\n      <td>1.0</td>\n      <td>2.0</td>\n      <td>3.0</td>\n      <td>4.0</td>\n    </tr>\n    <tr>\n      <th>1</th>\n      <td>5.0</td>\n      <td>6.0</td>\n      <td>NaN</td>\n      <td>8.0</td>\n    </tr>\n    <tr>\n      <th>2</th>\n      <td>10.0</td>\n      <td>11.0</td>\n      <td>12.0</td>\n      <td>NaN</td>\n    </tr>\n  </tbody>\n</table>\n</div>"
     },
     "metadata": {}
    }
   ],
   "execution_count": 14
  },
  {
   "cell_type": "code",
   "metadata": {
    "deepnote_output_heights": [
     60.96875
    ],
    "cell_id": "00012-cebfa25f-03c3-4e76-bee4-166664e1f71b",
    "deepnote_to_be_reexecuted": false,
    "source_hash": "9d5d51c3",
    "execution_start": 1643447630534,
    "execution_millis": 47,
    "deepnote_cell_type": "code"
   },
   "source": "# drop rows that has less tha 4 real values\n\ndf.dropna(thresh=4) # row 1 and 2 has only 3 real values, so dropped",
   "outputs": [
    {
     "output_type": "execute_result",
     "execution_count": 15,
     "data": {
      "application/vnd.deepnote.dataframe.v3+json": {
       "column_count": 4,
       "row_count": 1,
       "columns": [
        {
         "name": "            A",
         "dtype": "float64",
         "stats": {
          "unique_count": 1,
          "nan_count": 0,
          "min": "1.0",
          "max": "1.0",
          "histogram": [
           {
            "bin_start": 0.5,
            "bin_end": 0.6,
            "count": 0
           },
           {
            "bin_start": 0.6,
            "bin_end": 0.7,
            "count": 0
           },
           {
            "bin_start": 0.7,
            "bin_end": 0.8,
            "count": 0
           },
           {
            "bin_start": 0.8,
            "bin_end": 0.9,
            "count": 0
           },
           {
            "bin_start": 0.9,
            "bin_end": 1,
            "count": 0
           },
           {
            "bin_start": 1,
            "bin_end": 1.1,
            "count": 1
           },
           {
            "bin_start": 1.1,
            "bin_end": 1.2000000000000002,
            "count": 0
           },
           {
            "bin_start": 1.2000000000000002,
            "bin_end": 1.3,
            "count": 0
           },
           {
            "bin_start": 1.3,
            "bin_end": 1.4,
            "count": 0
           },
           {
            "bin_start": 1.4,
            "bin_end": 1.5,
            "count": 0
           }
          ]
         }
        },
        {
         "name": "B",
         "dtype": "float64",
         "stats": {
          "unique_count": 1,
          "nan_count": 0,
          "min": "2.0",
          "max": "2.0",
          "histogram": [
           {
            "bin_start": 1.5,
            "bin_end": 1.6,
            "count": 0
           },
           {
            "bin_start": 1.6,
            "bin_end": 1.7,
            "count": 0
           },
           {
            "bin_start": 1.7,
            "bin_end": 1.8,
            "count": 0
           },
           {
            "bin_start": 1.8,
            "bin_end": 1.9,
            "count": 0
           },
           {
            "bin_start": 1.9,
            "bin_end": 2,
            "count": 0
           },
           {
            "bin_start": 2,
            "bin_end": 2.1,
            "count": 1
           },
           {
            "bin_start": 2.1,
            "bin_end": 2.2,
            "count": 0
           },
           {
            "bin_start": 2.2,
            "bin_end": 2.3,
            "count": 0
           },
           {
            "bin_start": 2.3,
            "bin_end": 2.4,
            "count": 0
           },
           {
            "bin_start": 2.4,
            "bin_end": 2.5,
            "count": 0
           }
          ]
         }
        },
        {
         "name": "C",
         "dtype": "float64",
         "stats": {
          "unique_count": 1,
          "nan_count": 0,
          "min": "3.0",
          "max": "3.0",
          "histogram": [
           {
            "bin_start": 2.5,
            "bin_end": 2.6,
            "count": 0
           },
           {
            "bin_start": 2.6,
            "bin_end": 2.7,
            "count": 0
           },
           {
            "bin_start": 2.7,
            "bin_end": 2.8,
            "count": 0
           },
           {
            "bin_start": 2.8,
            "bin_end": 2.9,
            "count": 0
           },
           {
            "bin_start": 2.9,
            "bin_end": 3,
            "count": 0
           },
           {
            "bin_start": 3,
            "bin_end": 3.1,
            "count": 1
           },
           {
            "bin_start": 3.1,
            "bin_end": 3.2,
            "count": 0
           },
           {
            "bin_start": 3.2,
            "bin_end": 3.3,
            "count": 0
           },
           {
            "bin_start": 3.3,
            "bin_end": 3.4,
            "count": 0
           },
           {
            "bin_start": 3.4,
            "bin_end": 3.5,
            "count": 0
           }
          ]
         }
        },
        {
         "name": "D",
         "dtype": "float64",
         "stats": {
          "unique_count": 1,
          "nan_count": 0,
          "min": "4.0",
          "max": "4.0",
          "histogram": [
           {
            "bin_start": 3.5,
            "bin_end": 3.6,
            "count": 0
           },
           {
            "bin_start": 3.6,
            "bin_end": 3.7,
            "count": 0
           },
           {
            "bin_start": 3.7,
            "bin_end": 3.8,
            "count": 0
           },
           {
            "bin_start": 3.8,
            "bin_end": 3.9,
            "count": 0
           },
           {
            "bin_start": 3.9,
            "bin_end": 4,
            "count": 0
           },
           {
            "bin_start": 4,
            "bin_end": 4.1,
            "count": 1
           },
           {
            "bin_start": 4.1,
            "bin_end": 4.2,
            "count": 0
           },
           {
            "bin_start": 4.2,
            "bin_end": 4.3,
            "count": 0
           },
           {
            "bin_start": 4.3,
            "bin_end": 4.4,
            "count": 0
           },
           {
            "bin_start": 4.4,
            "bin_end": 4.5,
            "count": 0
           }
          ]
         }
        },
        {
         "name": "_deepnote_index_column",
         "dtype": "int64"
        }
       ],
       "rows": [
        {
         "            A": 1,
         "B": 2,
         "C": 3,
         "D": 4,
         "_deepnote_index_column": 0
        }
       ]
      },
      "text/plain": "               A    B    C    D\n0            1.0  2.0  3.0  4.0",
      "text/html": "<div>\n<style scoped>\n    .dataframe tbody tr th:only-of-type {\n        vertical-align: middle;\n    }\n\n    .dataframe tbody tr th {\n        vertical-align: top;\n    }\n\n    .dataframe thead th {\n        text-align: right;\n    }\n</style>\n<table border=\"1\" class=\"dataframe\">\n  <thead>\n    <tr style=\"text-align: right;\">\n      <th></th>\n      <th>A</th>\n      <th>B</th>\n      <th>C</th>\n      <th>D</th>\n    </tr>\n  </thead>\n  <tbody>\n    <tr>\n      <th>0</th>\n      <td>1.0</td>\n      <td>2.0</td>\n      <td>3.0</td>\n      <td>4.0</td>\n    </tr>\n  </tbody>\n</table>\n</div>"
     },
     "metadata": {}
    }
   ],
   "execution_count": 15
  },
  {
   "cell_type": "code",
   "metadata": {
    "deepnote_output_heights": [
     89.953125
    ],
    "cell_id": "00013-3c1b2c8f-48e3-4036-bb46-3769150fc6ef",
    "deepnote_to_be_reexecuted": false,
    "source_hash": "39d1c849",
    "execution_start": 1643447630584,
    "execution_millis": 74,
    "deepnote_cell_type": "code"
   },
   "source": "# onlt drop rows where NAN apperas in the spicific Column\n\ndf.dropna(subset=['C']) # NAN appears in 1 row in C column\n",
   "outputs": [
    {
     "output_type": "execute_result",
     "execution_count": 16,
     "data": {
      "application/vnd.deepnote.dataframe.v3+json": {
       "column_count": 4,
       "row_count": 2,
       "columns": [
        {
         "name": "            A",
         "dtype": "float64",
         "stats": {
          "unique_count": 2,
          "nan_count": 0,
          "min": "1.0",
          "max": "10.0",
          "histogram": [
           {
            "bin_start": 1,
            "bin_end": 1.9,
            "count": 1
           },
           {
            "bin_start": 1.9,
            "bin_end": 2.8,
            "count": 0
           },
           {
            "bin_start": 2.8,
            "bin_end": 3.7,
            "count": 0
           },
           {
            "bin_start": 3.7,
            "bin_end": 4.6,
            "count": 0
           },
           {
            "bin_start": 4.6,
            "bin_end": 5.5,
            "count": 0
           },
           {
            "bin_start": 5.5,
            "bin_end": 6.4,
            "count": 0
           },
           {
            "bin_start": 6.4,
            "bin_end": 7.3,
            "count": 0
           },
           {
            "bin_start": 7.3,
            "bin_end": 8.2,
            "count": 0
           },
           {
            "bin_start": 8.2,
            "bin_end": 9.1,
            "count": 0
           },
           {
            "bin_start": 9.1,
            "bin_end": 10,
            "count": 1
           }
          ]
         }
        },
        {
         "name": "B",
         "dtype": "float64",
         "stats": {
          "unique_count": 2,
          "nan_count": 0,
          "min": "2.0",
          "max": "11.0",
          "histogram": [
           {
            "bin_start": 2,
            "bin_end": 2.9,
            "count": 1
           },
           {
            "bin_start": 2.9,
            "bin_end": 3.8,
            "count": 0
           },
           {
            "bin_start": 3.8,
            "bin_end": 4.7,
            "count": 0
           },
           {
            "bin_start": 4.7,
            "bin_end": 5.6,
            "count": 0
           },
           {
            "bin_start": 5.6,
            "bin_end": 6.5,
            "count": 0
           },
           {
            "bin_start": 6.5,
            "bin_end": 7.4,
            "count": 0
           },
           {
            "bin_start": 7.4,
            "bin_end": 8.3,
            "count": 0
           },
           {
            "bin_start": 8.3,
            "bin_end": 9.2,
            "count": 0
           },
           {
            "bin_start": 9.2,
            "bin_end": 10.1,
            "count": 0
           },
           {
            "bin_start": 10.1,
            "bin_end": 11,
            "count": 1
           }
          ]
         }
        },
        {
         "name": "C",
         "dtype": "float64",
         "stats": {
          "unique_count": 2,
          "nan_count": 0,
          "min": "3.0",
          "max": "12.0",
          "histogram": [
           {
            "bin_start": 3,
            "bin_end": 3.9,
            "count": 1
           },
           {
            "bin_start": 3.9,
            "bin_end": 4.8,
            "count": 0
           },
           {
            "bin_start": 4.8,
            "bin_end": 5.7,
            "count": 0
           },
           {
            "bin_start": 5.7,
            "bin_end": 6.6,
            "count": 0
           },
           {
            "bin_start": 6.6,
            "bin_end": 7.5,
            "count": 0
           },
           {
            "bin_start": 7.5,
            "bin_end": 8.4,
            "count": 0
           },
           {
            "bin_start": 8.4,
            "bin_end": 9.3,
            "count": 0
           },
           {
            "bin_start": 9.3,
            "bin_end": 10.2,
            "count": 0
           },
           {
            "bin_start": 10.2,
            "bin_end": 11.1,
            "count": 0
           },
           {
            "bin_start": 11.1,
            "bin_end": 12,
            "count": 1
           }
          ]
         }
        },
        {
         "name": "D",
         "dtype": "float64",
         "stats": {
          "unique_count": 1,
          "nan_count": 1,
          "min": "4.0",
          "max": "4.0",
          "histogram": [
           {
            "bin_start": 3.5,
            "bin_end": 3.6,
            "count": 0
           },
           {
            "bin_start": 3.6,
            "bin_end": 3.7,
            "count": 0
           },
           {
            "bin_start": 3.7,
            "bin_end": 3.8,
            "count": 0
           },
           {
            "bin_start": 3.8,
            "bin_end": 3.9,
            "count": 0
           },
           {
            "bin_start": 3.9,
            "bin_end": 4,
            "count": 0
           },
           {
            "bin_start": 4,
            "bin_end": 4.1,
            "count": 1
           },
           {
            "bin_start": 4.1,
            "bin_end": 4.2,
            "count": 0
           },
           {
            "bin_start": 4.2,
            "bin_end": 4.3,
            "count": 0
           },
           {
            "bin_start": 4.3,
            "bin_end": 4.4,
            "count": 0
           },
           {
            "bin_start": 4.4,
            "bin_end": 4.5,
            "count": 0
           }
          ]
         }
        },
        {
         "name": "_deepnote_index_column",
         "dtype": "int64"
        }
       ],
       "rows": [
        {
         "            A": 1,
         "B": 2,
         "C": 3,
         "D": 4,
         "_deepnote_index_column": 0
        },
        {
         "            A": 10,
         "B": 11,
         "C": 12,
         "D": "nan",
         "_deepnote_index_column": 2
        }
       ]
      },
      "text/plain": "               A     B     C    D\n0            1.0   2.0   3.0  4.0\n2           10.0  11.0  12.0  NaN",
      "text/html": "<div>\n<style scoped>\n    .dataframe tbody tr th:only-of-type {\n        vertical-align: middle;\n    }\n\n    .dataframe tbody tr th {\n        vertical-align: top;\n    }\n\n    .dataframe thead th {\n        text-align: right;\n    }\n</style>\n<table border=\"1\" class=\"dataframe\">\n  <thead>\n    <tr style=\"text-align: right;\">\n      <th></th>\n      <th>A</th>\n      <th>B</th>\n      <th>C</th>\n      <th>D</th>\n    </tr>\n  </thead>\n  <tbody>\n    <tr>\n      <th>0</th>\n      <td>1.0</td>\n      <td>2.0</td>\n      <td>3.0</td>\n      <td>4.0</td>\n    </tr>\n    <tr>\n      <th>2</th>\n      <td>10.0</td>\n      <td>11.0</td>\n      <td>12.0</td>\n      <td>NaN</td>\n    </tr>\n  </tbody>\n</table>\n</div>"
     },
     "metadata": {}
    }
   ],
   "execution_count": 16
  },
  {
   "cell_type": "markdown",
   "source": "#### Imputing Missing values",
   "metadata": {
    "cell_id": "00014-93bcb302-f373-4556-9471-1f8f8054b67a",
    "deepnote_cell_type": "markdown"
   }
  },
  {
   "cell_type": "code",
   "metadata": {
    "cell_id": "f334e649-f4a9-4808-a6bc-1af53a7058a9",
    "tags": [],
    "deepnote_to_be_reexecuted": false,
    "source_hash": "8f07c1e0",
    "execution_start": 1643447630655,
    "execution_millis": 5,
    "deepnote_output_heights": [
     78.796875
    ],
    "deepnote_cell_type": "code"
   },
   "source": "df['C']",
   "outputs": [
    {
     "output_type": "execute_result",
     "execution_count": 17,
     "data": {
      "text/plain": "0     3.0\n1     NaN\n2    12.0\nName: C, dtype: float64"
     },
     "metadata": {}
    }
   ],
   "execution_count": 17
  },
  {
   "cell_type": "code",
   "metadata": {
    "cell_id": "473480a9-6a8c-4805-b2b1-7a1b89cde490",
    "tags": [],
    "deepnote_to_be_reexecuted": false,
    "source_hash": "ac7c82f6",
    "execution_start": 1643447630657,
    "execution_millis": 17,
    "deepnote_output_heights": [
     78.796875
    ],
    "deepnote_cell_type": "code"
   },
   "source": "mean = df['C'].mean()\nmean\ndf['C'].fillna(mean)",
   "outputs": [
    {
     "output_type": "execute_result",
     "execution_count": 18,
     "data": {
      "text/plain": "0     3.0\n1     7.5\n2    12.0\nName: C, dtype: float64"
     },
     "metadata": {}
    }
   ],
   "execution_count": 18
  },
  {
   "cell_type": "code",
   "metadata": {
    "cell_id": "00015-fc932714-29f1-401b-a601-0469b8791de3",
    "deepnote_to_be_reexecuted": false,
    "source_hash": "c97d95d3",
    "execution_start": 1643447630674,
    "execution_millis": 8,
    "deepnote_cell_type": "code"
   },
   "source": "imp = SimpleImputer(missing_values=np.nan, strategy='mean')",
   "outputs": [],
   "execution_count": 19
  },
  {
   "cell_type": "code",
   "metadata": {
    "cell_id": "00016-79b325a3-5557-449a-b99d-03527b434ba3",
    "deepnote_to_be_reexecuted": false,
    "source_hash": "305d46c5",
    "execution_start": 1643447630689,
    "execution_millis": 51,
    "deepnote_cell_type": "code"
   },
   "source": "imr = SimpleImputer(missing_values= np.NaN, strategy='mean')",
   "outputs": [],
   "execution_count": 20
  },
  {
   "cell_type": "code",
   "metadata": {
    "cell_id": "00017-8bb852fc-c2d6-4c6f-a649-0c3e3a845f3f",
    "deepnote_to_be_reexecuted": false,
    "source_hash": "620a47a1",
    "execution_start": 1643447630741,
    "execution_millis": 4,
    "deepnote_output_heights": [
     59.59375
    ],
    "deepnote_cell_type": "code"
   },
   "source": "imr = imr.fit(df.values)\nimr.fit_transform(df.values)",
   "outputs": [
    {
     "output_type": "execute_result",
     "execution_count": 21,
     "data": {
      "text/plain": "array([[ 1. ,  2. ,  3. ,  4. ],\n       [ 5. ,  6. ,  7.5,  8. ],\n       [10. , 11. , 12. ,  6. ]])"
     },
     "metadata": {}
    }
   ],
   "execution_count": 21
  },
  {
   "cell_type": "code",
   "metadata": {
    "cell_id": "00018-2ec5fba0-4985-4ceb-98bf-3189da4609cb",
    "deepnote_to_be_reexecuted": false,
    "source_hash": "88ac90b4",
    "execution_start": 1643447630742,
    "execution_millis": 0,
    "deepnote_cell_type": "code"
   },
   "source": "imputed_data = imr.transform(df.values)",
   "outputs": [],
   "execution_count": 22
  },
  {
   "cell_type": "code",
   "metadata": {
    "deepnote_output_heights": [
     59.59375
    ],
    "cell_id": "00019-229e12a1-c3cb-455b-af45-b40dd4e3055d",
    "deepnote_to_be_reexecuted": false,
    "source_hash": "b517033f",
    "execution_start": 1643447630742,
    "execution_millis": 45,
    "deepnote_cell_type": "code"
   },
   "source": "imputed_data",
   "outputs": [
    {
     "output_type": "execute_result",
     "execution_count": 23,
     "data": {
      "text/plain": "array([[ 1. ,  2. ,  3. ,  4. ],\n       [ 5. ,  6. ,  7.5,  8. ],\n       [10. , 11. , 12. ,  6. ]])"
     },
     "metadata": {}
    }
   ],
   "execution_count": 23
  },
  {
   "cell_type": "markdown",
   "source": "#### Scikit Learn Estimator API",
   "metadata": {
    "cell_id": "00021-04db2b91-7c1b-4683-9ec8-9cebce768fc7",
    "deepnote_cell_type": "markdown"
   }
  },
  {
   "cell_type": "markdown",
   "source": "fit - learn the parameter from training data \n\ntransform - uses those learned paramters to trasform the data.",
   "metadata": {
    "cell_id": "00022-580217de-286c-4d58-9765-18a846335f22",
    "deepnote_cell_type": "markdown"
   }
  },
  {
   "cell_type": "markdown",
   "source": "## Handling Categorical Data",
   "metadata": {
    "cell_id": "00023-49eb008f-cdf9-4fa0-a866-4a898573ae3b",
    "deepnote_cell_type": "markdown"
   }
  },
  {
   "cell_type": "markdown",
   "source": "###### Nominal and Ordinal features \n 1. Ordinal - thoese featurs that can be sored e.g. T shirt Size XL > L > M > S\n 2. Nominal - that cannot be sorted e.g. T shirt Color , red, greeen,",
   "metadata": {
    "cell_id": "00024-85c22d22-ce12-4124-a7f3-89253706eb37",
    "deepnote_cell_type": "markdown"
   }
  },
  {
   "cell_type": "markdown",
   "source": "A+,| A ra | B\n3  | 2   | 1  ",
   "metadata": {
    "cell_id": "59fb6105-251a-46e1-b493-4515826609eb",
    "tags": [],
    "deepnote_cell_type": "markdown"
   }
  },
  {
   "cell_type": "code",
   "metadata": {
    "cell_id": "00025-b02b3131-66e1-41bb-86d3-71928b04dde8",
    "deepnote_to_be_reexecuted": false,
    "source_hash": "9b82ee11",
    "execution_start": 1643447630785,
    "execution_millis": 1756248,
    "deepnote_cell_type": "code"
   },
   "source": "import pandas as pd",
   "outputs": [],
   "execution_count": 24
  },
  {
   "cell_type": "code",
   "metadata": {
    "cell_id": "00026-92bf08e8-d4c3-4870-a786-015cfd27820d",
    "deepnote_to_be_reexecuted": false,
    "source_hash": "55a7fe84",
    "execution_start": 1643447630786,
    "execution_millis": 0,
    "deepnote_cell_type": "code"
   },
   "source": "df= pd.DataFrame([\n    ['greeen', 'M', 10.1, 'class1'],\n    ['red', 'L', 13.5, 'class2'],\n    ['blue', 'XL', 15.3, 'class1']\n])\n\ndf.columns = ['color', 'size','price', 'classlabel']\n",
   "outputs": [],
   "execution_count": 25
  },
  {
   "cell_type": "code",
   "metadata": {
    "deepnote_output_heights": [
     31
    ],
    "cell_id": "00027-8aacb027-3448-4c73-8047-dae8d91c6ffb",
    "deepnote_to_be_reexecuted": false,
    "source_hash": "f804c160",
    "execution_start": 1643447630828,
    "execution_millis": 31,
    "deepnote_cell_type": "code"
   },
   "source": "df",
   "outputs": [
    {
     "output_type": "execute_result",
     "execution_count": 26,
     "data": {
      "application/vnd.deepnote.dataframe.v3+json": {
       "column_count": 4,
       "row_count": 3,
       "columns": [
        {
         "name": "color",
         "dtype": "object",
         "stats": {
          "unique_count": 3,
          "nan_count": 0,
          "categories": [
           {
            "name": "greeen",
            "count": 1
           },
           {
            "name": "red",
            "count": 1
           },
           {
            "name": "blue",
            "count": 1
           }
          ]
         }
        },
        {
         "name": "size",
         "dtype": "object",
         "stats": {
          "unique_count": 3,
          "nan_count": 0,
          "categories": [
           {
            "name": "M",
            "count": 1
           },
           {
            "name": "L",
            "count": 1
           },
           {
            "name": "XL",
            "count": 1
           }
          ]
         }
        },
        {
         "name": "price",
         "dtype": "float64",
         "stats": {
          "unique_count": 3,
          "nan_count": 0,
          "min": "10.1",
          "max": "15.3",
          "histogram": [
           {
            "bin_start": 10.1,
            "bin_end": 10.62,
            "count": 1
           },
           {
            "bin_start": 10.62,
            "bin_end": 11.14,
            "count": 0
           },
           {
            "bin_start": 11.14,
            "bin_end": 11.66,
            "count": 0
           },
           {
            "bin_start": 11.66,
            "bin_end": 12.18,
            "count": 0
           },
           {
            "bin_start": 12.18,
            "bin_end": 12.7,
            "count": 0
           },
           {
            "bin_start": 12.7,
            "bin_end": 13.22,
            "count": 0
           },
           {
            "bin_start": 13.22,
            "bin_end": 13.74,
            "count": 1
           },
           {
            "bin_start": 13.74,
            "bin_end": 14.260000000000002,
            "count": 0
           },
           {
            "bin_start": 14.260000000000002,
            "bin_end": 14.780000000000001,
            "count": 0
           },
           {
            "bin_start": 14.780000000000001,
            "bin_end": 15.3,
            "count": 1
           }
          ]
         }
        },
        {
         "name": "classlabel",
         "dtype": "object",
         "stats": {
          "unique_count": 2,
          "nan_count": 0,
          "categories": [
           {
            "name": "class1",
            "count": 2
           },
           {
            "name": "class2",
            "count": 1
           }
          ]
         }
        },
        {
         "name": "_deepnote_index_column",
         "dtype": "int64"
        }
       ],
       "rows": [
        {
         "color": "greeen",
         "size": "M",
         "price": 10.1,
         "classlabel": "class1",
         "_deepnote_index_column": 0
        },
        {
         "color": "red",
         "size": "L",
         "price": 13.5,
         "classlabel": "class2",
         "_deepnote_index_column": 1
        },
        {
         "color": "blue",
         "size": "XL",
         "price": 15.3,
         "classlabel": "class1",
         "_deepnote_index_column": 2
        }
       ]
      },
      "text/plain": "    color size  price classlabel\n0  greeen    M   10.1     class1\n1     red    L   13.5     class2\n2    blue   XL   15.3     class1",
      "text/html": "<div>\n<style scoped>\n    .dataframe tbody tr th:only-of-type {\n        vertical-align: middle;\n    }\n\n    .dataframe tbody tr th {\n        vertical-align: top;\n    }\n\n    .dataframe thead th {\n        text-align: right;\n    }\n</style>\n<table border=\"1\" class=\"dataframe\">\n  <thead>\n    <tr style=\"text-align: right;\">\n      <th></th>\n      <th>color</th>\n      <th>size</th>\n      <th>price</th>\n      <th>classlabel</th>\n    </tr>\n  </thead>\n  <tbody>\n    <tr>\n      <th>0</th>\n      <td>greeen</td>\n      <td>M</td>\n      <td>10.1</td>\n      <td>class1</td>\n    </tr>\n    <tr>\n      <th>1</th>\n      <td>red</td>\n      <td>L</td>\n      <td>13.5</td>\n      <td>class2</td>\n    </tr>\n    <tr>\n      <th>2</th>\n      <td>blue</td>\n      <td>XL</td>\n      <td>15.3</td>\n      <td>class1</td>\n    </tr>\n  </tbody>\n</table>\n</div>"
     },
     "metadata": {}
    }
   ],
   "execution_count": 26
  },
  {
   "cell_type": "markdown",
   "source": "###### Mapping Ordinal Features",
   "metadata": {
    "cell_id": "00028-d0764166-73e8-46b9-96c1-858af6d8393a",
    "deepnote_cell_type": "markdown"
   }
  },
  {
   "cell_type": "markdown",
   "source": "e.g \nXL = L +1 = M+2",
   "metadata": {
    "cell_id": "00029-1e95a7ef-086e-4618-a6d6-0b2aeba23716",
    "deepnote_cell_type": "markdown"
   }
  },
  {
   "cell_type": "code",
   "metadata": {
    "cell_id": "00030-80994869-64fa-4639-860d-e494c0b0f3eb",
    "deepnote_to_be_reexecuted": false,
    "source_hash": "29207f87",
    "execution_start": 1643447630863,
    "execution_millis": 8,
    "deepnote_cell_type": "code"
   },
   "source": "size_mapping = {\n    'XL':3,\n    'L':2,\n    'M':1\n}",
   "outputs": [],
   "execution_count": 27
  },
  {
   "cell_type": "code",
   "metadata": {
    "cell_id": "00031-4ee80b70-e8bc-408a-99bc-e68cbb98decc",
    "deepnote_to_be_reexecuted": false,
    "source_hash": "3196dab7",
    "execution_start": 1643447630876,
    "execution_millis": 9,
    "deepnote_cell_type": "code"
   },
   "source": "df['size'] = df['size'].map(size_mapping)",
   "outputs": [],
   "execution_count": 28
  },
  {
   "cell_type": "code",
   "metadata": {
    "deepnote_output_heights": [
     31
    ],
    "cell_id": "00032-c7aa58c0-314e-439a-bcd4-6c4eeed9b5f6",
    "deepnote_to_be_reexecuted": false,
    "source_hash": "f804c160",
    "execution_start": 1643447630891,
    "execution_millis": 51,
    "deepnote_cell_type": "code"
   },
   "source": "df",
   "outputs": [
    {
     "output_type": "execute_result",
     "execution_count": 29,
     "data": {
      "application/vnd.deepnote.dataframe.v3+json": {
       "column_count": 4,
       "row_count": 3,
       "columns": [
        {
         "name": "color",
         "dtype": "object",
         "stats": {
          "unique_count": 3,
          "nan_count": 0,
          "categories": [
           {
            "name": "greeen",
            "count": 1
           },
           {
            "name": "red",
            "count": 1
           },
           {
            "name": "blue",
            "count": 1
           }
          ]
         }
        },
        {
         "name": "size",
         "dtype": "int64",
         "stats": {
          "unique_count": 3,
          "nan_count": 0,
          "min": "1",
          "max": "3",
          "histogram": [
           {
            "bin_start": 1,
            "bin_end": 1.2,
            "count": 1
           },
           {
            "bin_start": 1.2,
            "bin_end": 1.4,
            "count": 0
           },
           {
            "bin_start": 1.4,
            "bin_end": 1.6,
            "count": 0
           },
           {
            "bin_start": 1.6,
            "bin_end": 1.8,
            "count": 0
           },
           {
            "bin_start": 1.8,
            "bin_end": 2,
            "count": 0
           },
           {
            "bin_start": 2,
            "bin_end": 2.2,
            "count": 1
           },
           {
            "bin_start": 2.2,
            "bin_end": 2.4000000000000004,
            "count": 0
           },
           {
            "bin_start": 2.4000000000000004,
            "bin_end": 2.6,
            "count": 0
           },
           {
            "bin_start": 2.6,
            "bin_end": 2.8,
            "count": 0
           },
           {
            "bin_start": 2.8,
            "bin_end": 3,
            "count": 1
           }
          ]
         }
        },
        {
         "name": "price",
         "dtype": "float64",
         "stats": {
          "unique_count": 3,
          "nan_count": 0,
          "min": "10.1",
          "max": "15.3",
          "histogram": [
           {
            "bin_start": 10.1,
            "bin_end": 10.62,
            "count": 1
           },
           {
            "bin_start": 10.62,
            "bin_end": 11.14,
            "count": 0
           },
           {
            "bin_start": 11.14,
            "bin_end": 11.66,
            "count": 0
           },
           {
            "bin_start": 11.66,
            "bin_end": 12.18,
            "count": 0
           },
           {
            "bin_start": 12.18,
            "bin_end": 12.7,
            "count": 0
           },
           {
            "bin_start": 12.7,
            "bin_end": 13.22,
            "count": 0
           },
           {
            "bin_start": 13.22,
            "bin_end": 13.74,
            "count": 1
           },
           {
            "bin_start": 13.74,
            "bin_end": 14.260000000000002,
            "count": 0
           },
           {
            "bin_start": 14.260000000000002,
            "bin_end": 14.780000000000001,
            "count": 0
           },
           {
            "bin_start": 14.780000000000001,
            "bin_end": 15.3,
            "count": 1
           }
          ]
         }
        },
        {
         "name": "classlabel",
         "dtype": "object",
         "stats": {
          "unique_count": 2,
          "nan_count": 0,
          "categories": [
           {
            "name": "class1",
            "count": 2
           },
           {
            "name": "class2",
            "count": 1
           }
          ]
         }
        },
        {
         "name": "_deepnote_index_column",
         "dtype": "int64"
        }
       ],
       "rows": [
        {
         "color": "greeen",
         "size": 1,
         "price": 10.1,
         "classlabel": "class1",
         "_deepnote_index_column": 0
        },
        {
         "color": "red",
         "size": 2,
         "price": 13.5,
         "classlabel": "class2",
         "_deepnote_index_column": 1
        },
        {
         "color": "blue",
         "size": 3,
         "price": 15.3,
         "classlabel": "class1",
         "_deepnote_index_column": 2
        }
       ]
      },
      "text/plain": "    color  size  price classlabel\n0  greeen     1   10.1     class1\n1     red     2   13.5     class2\n2    blue     3   15.3     class1",
      "text/html": "<div>\n<style scoped>\n    .dataframe tbody tr th:only-of-type {\n        vertical-align: middle;\n    }\n\n    .dataframe tbody tr th {\n        vertical-align: top;\n    }\n\n    .dataframe thead th {\n        text-align: right;\n    }\n</style>\n<table border=\"1\" class=\"dataframe\">\n  <thead>\n    <tr style=\"text-align: right;\">\n      <th></th>\n      <th>color</th>\n      <th>size</th>\n      <th>price</th>\n      <th>classlabel</th>\n    </tr>\n  </thead>\n  <tbody>\n    <tr>\n      <th>0</th>\n      <td>greeen</td>\n      <td>1</td>\n      <td>10.1</td>\n      <td>class1</td>\n    </tr>\n    <tr>\n      <th>1</th>\n      <td>red</td>\n      <td>2</td>\n      <td>13.5</td>\n      <td>class2</td>\n    </tr>\n    <tr>\n      <th>2</th>\n      <td>blue</td>\n      <td>3</td>\n      <td>15.3</td>\n      <td>class1</td>\n    </tr>\n  </tbody>\n</table>\n</div>"
     },
     "metadata": {}
    }
   ],
   "execution_count": 29
  },
  {
   "cell_type": "markdown",
   "source": "#### Encoding the Class labels",
   "metadata": {
    "cell_id": "00033-30b96849-3bef-4ed1-8794-611c7b89f029",
    "deepnote_cell_type": "markdown"
   }
  },
  {
   "cell_type": "code",
   "metadata": {
    "cell_id": "00034-f2112284-9da5-433a-a634-b0e33232d1c1",
    "deepnote_to_be_reexecuted": false,
    "source_hash": "c2602aa8",
    "execution_start": 1643447630945,
    "execution_millis": 6,
    "deepnote_cell_type": "code"
   },
   "source": "import numpy as np",
   "outputs": [],
   "execution_count": 30
  },
  {
   "cell_type": "code",
   "metadata": {
    "deepnote_output_heights": [
     31
    ],
    "cell_id": "00035-0a2323f6-8dda-4fec-9290-c6cf50c23916",
    "deepnote_to_be_reexecuted": false,
    "source_hash": "f804c160",
    "execution_start": 1643447630959,
    "execution_millis": 47,
    "deepnote_cell_type": "code"
   },
   "source": "df",
   "outputs": [
    {
     "output_type": "execute_result",
     "execution_count": 31,
     "data": {
      "application/vnd.deepnote.dataframe.v3+json": {
       "column_count": 4,
       "row_count": 3,
       "columns": [
        {
         "name": "color",
         "dtype": "object",
         "stats": {
          "unique_count": 3,
          "nan_count": 0,
          "categories": [
           {
            "name": "greeen",
            "count": 1
           },
           {
            "name": "red",
            "count": 1
           },
           {
            "name": "blue",
            "count": 1
           }
          ]
         }
        },
        {
         "name": "size",
         "dtype": "int64",
         "stats": {
          "unique_count": 3,
          "nan_count": 0,
          "min": "1",
          "max": "3",
          "histogram": [
           {
            "bin_start": 1,
            "bin_end": 1.2,
            "count": 1
           },
           {
            "bin_start": 1.2,
            "bin_end": 1.4,
            "count": 0
           },
           {
            "bin_start": 1.4,
            "bin_end": 1.6,
            "count": 0
           },
           {
            "bin_start": 1.6,
            "bin_end": 1.8,
            "count": 0
           },
           {
            "bin_start": 1.8,
            "bin_end": 2,
            "count": 0
           },
           {
            "bin_start": 2,
            "bin_end": 2.2,
            "count": 1
           },
           {
            "bin_start": 2.2,
            "bin_end": 2.4000000000000004,
            "count": 0
           },
           {
            "bin_start": 2.4000000000000004,
            "bin_end": 2.6,
            "count": 0
           },
           {
            "bin_start": 2.6,
            "bin_end": 2.8,
            "count": 0
           },
           {
            "bin_start": 2.8,
            "bin_end": 3,
            "count": 1
           }
          ]
         }
        },
        {
         "name": "price",
         "dtype": "float64",
         "stats": {
          "unique_count": 3,
          "nan_count": 0,
          "min": "10.1",
          "max": "15.3",
          "histogram": [
           {
            "bin_start": 10.1,
            "bin_end": 10.62,
            "count": 1
           },
           {
            "bin_start": 10.62,
            "bin_end": 11.14,
            "count": 0
           },
           {
            "bin_start": 11.14,
            "bin_end": 11.66,
            "count": 0
           },
           {
            "bin_start": 11.66,
            "bin_end": 12.18,
            "count": 0
           },
           {
            "bin_start": 12.18,
            "bin_end": 12.7,
            "count": 0
           },
           {
            "bin_start": 12.7,
            "bin_end": 13.22,
            "count": 0
           },
           {
            "bin_start": 13.22,
            "bin_end": 13.74,
            "count": 1
           },
           {
            "bin_start": 13.74,
            "bin_end": 14.260000000000002,
            "count": 0
           },
           {
            "bin_start": 14.260000000000002,
            "bin_end": 14.780000000000001,
            "count": 0
           },
           {
            "bin_start": 14.780000000000001,
            "bin_end": 15.3,
            "count": 1
           }
          ]
         }
        },
        {
         "name": "classlabel",
         "dtype": "object",
         "stats": {
          "unique_count": 2,
          "nan_count": 0,
          "categories": [
           {
            "name": "class1",
            "count": 2
           },
           {
            "name": "class2",
            "count": 1
           }
          ]
         }
        },
        {
         "name": "_deepnote_index_column",
         "dtype": "int64"
        }
       ],
       "rows": [
        {
         "color": "greeen",
         "size": 1,
         "price": 10.1,
         "classlabel": "class1",
         "_deepnote_index_column": 0
        },
        {
         "color": "red",
         "size": 2,
         "price": 13.5,
         "classlabel": "class2",
         "_deepnote_index_column": 1
        },
        {
         "color": "blue",
         "size": 3,
         "price": 15.3,
         "classlabel": "class1",
         "_deepnote_index_column": 2
        }
       ]
      },
      "text/plain": "    color  size  price classlabel\n0  greeen     1   10.1     class1\n1     red     2   13.5     class2\n2    blue     3   15.3     class1",
      "text/html": "<div>\n<style scoped>\n    .dataframe tbody tr th:only-of-type {\n        vertical-align: middle;\n    }\n\n    .dataframe tbody tr th {\n        vertical-align: top;\n    }\n\n    .dataframe thead th {\n        text-align: right;\n    }\n</style>\n<table border=\"1\" class=\"dataframe\">\n  <thead>\n    <tr style=\"text-align: right;\">\n      <th></th>\n      <th>color</th>\n      <th>size</th>\n      <th>price</th>\n      <th>classlabel</th>\n    </tr>\n  </thead>\n  <tbody>\n    <tr>\n      <th>0</th>\n      <td>greeen</td>\n      <td>1</td>\n      <td>10.1</td>\n      <td>class1</td>\n    </tr>\n    <tr>\n      <th>1</th>\n      <td>red</td>\n      <td>2</td>\n      <td>13.5</td>\n      <td>class2</td>\n    </tr>\n    <tr>\n      <th>2</th>\n      <td>blue</td>\n      <td>3</td>\n      <td>15.3</td>\n      <td>class1</td>\n    </tr>\n  </tbody>\n</table>\n</div>"
     },
     "metadata": {}
    }
   ],
   "execution_count": 31
  },
  {
   "cell_type": "code",
   "metadata": {
    "cell_id": "00036-c1276ced-a2c8-4789-a0c7-30c4578bfc9a",
    "deepnote_to_be_reexecuted": false,
    "source_hash": "d2234646",
    "execution_start": 1643447631011,
    "execution_millis": 19,
    "deepnote_cell_type": "code"
   },
   "source": "class_mapping = {label:idx for idx, label in enumerate(np.unique(df['classlabel']))}\n",
   "outputs": [],
   "execution_count": 32
  },
  {
   "cell_type": "code",
   "metadata": {
    "cell_id": "7053e7e0-774d-4e17-a966-f2ec68d8b8b6",
    "tags": [],
    "deepnote_to_be_reexecuted": false,
    "source_hash": "d45c0a76",
    "execution_start": 1643447631043,
    "execution_millis": 24,
    "deepnote_output_heights": [
     21.1875
    ],
    "deepnote_cell_type": "code"
   },
   "source": "df['classlabel'].unique() ",
   "outputs": [
    {
     "output_type": "execute_result",
     "execution_count": 33,
     "data": {
      "text/plain": "array(['class1', 'class2'], dtype=object)"
     },
     "metadata": {}
    }
   ],
   "execution_count": 33
  },
  {
   "cell_type": "code",
   "metadata": {
    "deepnote_output_heights": [
     21.1875
    ],
    "cell_id": "00037-43d6f33f-2686-4201-8be6-5fb7475090e9",
    "deepnote_to_be_reexecuted": false,
    "source_hash": "1b248d8",
    "execution_start": 1643447631081,
    "execution_millis": 20,
    "deepnote_cell_type": "code"
   },
   "source": "class_mapping",
   "outputs": [
    {
     "output_type": "execute_result",
     "execution_count": 34,
     "data": {
      "text/plain": "{'class1': 0, 'class2': 1}"
     },
     "metadata": {}
    }
   ],
   "execution_count": 34
  },
  {
   "cell_type": "code",
   "metadata": {
    "cell_id": "00038-96948807-aa4c-49ae-86c4-94551e4e5e9f",
    "deepnote_to_be_reexecuted": false,
    "source_hash": "e7cc4751",
    "execution_start": 1643447631106,
    "execution_millis": 54,
    "deepnote_cell_type": "code"
   },
   "source": "df['classlabel'] =df['classlabel'].map(class_mapping)",
   "outputs": [],
   "execution_count": 35
  },
  {
   "cell_type": "code",
   "metadata": {
    "deepnote_output_heights": [
     31
    ],
    "cell_id": "00039-afa240b0-87b6-4f8c-b13f-bd9dfbf554ed",
    "deepnote_to_be_reexecuted": false,
    "source_hash": "f804c160",
    "execution_start": 1643447631160,
    "execution_millis": 316,
    "deepnote_cell_type": "code"
   },
   "source": "df",
   "outputs": [
    {
     "output_type": "execute_result",
     "execution_count": 36,
     "data": {
      "application/vnd.deepnote.dataframe.v3+json": {
       "column_count": 4,
       "row_count": 3,
       "columns": [
        {
         "name": "color",
         "dtype": "object",
         "stats": {
          "unique_count": 3,
          "nan_count": 0,
          "categories": [
           {
            "name": "greeen",
            "count": 1
           },
           {
            "name": "red",
            "count": 1
           },
           {
            "name": "blue",
            "count": 1
           }
          ]
         }
        },
        {
         "name": "size",
         "dtype": "int64",
         "stats": {
          "unique_count": 3,
          "nan_count": 0,
          "min": "1",
          "max": "3",
          "histogram": [
           {
            "bin_start": 1,
            "bin_end": 1.2,
            "count": 1
           },
           {
            "bin_start": 1.2,
            "bin_end": 1.4,
            "count": 0
           },
           {
            "bin_start": 1.4,
            "bin_end": 1.6,
            "count": 0
           },
           {
            "bin_start": 1.6,
            "bin_end": 1.8,
            "count": 0
           },
           {
            "bin_start": 1.8,
            "bin_end": 2,
            "count": 0
           },
           {
            "bin_start": 2,
            "bin_end": 2.2,
            "count": 1
           },
           {
            "bin_start": 2.2,
            "bin_end": 2.4000000000000004,
            "count": 0
           },
           {
            "bin_start": 2.4000000000000004,
            "bin_end": 2.6,
            "count": 0
           },
           {
            "bin_start": 2.6,
            "bin_end": 2.8,
            "count": 0
           },
           {
            "bin_start": 2.8,
            "bin_end": 3,
            "count": 1
           }
          ]
         }
        },
        {
         "name": "price",
         "dtype": "float64",
         "stats": {
          "unique_count": 3,
          "nan_count": 0,
          "min": "10.1",
          "max": "15.3",
          "histogram": [
           {
            "bin_start": 10.1,
            "bin_end": 10.62,
            "count": 1
           },
           {
            "bin_start": 10.62,
            "bin_end": 11.14,
            "count": 0
           },
           {
            "bin_start": 11.14,
            "bin_end": 11.66,
            "count": 0
           },
           {
            "bin_start": 11.66,
            "bin_end": 12.18,
            "count": 0
           },
           {
            "bin_start": 12.18,
            "bin_end": 12.7,
            "count": 0
           },
           {
            "bin_start": 12.7,
            "bin_end": 13.22,
            "count": 0
           },
           {
            "bin_start": 13.22,
            "bin_end": 13.74,
            "count": 1
           },
           {
            "bin_start": 13.74,
            "bin_end": 14.260000000000002,
            "count": 0
           },
           {
            "bin_start": 14.260000000000002,
            "bin_end": 14.780000000000001,
            "count": 0
           },
           {
            "bin_start": 14.780000000000001,
            "bin_end": 15.3,
            "count": 1
           }
          ]
         }
        },
        {
         "name": "classlabel",
         "dtype": "int64",
         "stats": {
          "unique_count": 2,
          "nan_count": 0,
          "min": "0",
          "max": "1",
          "histogram": [
           {
            "bin_start": 0,
            "bin_end": 0.1,
            "count": 2
           },
           {
            "bin_start": 0.1,
            "bin_end": 0.2,
            "count": 0
           },
           {
            "bin_start": 0.2,
            "bin_end": 0.30000000000000004,
            "count": 0
           },
           {
            "bin_start": 0.30000000000000004,
            "bin_end": 0.4,
            "count": 0
           },
           {
            "bin_start": 0.4,
            "bin_end": 0.5,
            "count": 0
           },
           {
            "bin_start": 0.5,
            "bin_end": 0.6000000000000001,
            "count": 0
           },
           {
            "bin_start": 0.6000000000000001,
            "bin_end": 0.7000000000000001,
            "count": 0
           },
           {
            "bin_start": 0.7000000000000001,
            "bin_end": 0.8,
            "count": 0
           },
           {
            "bin_start": 0.8,
            "bin_end": 0.9,
            "count": 0
           },
           {
            "bin_start": 0.9,
            "bin_end": 1,
            "count": 1
           }
          ]
         }
        },
        {
         "name": "_deepnote_index_column",
         "dtype": "int64"
        }
       ],
       "rows": [
        {
         "color": "greeen",
         "size": 1,
         "price": 10.1,
         "classlabel": 0,
         "_deepnote_index_column": 0
        },
        {
         "color": "red",
         "size": 2,
         "price": 13.5,
         "classlabel": 1,
         "_deepnote_index_column": 1
        },
        {
         "color": "blue",
         "size": 3,
         "price": 15.3,
         "classlabel": 0,
         "_deepnote_index_column": 2
        }
       ]
      },
      "text/plain": "    color  size  price  classlabel\n0  greeen     1   10.1           0\n1     red     2   13.5           1\n2    blue     3   15.3           0",
      "text/html": "<div>\n<style scoped>\n    .dataframe tbody tr th:only-of-type {\n        vertical-align: middle;\n    }\n\n    .dataframe tbody tr th {\n        vertical-align: top;\n    }\n\n    .dataframe thead th {\n        text-align: right;\n    }\n</style>\n<table border=\"1\" class=\"dataframe\">\n  <thead>\n    <tr style=\"text-align: right;\">\n      <th></th>\n      <th>color</th>\n      <th>size</th>\n      <th>price</th>\n      <th>classlabel</th>\n    </tr>\n  </thead>\n  <tbody>\n    <tr>\n      <th>0</th>\n      <td>greeen</td>\n      <td>1</td>\n      <td>10.1</td>\n      <td>0</td>\n    </tr>\n    <tr>\n      <th>1</th>\n      <td>red</td>\n      <td>2</td>\n      <td>13.5</td>\n      <td>1</td>\n    </tr>\n    <tr>\n      <th>2</th>\n      <td>blue</td>\n      <td>3</td>\n      <td>15.3</td>\n      <td>0</td>\n    </tr>\n  </tbody>\n</table>\n</div>"
     },
     "metadata": {}
    }
   ],
   "execution_count": 36
  },
  {
   "cell_type": "markdown",
   "source": "Scikit learn Label Encoder can also be used here",
   "metadata": {
    "cell_id": "00040-80851620-7de2-4092-9a3f-f463ec1bc33f",
    "deepnote_cell_type": "markdown"
   }
  },
  {
   "cell_type": "code",
   "metadata": {
    "cell_id": "00041-29465d72-752d-4acb-bb26-6b434b055249",
    "deepnote_to_be_reexecuted": false,
    "source_hash": "cce8941e",
    "execution_start": 1643447631174,
    "execution_millis": 7,
    "deepnote_cell_type": "code"
   },
   "source": "from sklearn.preprocessing import LabelEncoder",
   "outputs": [],
   "execution_count": 37
  },
  {
   "cell_type": "code",
   "metadata": {
    "cell_id": "00042-18e33b3d-df63-44bc-84c5-038b991cb5b3",
    "deepnote_to_be_reexecuted": false,
    "source_hash": "337d75ad",
    "execution_start": 1643447631187,
    "execution_millis": 54,
    "deepnote_cell_type": "code"
   },
   "source": "class_le = LabelEncoder()\n",
   "outputs": [],
   "execution_count": 38
  },
  {
   "cell_type": "code",
   "metadata": {
    "cell_id": "00043-59b8aadd-d794-4a6c-ad45-c7efa7adbb4e",
    "deepnote_to_be_reexecuted": false,
    "source_hash": "d2d19826",
    "execution_start": 1643447631241,
    "execution_millis": 0,
    "deepnote_cell_type": "code"
   },
   "source": "y = class_le.fit_transform(df['classlabel'].values)",
   "outputs": [],
   "execution_count": 39
  },
  {
   "cell_type": "code",
   "metadata": {
    "deepnote_output_heights": [
     59
    ],
    "cell_id": "00044-f0d47851-97cb-4b7c-8707-cab7d1e90612",
    "deepnote_to_be_reexecuted": false,
    "source_hash": "18b6fb23",
    "execution_start": 1643447631242,
    "execution_millis": 312,
    "deepnote_cell_type": "code"
   },
   "source": "X = df.values\nX",
   "outputs": [
    {
     "output_type": "execute_result",
     "execution_count": 40,
     "data": {
      "text/plain": "array([['greeen', 1, 10.1, 0],\n       ['red', 2, 13.5, 1],\n       ['blue', 3, 15.3, 0]], dtype=object)"
     },
     "metadata": {}
    }
   ],
   "execution_count": 40
  },
  {
   "cell_type": "markdown",
   "source": "#### Performing one Hot Encoding in Nominal Feaures",
   "metadata": {
    "cell_id": "00045-8ebeeacf-0c55-4ded-ad30-725b0df44221",
    "deepnote_cell_type": "markdown"
   }
  },
  {
   "cell_type": "code",
   "metadata": {
    "cell_id": "00046-a9191d29-d9b1-4bc0-9f3f-a98fb0c52762",
    "deepnote_to_be_reexecuted": false,
    "source_hash": "5ddfb3dc",
    "execution_start": 1643447631243,
    "execution_millis": 42,
    "deepnote_cell_type": "code"
   },
   "source": "from sklearn.preprocessing import OneHotEncoder\n\nfrom sklearn.compose import ColumnTransformer",
   "outputs": [],
   "execution_count": 41
  },
  {
   "cell_type": "code",
   "metadata": {
    "cell_id": "00047-78bd103e-26e1-40fa-8ed1-eb3e40af6f7f",
    "deepnote_to_be_reexecuted": false,
    "source_hash": "afbd12af",
    "execution_start": 1643447631286,
    "execution_millis": 1756628,
    "deepnote_cell_type": "code"
   },
   "source": "ct = ColumnTransformer(\n    [('one_hot_encoder', OneHotEncoder(categories='auto'),[0])],   # The column numbers to be transformed (here is [0] but can be [0, 1, 3])\n    remainder='passthrough'                                         # Leave the rest of the columns untouched\n)\n",
   "outputs": [],
   "execution_count": 42
  },
  {
   "cell_type": "code",
   "metadata": {
    "cell_id": "00048-647fccf4-d071-4c8f-913a-00bf8c5e7c25",
    "deepnote_to_be_reexecuted": false,
    "source_hash": "55d4f61c",
    "execution_start": 1643447631287,
    "execution_millis": 1756603,
    "deepnote_cell_type": "code"
   },
   "source": "X = ct.fit_transform(X)",
   "outputs": [],
   "execution_count": 43
  },
  {
   "cell_type": "code",
   "metadata": {
    "deepnote_output_heights": [
     59
    ],
    "cell_id": "00049-ee7b1193-c63b-40c5-8cc8-7cf27ef121b5",
    "deepnote_to_be_reexecuted": false,
    "source_hash": "b2696ff6",
    "execution_start": 1643447631329,
    "execution_millis": 1756587,
    "deepnote_cell_type": "code"
   },
   "source": "X",
   "outputs": [
    {
     "output_type": "execute_result",
     "execution_count": 44,
     "data": {
      "text/plain": "array([[0.0, 1.0, 0.0, 1, 10.1, 0],\n       [0.0, 0.0, 1.0, 2, 13.5, 1],\n       [1.0, 0.0, 0.0, 3, 15.3, 0]], dtype=object)"
     },
     "metadata": {}
    }
   ],
   "execution_count": 44
  },
  {
   "cell_type": "markdown",
   "source": "green -> (0 1 0)\n\nred -> (0 0 1)\n\nblue -> (1 0 0)",
   "metadata": {
    "cell_id": "00050-c51d5c60-baca-4fce-9805-8ffa3579760f",
    "deepnote_cell_type": "markdown"
   }
  },
  {
   "cell_type": "code",
   "metadata": {
    "cell_id": "00051-eda065fc-9c91-4816-8333-f51673cc8a0b",
    "deepnote_to_be_reexecuted": false,
    "source_hash": "624f1cab",
    "execution_start": 1643447631330,
    "execution_millis": 1756627,
    "deepnote_cell_type": "code"
   },
   "source": "# can also use pandas get_dummies",
   "outputs": [],
   "execution_count": 45
  },
  {
   "cell_type": "code",
   "metadata": {
    "deepnote_output_heights": [
     31
    ],
    "cell_id": "00052-df4a80de-8929-4283-81a8-47fe1048cf91",
    "deepnote_to_be_reexecuted": false,
    "source_hash": "30b66a6",
    "execution_start": 1643447631330,
    "execution_millis": 227,
    "deepnote_cell_type": "code"
   },
   "source": "pd.get_dummies(df[['price', 'color', 'size']])\n",
   "outputs": [
    {
     "output_type": "execute_result",
     "execution_count": 46,
     "data": {
      "application/vnd.deepnote.dataframe.v3+json": {
       "column_count": 5,
       "row_count": 3,
       "columns": [
        {
         "name": "price",
         "dtype": "float64",
         "stats": {
          "unique_count": 3,
          "nan_count": 0,
          "min": "10.1",
          "max": "15.3",
          "histogram": [
           {
            "bin_start": 10.1,
            "bin_end": 10.62,
            "count": 1
           },
           {
            "bin_start": 10.62,
            "bin_end": 11.14,
            "count": 0
           },
           {
            "bin_start": 11.14,
            "bin_end": 11.66,
            "count": 0
           },
           {
            "bin_start": 11.66,
            "bin_end": 12.18,
            "count": 0
           },
           {
            "bin_start": 12.18,
            "bin_end": 12.7,
            "count": 0
           },
           {
            "bin_start": 12.7,
            "bin_end": 13.22,
            "count": 0
           },
           {
            "bin_start": 13.22,
            "bin_end": 13.74,
            "count": 1
           },
           {
            "bin_start": 13.74,
            "bin_end": 14.260000000000002,
            "count": 0
           },
           {
            "bin_start": 14.260000000000002,
            "bin_end": 14.780000000000001,
            "count": 0
           },
           {
            "bin_start": 14.780000000000001,
            "bin_end": 15.3,
            "count": 1
           }
          ]
         }
        },
        {
         "name": "size",
         "dtype": "int64",
         "stats": {
          "unique_count": 3,
          "nan_count": 0,
          "min": "1",
          "max": "3",
          "histogram": [
           {
            "bin_start": 1,
            "bin_end": 1.2,
            "count": 1
           },
           {
            "bin_start": 1.2,
            "bin_end": 1.4,
            "count": 0
           },
           {
            "bin_start": 1.4,
            "bin_end": 1.6,
            "count": 0
           },
           {
            "bin_start": 1.6,
            "bin_end": 1.8,
            "count": 0
           },
           {
            "bin_start": 1.8,
            "bin_end": 2,
            "count": 0
           },
           {
            "bin_start": 2,
            "bin_end": 2.2,
            "count": 1
           },
           {
            "bin_start": 2.2,
            "bin_end": 2.4000000000000004,
            "count": 0
           },
           {
            "bin_start": 2.4000000000000004,
            "bin_end": 2.6,
            "count": 0
           },
           {
            "bin_start": 2.6,
            "bin_end": 2.8,
            "count": 0
           },
           {
            "bin_start": 2.8,
            "bin_end": 3,
            "count": 1
           }
          ]
         }
        },
        {
         "name": "color_blue",
         "dtype": "uint8",
         "stats": {
          "unique_count": 2,
          "nan_count": 0,
          "min": "0",
          "max": "1",
          "histogram": [
           {
            "bin_start": 0,
            "bin_end": 0.1,
            "count": 2
           },
           {
            "bin_start": 0.1,
            "bin_end": 0.2,
            "count": 0
           },
           {
            "bin_start": 0.2,
            "bin_end": 0.30000000000000004,
            "count": 0
           },
           {
            "bin_start": 0.30000000000000004,
            "bin_end": 0.4,
            "count": 0
           },
           {
            "bin_start": 0.4,
            "bin_end": 0.5,
            "count": 0
           },
           {
            "bin_start": 0.5,
            "bin_end": 0.6000000000000001,
            "count": 0
           },
           {
            "bin_start": 0.6000000000000001,
            "bin_end": 0.7000000000000001,
            "count": 0
           },
           {
            "bin_start": 0.7000000000000001,
            "bin_end": 0.8,
            "count": 0
           },
           {
            "bin_start": 0.8,
            "bin_end": 0.9,
            "count": 0
           },
           {
            "bin_start": 0.9,
            "bin_end": 1,
            "count": 1
           }
          ]
         }
        },
        {
         "name": "color_greeen",
         "dtype": "uint8",
         "stats": {
          "unique_count": 2,
          "nan_count": 0,
          "min": "0",
          "max": "1",
          "histogram": [
           {
            "bin_start": 0,
            "bin_end": 0.1,
            "count": 2
           },
           {
            "bin_start": 0.1,
            "bin_end": 0.2,
            "count": 0
           },
           {
            "bin_start": 0.2,
            "bin_end": 0.30000000000000004,
            "count": 0
           },
           {
            "bin_start": 0.30000000000000004,
            "bin_end": 0.4,
            "count": 0
           },
           {
            "bin_start": 0.4,
            "bin_end": 0.5,
            "count": 0
           },
           {
            "bin_start": 0.5,
            "bin_end": 0.6000000000000001,
            "count": 0
           },
           {
            "bin_start": 0.6000000000000001,
            "bin_end": 0.7000000000000001,
            "count": 0
           },
           {
            "bin_start": 0.7000000000000001,
            "bin_end": 0.8,
            "count": 0
           },
           {
            "bin_start": 0.8,
            "bin_end": 0.9,
            "count": 0
           },
           {
            "bin_start": 0.9,
            "bin_end": 1,
            "count": 1
           }
          ]
         }
        },
        {
         "name": "color_red",
         "dtype": "uint8",
         "stats": {
          "unique_count": 2,
          "nan_count": 0,
          "min": "0",
          "max": "1",
          "histogram": [
           {
            "bin_start": 0,
            "bin_end": 0.1,
            "count": 2
           },
           {
            "bin_start": 0.1,
            "bin_end": 0.2,
            "count": 0
           },
           {
            "bin_start": 0.2,
            "bin_end": 0.30000000000000004,
            "count": 0
           },
           {
            "bin_start": 0.30000000000000004,
            "bin_end": 0.4,
            "count": 0
           },
           {
            "bin_start": 0.4,
            "bin_end": 0.5,
            "count": 0
           },
           {
            "bin_start": 0.5,
            "bin_end": 0.6000000000000001,
            "count": 0
           },
           {
            "bin_start": 0.6000000000000001,
            "bin_end": 0.7000000000000001,
            "count": 0
           },
           {
            "bin_start": 0.7000000000000001,
            "bin_end": 0.8,
            "count": 0
           },
           {
            "bin_start": 0.8,
            "bin_end": 0.9,
            "count": 0
           },
           {
            "bin_start": 0.9,
            "bin_end": 1,
            "count": 1
           }
          ]
         }
        },
        {
         "name": "_deepnote_index_column",
         "dtype": "int64"
        }
       ],
       "rows": [
        {
         "price": 10.1,
         "size": 1,
         "color_blue": 0,
         "color_greeen": 1,
         "color_red": 0,
         "_deepnote_index_column": 0
        },
        {
         "price": 13.5,
         "size": 2,
         "color_blue": 0,
         "color_greeen": 0,
         "color_red": 1,
         "_deepnote_index_column": 1
        },
        {
         "price": 15.3,
         "size": 3,
         "color_blue": 1,
         "color_greeen": 0,
         "color_red": 0,
         "_deepnote_index_column": 2
        }
       ]
      },
      "text/plain": "   price  size  color_blue  color_greeen  color_red\n0   10.1     1           0             1          0\n1   13.5     2           0             0          1\n2   15.3     3           1             0          0",
      "text/html": "<div>\n<style scoped>\n    .dataframe tbody tr th:only-of-type {\n        vertical-align: middle;\n    }\n\n    .dataframe tbody tr th {\n        vertical-align: top;\n    }\n\n    .dataframe thead th {\n        text-align: right;\n    }\n</style>\n<table border=\"1\" class=\"dataframe\">\n  <thead>\n    <tr style=\"text-align: right;\">\n      <th></th>\n      <th>price</th>\n      <th>size</th>\n      <th>color_blue</th>\n      <th>color_greeen</th>\n      <th>color_red</th>\n    </tr>\n  </thead>\n  <tbody>\n    <tr>\n      <th>0</th>\n      <td>10.1</td>\n      <td>1</td>\n      <td>0</td>\n      <td>1</td>\n      <td>0</td>\n    </tr>\n    <tr>\n      <th>1</th>\n      <td>13.5</td>\n      <td>2</td>\n      <td>0</td>\n      <td>0</td>\n      <td>1</td>\n    </tr>\n    <tr>\n      <th>2</th>\n      <td>15.3</td>\n      <td>3</td>\n      <td>1</td>\n      <td>0</td>\n      <td>0</td>\n    </tr>\n  </tbody>\n</table>\n</div>"
     },
     "metadata": {}
    }
   ],
   "execution_count": 46
  },
  {
   "cell_type": "markdown",
   "source": "## Partitioning data in train - test\ntraining set ko data\n\nvalidation set ko data\n\ntesting set ko data ",
   "metadata": {
    "cell_id": "00053-96c64ff8-6137-4c8a-95ed-5d4d50fe0b1e",
    "deepnote_cell_type": "markdown"
   }
  },
  {
   "cell_type": "markdown",
   "source": " Train Test Split\n \nThe train_test_split function is for splitting a single dataset for two different purposes: training and testing. The testing subset is for building your model. The testing subset is for using the model on unknown data to evaluate the performance of the model",
   "metadata": {
    "cell_id": "73beddb3-006f-482a-9edb-377adf8d2f50",
    "tags": [],
    "deepnote_cell_type": "markdown"
   }
  },
  {
   "cell_type": "markdown",
   "source": "Train Dataset: Used to fit the machine learning model.\n\nTest Dataset: Used to evaluate the fit machine learning model.",
   "metadata": {
    "cell_id": "eb041ccc-8f54-49c9-80f9-2e30adf7ff3e",
    "tags": [],
    "deepnote_cell_type": "markdown"
   }
  },
  {
   "cell_type": "code",
   "metadata": {
    "cell_id": "00054-f93e04a7-c85d-42a0-ae97-1180a8451d51",
    "deepnote_to_be_reexecuted": false,
    "source_hash": "d8d9ef37",
    "execution_start": 1643447631379,
    "execution_millis": 6,
    "deepnote_cell_type": "code"
   },
   "source": "import pandas as pd\nfrom sklearn.model_selection import train_test_split",
   "outputs": [],
   "execution_count": 47
  },
  {
   "cell_type": "code",
   "metadata": {
    "cell_id": "00055-a5b157c5-9f0b-4c24-a0f6-a25d040b1f7a",
    "deepnote_to_be_reexecuted": false,
    "source_hash": "95417039",
    "execution_start": 1643447631393,
    "execution_millis": 465,
    "deepnote_cell_type": "code"
   },
   "source": "df_wine = pd.read_csv('https://archive.ics.uci.edu/''ml/machine-learning-databases/''wine/wine.data', header=None)",
   "outputs": [],
   "execution_count": 48
  },
  {
   "cell_type": "code",
   "metadata": {
    "cell_id": "00056-cb0f5474-057d-4dbb-97c1-7ef5fcd1128f",
    "deepnote_to_be_reexecuted": false,
    "source_hash": "4ae49f30",
    "execution_start": 1643447631861,
    "execution_millis": 13,
    "deepnote_cell_type": "code"
   },
   "source": "df_wine.columns =['Class label', 'Alcohol', 'Malic acid', 'Ash',\n                 'Alcalinity of ash',\n                  'Magnesium',\n                  'Total phenols', 'Flavanoids',\n                  'Nonflavanoid phenols',\n                  'Proanthocyanins',\n                  'Color intensity', 'Hue',\n                  'OD280/OD315 of diluted wines',\n                  'Proline'\n                 ]",
   "outputs": [],
   "execution_count": 49
  },
  {
   "cell_type": "code",
   "metadata": {
    "deepnote_output_heights": [
     31
    ],
    "cell_id": "00057-2c01caae-207b-41ea-9c12-a31c77bf37b4",
    "deepnote_to_be_reexecuted": false,
    "source_hash": "95f4800d",
    "execution_start": 1643447631878,
    "execution_millis": 206,
    "deepnote_cell_type": "code"
   },
   "source": "df_wine",
   "outputs": [
    {
     "output_type": "execute_result",
     "execution_count": 50,
     "data": {
      "application/vnd.deepnote.dataframe.v3+json": {
       "column_count": 14,
       "row_count": 178,
       "columns": [
        {
         "name": "Class label",
         "dtype": "int64",
         "stats": {
          "unique_count": 3,
          "nan_count": 0,
          "min": "1",
          "max": "3",
          "histogram": [
           {
            "bin_start": 1,
            "bin_end": 1.2,
            "count": 59
           },
           {
            "bin_start": 1.2,
            "bin_end": 1.4,
            "count": 0
           },
           {
            "bin_start": 1.4,
            "bin_end": 1.6,
            "count": 0
           },
           {
            "bin_start": 1.6,
            "bin_end": 1.8,
            "count": 0
           },
           {
            "bin_start": 1.8,
            "bin_end": 2,
            "count": 0
           },
           {
            "bin_start": 2,
            "bin_end": 2.2,
            "count": 71
           },
           {
            "bin_start": 2.2,
            "bin_end": 2.4000000000000004,
            "count": 0
           },
           {
            "bin_start": 2.4000000000000004,
            "bin_end": 2.6,
            "count": 0
           },
           {
            "bin_start": 2.6,
            "bin_end": 2.8,
            "count": 0
           },
           {
            "bin_start": 2.8,
            "bin_end": 3,
            "count": 48
           }
          ]
         }
        },
        {
         "name": "Alcohol",
         "dtype": "float64",
         "stats": {
          "unique_count": 126,
          "nan_count": 0,
          "min": "11.03",
          "max": "14.83",
          "histogram": [
           {
            "bin_start": 11.03,
            "bin_end": 11.41,
            "count": 1
           },
           {
            "bin_start": 11.41,
            "bin_end": 11.79,
            "count": 10
           },
           {
            "bin_start": 11.79,
            "bin_end": 12.17,
            "count": 19
           },
           {
            "bin_start": 12.17,
            "bin_end": 12.549999999999999,
            "count": 31
           },
           {
            "bin_start": 12.549999999999999,
            "bin_end": 12.93,
            "count": 21
           },
           {
            "bin_start": 12.93,
            "bin_end": 13.309999999999999,
            "count": 27
           },
           {
            "bin_start": 13.309999999999999,
            "bin_end": 13.69,
            "count": 25
           },
           {
            "bin_start": 13.69,
            "bin_end": 14.07,
            "count": 25
           },
           {
            "bin_start": 14.07,
            "bin_end": 14.45,
            "count": 17
           },
           {
            "bin_start": 14.45,
            "bin_end": 14.83,
            "count": 2
           }
          ]
         }
        },
        {
         "name": "Malic acid",
         "dtype": "float64",
         "stats": {
          "unique_count": 133,
          "nan_count": 0,
          "min": "0.74",
          "max": "5.8",
          "histogram": [
           {
            "bin_start": 0.74,
            "bin_end": 1.246,
            "count": 18
           },
           {
            "bin_start": 1.246,
            "bin_end": 1.752,
            "count": 59
           },
           {
            "bin_start": 1.752,
            "bin_end": 2.258,
            "count": 33
           },
           {
            "bin_start": 2.258,
            "bin_end": 2.7640000000000002,
            "count": 16
           },
           {
            "bin_start": 2.7640000000000002,
            "bin_end": 3.2700000000000005,
            "count": 14
           },
           {
            "bin_start": 3.2700000000000005,
            "bin_end": 3.776,
            "count": 11
           },
           {
            "bin_start": 3.776,
            "bin_end": 4.282,
            "count": 14
           },
           {
            "bin_start": 4.282,
            "bin_end": 4.788,
            "count": 7
           },
           {
            "bin_start": 4.788,
            "bin_end": 5.2940000000000005,
            "count": 3
           },
           {
            "bin_start": 5.2940000000000005,
            "bin_end": 5.8,
            "count": 3
           }
          ]
         }
        },
        {
         "name": "Ash",
         "dtype": "float64",
         "stats": {
          "unique_count": 79,
          "nan_count": 0,
          "min": "1.36",
          "max": "3.23",
          "histogram": [
           {
            "bin_start": 1.36,
            "bin_end": 1.5470000000000002,
            "count": 1
           },
           {
            "bin_start": 1.5470000000000002,
            "bin_end": 1.734,
            "count": 3
           },
           {
            "bin_start": 1.734,
            "bin_end": 1.921,
            "count": 7
           },
           {
            "bin_start": 1.921,
            "bin_end": 2.108,
            "count": 14
           },
           {
            "bin_start": 2.108,
            "bin_end": 2.295,
            "count": 43
           },
           {
            "bin_start": 2.295,
            "bin_end": 2.482,
            "count": 54
           },
           {
            "bin_start": 2.482,
            "bin_end": 2.669,
            "count": 31
           },
           {
            "bin_start": 2.669,
            "bin_end": 2.856,
            "count": 20
           },
           {
            "bin_start": 2.856,
            "bin_end": 3.043,
            "count": 3
           },
           {
            "bin_start": 3.043,
            "bin_end": 3.23,
            "count": 2
           }
          ]
         }
        },
        {
         "name": "Alcalinity of ash",
         "dtype": "float64",
         "stats": {
          "unique_count": 63,
          "nan_count": 0,
          "min": "10.6",
          "max": "30.0",
          "histogram": [
           {
            "bin_start": 10.6,
            "bin_end": 12.54,
            "count": 5
           },
           {
            "bin_start": 12.54,
            "bin_end": 14.48,
            "count": 3
           },
           {
            "bin_start": 14.48,
            "bin_end": 16.42,
            "count": 24
           },
           {
            "bin_start": 16.42,
            "bin_end": 18.36,
            "count": 32
           },
           {
            "bin_start": 18.36,
            "bin_end": 20.299999999999997,
            "count": 47
           },
           {
            "bin_start": 20.299999999999997,
            "bin_end": 22.240000000000002,
            "count": 34
           },
           {
            "bin_start": 22.240000000000002,
            "bin_end": 24.18,
            "count": 18
           },
           {
            "bin_start": 24.18,
            "bin_end": 26.119999999999997,
            "count": 10
           },
           {
            "bin_start": 26.119999999999997,
            "bin_end": 28.060000000000002,
            "count": 2
           },
           {
            "bin_start": 28.060000000000002,
            "bin_end": 30,
            "count": 3
           }
          ]
         }
        },
        {
         "name": "Magnesium",
         "dtype": "int64",
         "stats": {
          "unique_count": 53,
          "nan_count": 0,
          "min": "70",
          "max": "162",
          "histogram": [
           {
            "bin_start": 70,
            "bin_end": 79.2,
            "count": 4
           },
           {
            "bin_start": 79.2,
            "bin_end": 88.4,
            "count": 43
           },
           {
            "bin_start": 88.4,
            "bin_end": 97.6,
            "count": 40
           },
           {
            "bin_start": 97.6,
            "bin_end": 106.8,
            "count": 43
           },
           {
            "bin_start": 106.8,
            "bin_end": 116,
            "count": 24
           },
           {
            "bin_start": 116,
            "bin_end": 125.19999999999999,
            "count": 15
           },
           {
            "bin_start": 125.19999999999999,
            "bin_end": 134.39999999999998,
            "count": 5
           },
           {
            "bin_start": 134.39999999999998,
            "bin_end": 143.6,
            "count": 2
           },
           {
            "bin_start": 143.6,
            "bin_end": 152.8,
            "count": 1
           },
           {
            "bin_start": 152.8,
            "bin_end": 162,
            "count": 1
           }
          ]
         }
        },
        {
         "name": "Total phenols",
         "dtype": "float64",
         "stats": {
          "unique_count": 97,
          "nan_count": 0,
          "min": "0.98",
          "max": "3.88",
          "histogram": [
           {
            "bin_start": 0.98,
            "bin_end": 1.27,
            "count": 4
           },
           {
            "bin_start": 1.27,
            "bin_end": 1.56,
            "count": 22
           },
           {
            "bin_start": 1.56,
            "bin_end": 1.8499999999999999,
            "count": 26
           },
           {
            "bin_start": 1.8499999999999999,
            "bin_end": 2.1399999999999997,
            "count": 24
           },
           {
            "bin_start": 2.1399999999999997,
            "bin_end": 2.4299999999999997,
            "count": 20
           },
           {
            "bin_start": 2.4299999999999997,
            "bin_end": 2.7199999999999998,
            "count": 30
           },
           {
            "bin_start": 2.7199999999999998,
            "bin_end": 3.01,
            "count": 33
           },
           {
            "bin_start": 3.01,
            "bin_end": 3.3,
            "count": 10
           },
           {
            "bin_start": 3.3,
            "bin_end": 3.59,
            "count": 7
           },
           {
            "bin_start": 3.59,
            "bin_end": 3.88,
            "count": 2
           }
          ]
         }
        },
        {
         "name": "Flavanoids",
         "dtype": "float64",
         "stats": {
          "unique_count": 132,
          "nan_count": 0,
          "min": "0.34",
          "max": "5.08",
          "histogram": [
           {
            "bin_start": 0.34,
            "bin_end": 0.8140000000000001,
            "count": 33
           },
           {
            "bin_start": 0.8140000000000001,
            "bin_end": 1.288,
            "count": 18
           },
           {
            "bin_start": 1.288,
            "bin_end": 1.7620000000000002,
            "count": 23
           },
           {
            "bin_start": 1.7620000000000002,
            "bin_end": 2.236,
            "count": 20
           },
           {
            "bin_start": 2.236,
            "bin_end": 2.71,
            "count": 32
           },
           {
            "bin_start": 2.71,
            "bin_end": 3.184,
            "count": 32
           },
           {
            "bin_start": 3.184,
            "bin_end": 3.658,
            "count": 14
           },
           {
            "bin_start": 3.658,
            "bin_end": 4.132000000000001,
            "count": 5
           },
           {
            "bin_start": 4.132000000000001,
            "bin_end": 4.606,
            "count": 0
           },
           {
            "bin_start": 4.606,
            "bin_end": 5.08,
            "count": 1
           }
          ]
         }
        },
        {
         "name": "Nonflavanoid phenols",
         "dtype": "float64",
         "stats": {
          "unique_count": 39,
          "nan_count": 0,
          "min": "0.13",
          "max": "0.66",
          "histogram": [
           {
            "bin_start": 0.13,
            "bin_end": 0.183,
            "count": 8
           },
           {
            "bin_start": 0.183,
            "bin_end": 0.23600000000000002,
            "count": 16
           },
           {
            "bin_start": 0.23600000000000002,
            "bin_end": 0.28900000000000003,
            "count": 33
           },
           {
            "bin_start": 0.28900000000000003,
            "bin_end": 0.342,
            "count": 38
           },
           {
            "bin_start": 0.342,
            "bin_end": 0.395,
            "count": 14
           },
           {
            "bin_start": 0.395,
            "bin_end": 0.44800000000000006,
            "count": 25
           },
           {
            "bin_start": 0.44800000000000006,
            "bin_end": 0.5010000000000001,
            "count": 16
           },
           {
            "bin_start": 0.5010000000000001,
            "bin_end": 0.554,
            "count": 13
           },
           {
            "bin_start": 0.554,
            "bin_end": 0.607,
            "count": 7
           },
           {
            "bin_start": 0.607,
            "bin_end": 0.66,
            "count": 8
           }
          ]
         }
        },
        {
         "name": "Proanthocyanins",
         "dtype": "float64",
         "stats": {
          "unique_count": 101,
          "nan_count": 0,
          "min": "0.41",
          "max": "3.58",
          "histogram": [
           {
            "bin_start": 0.41,
            "bin_end": 0.727,
            "count": 8
           },
           {
            "bin_start": 0.727,
            "bin_end": 1.044,
            "count": 25
           },
           {
            "bin_start": 1.044,
            "bin_end": 1.361,
            "count": 31
           },
           {
            "bin_start": 1.361,
            "bin_end": 1.678,
            "count": 43
           },
           {
            "bin_start": 1.678,
            "bin_end": 1.9949999999999999,
            "count": 36
           },
           {
            "bin_start": 1.9949999999999999,
            "bin_end": 2.3120000000000003,
            "count": 17
           },
           {
            "bin_start": 2.3120000000000003,
            "bin_end": 2.629,
            "count": 8
           },
           {
            "bin_start": 2.629,
            "bin_end": 2.946,
            "count": 7
           },
           {
            "bin_start": 2.946,
            "bin_end": 3.2630000000000003,
            "count": 1
           },
           {
            "bin_start": 3.2630000000000003,
            "bin_end": 3.58,
            "count": 2
           }
          ]
         }
        },
        {
         "name": "Color intensity",
         "dtype": "float64",
         "stats": {
          "unique_count": 132,
          "nan_count": 0,
          "min": "1.28",
          "max": "13.0",
          "histogram": [
           {
            "bin_start": 1.28,
            "bin_end": 2.452,
            "count": 16
           },
           {
            "bin_start": 2.452,
            "bin_end": 3.6240000000000006,
            "count": 42
           },
           {
            "bin_start": 3.6240000000000006,
            "bin_end": 4.796,
            "count": 32
           },
           {
            "bin_start": 4.796,
            "bin_end": 5.968000000000001,
            "count": 38
           },
           {
            "bin_start": 5.968000000000001,
            "bin_end": 7.1400000000000015,
            "count": 17
           },
           {
            "bin_start": 7.1400000000000015,
            "bin_end": 8.312000000000001,
            "count": 13
           },
           {
            "bin_start": 8.312000000000001,
            "bin_end": 9.484,
            "count": 10
           },
           {
            "bin_start": 9.484,
            "bin_end": 10.656,
            "count": 6
           },
           {
            "bin_start": 10.656,
            "bin_end": 11.828000000000001,
            "count": 3
           },
           {
            "bin_start": 11.828000000000001,
            "bin_end": 13,
            "count": 1
           }
          ]
         }
        },
        {
         "name": "Hue",
         "dtype": "float64",
         "stats": {
          "unique_count": 78,
          "nan_count": 0,
          "min": "0.48",
          "max": "1.71",
          "histogram": [
           {
            "bin_start": 0.48,
            "bin_end": 0.603,
            "count": 17
           },
           {
            "bin_start": 0.603,
            "bin_end": 0.726,
            "count": 16
           },
           {
            "bin_start": 0.726,
            "bin_end": 0.849,
            "count": 20
           },
           {
            "bin_start": 0.849,
            "bin_end": 0.972,
            "count": 37
           },
           {
            "bin_start": 0.972,
            "bin_end": 1.095,
            "count": 38
           },
           {
            "bin_start": 1.095,
            "bin_end": 1.218,
            "count": 24
           },
           {
            "bin_start": 1.218,
            "bin_end": 1.341,
            "count": 20
           },
           {
            "bin_start": 1.341,
            "bin_end": 1.464,
            "count": 5
           },
           {
            "bin_start": 1.464,
            "bin_end": 1.587,
            "count": 0
           },
           {
            "bin_start": 1.587,
            "bin_end": 1.71,
            "count": 1
           }
          ]
         }
        },
        {
         "name": "OD280/OD315 of diluted wines",
         "dtype": "float64",
         "stats": {
          "unique_count": 122,
          "nan_count": 0,
          "min": "1.27",
          "max": "4.0",
          "histogram": [
           {
            "bin_start": 1.27,
            "bin_end": 1.5430000000000001,
            "count": 13
           },
           {
            "bin_start": 1.5430000000000001,
            "bin_end": 1.816,
            "count": 24
           },
           {
            "bin_start": 1.816,
            "bin_end": 2.089,
            "count": 14
           },
           {
            "bin_start": 2.089,
            "bin_end": 2.362,
            "count": 12
           },
           {
            "bin_start": 2.362,
            "bin_end": 2.6350000000000002,
            "count": 12
           },
           {
            "bin_start": 2.6350000000000002,
            "bin_end": 2.9080000000000004,
            "count": 32
           },
           {
            "bin_start": 2.9080000000000004,
            "bin_end": 3.181,
            "count": 28
           },
           {
            "bin_start": 3.181,
            "bin_end": 3.454,
            "count": 25
           },
           {
            "bin_start": 3.454,
            "bin_end": 3.7270000000000003,
            "count": 15
           },
           {
            "bin_start": 3.7270000000000003,
            "bin_end": 4,
            "count": 3
           }
          ]
         }
        },
        {
         "name": "Proline",
         "dtype": "int64",
         "stats": {
          "unique_count": 121,
          "nan_count": 0,
          "min": "278",
          "max": "1680",
          "histogram": [
           {
            "bin_start": 278,
            "bin_end": 418.2,
            "count": 22
           },
           {
            "bin_start": 418.2,
            "bin_end": 558.4,
            "count": 37
           },
           {
            "bin_start": 558.4,
            "bin_end": 698.5999999999999,
            "count": 41
           },
           {
            "bin_start": 698.5999999999999,
            "bin_end": 838.8,
            "count": 19
           },
           {
            "bin_start": 838.8,
            "bin_end": 979,
            "count": 13
           },
           {
            "bin_start": 979,
            "bin_end": 1119.1999999999998,
            "count": 19
           },
           {
            "bin_start": 1119.1999999999998,
            "bin_end": 1259.3999999999999,
            "count": 8
           },
           {
            "bin_start": 1259.3999999999999,
            "bin_end": 1399.6,
            "count": 13
           },
           {
            "bin_start": 1399.6,
            "bin_end": 1539.8,
            "count": 4
           },
           {
            "bin_start": 1539.8,
            "bin_end": 1680,
            "count": 2
           }
          ]
         }
        },
        {
         "name": "_deepnote_index_column",
         "dtype": "int64"
        }
       ],
       "rows": [
        {
         "Class label": 1,
         "Alcohol": 14.23,
         "Malic acid": 1.71,
         "Ash": 2.43,
         "Alcalinity of ash": 15.6,
         "Magnesium": 127,
         "Total phenols": 2.8,
         "Flavanoids": 3.06,
         "Nonflavanoid phenols": 0.28,
         "Proanthocyanins": 2.29,
         "Color intensity": 5.64,
         "Hue": 1.04,
         "OD280/OD315 of diluted wines": 3.92,
         "Proline": 1065,
         "_deepnote_index_column": 0
        },
        {
         "Class label": 1,
         "Alcohol": 13.2,
         "Malic acid": 1.78,
         "Ash": 2.14,
         "Alcalinity of ash": 11.2,
         "Magnesium": 100,
         "Total phenols": 2.65,
         "Flavanoids": 2.76,
         "Nonflavanoid phenols": 0.26,
         "Proanthocyanins": 1.28,
         "Color intensity": 4.38,
         "Hue": 1.05,
         "OD280/OD315 of diluted wines": 3.4,
         "Proline": 1050,
         "_deepnote_index_column": 1
        },
        {
         "Class label": 1,
         "Alcohol": 13.16,
         "Malic acid": 2.36,
         "Ash": 2.67,
         "Alcalinity of ash": 18.6,
         "Magnesium": 101,
         "Total phenols": 2.8,
         "Flavanoids": 3.24,
         "Nonflavanoid phenols": 0.3,
         "Proanthocyanins": 2.81,
         "Color intensity": 5.68,
         "Hue": 1.03,
         "OD280/OD315 of diluted wines": 3.17,
         "Proline": 1185,
         "_deepnote_index_column": 2
        },
        {
         "Class label": 1,
         "Alcohol": 14.37,
         "Malic acid": 1.95,
         "Ash": 2.5,
         "Alcalinity of ash": 16.8,
         "Magnesium": 113,
         "Total phenols": 3.85,
         "Flavanoids": 3.49,
         "Nonflavanoid phenols": 0.24,
         "Proanthocyanins": 2.18,
         "Color intensity": 7.8,
         "Hue": 0.86,
         "OD280/OD315 of diluted wines": 3.45,
         "Proline": 1480,
         "_deepnote_index_column": 3
        },
        {
         "Class label": 1,
         "Alcohol": 13.24,
         "Malic acid": 2.59,
         "Ash": 2.87,
         "Alcalinity of ash": 21,
         "Magnesium": 118,
         "Total phenols": 2.8,
         "Flavanoids": 2.69,
         "Nonflavanoid phenols": 0.39,
         "Proanthocyanins": 1.82,
         "Color intensity": 4.32,
         "Hue": 1.04,
         "OD280/OD315 of diluted wines": 2.93,
         "Proline": 735,
         "_deepnote_index_column": 4
        },
        {
         "Class label": 1,
         "Alcohol": 14.2,
         "Malic acid": 1.76,
         "Ash": 2.45,
         "Alcalinity of ash": 15.2,
         "Magnesium": 112,
         "Total phenols": 3.27,
         "Flavanoids": 3.39,
         "Nonflavanoid phenols": 0.34,
         "Proanthocyanins": 1.97,
         "Color intensity": 6.75,
         "Hue": 1.05,
         "OD280/OD315 of diluted wines": 2.85,
         "Proline": 1450,
         "_deepnote_index_column": 5
        },
        {
         "Class label": 1,
         "Alcohol": 14.39,
         "Malic acid": 1.87,
         "Ash": 2.45,
         "Alcalinity of ash": 14.6,
         "Magnesium": 96,
         "Total phenols": 2.5,
         "Flavanoids": 2.52,
         "Nonflavanoid phenols": 0.3,
         "Proanthocyanins": 1.98,
         "Color intensity": 5.25,
         "Hue": 1.02,
         "OD280/OD315 of diluted wines": 3.58,
         "Proline": 1290,
         "_deepnote_index_column": 6
        },
        {
         "Class label": 1,
         "Alcohol": 14.06,
         "Malic acid": 2.15,
         "Ash": 2.61,
         "Alcalinity of ash": 17.6,
         "Magnesium": 121,
         "Total phenols": 2.6,
         "Flavanoids": 2.51,
         "Nonflavanoid phenols": 0.31,
         "Proanthocyanins": 1.25,
         "Color intensity": 5.05,
         "Hue": 1.06,
         "OD280/OD315 of diluted wines": 3.58,
         "Proline": 1295,
         "_deepnote_index_column": 7
        },
        {
         "Class label": 1,
         "Alcohol": 14.83,
         "Malic acid": 1.64,
         "Ash": 2.17,
         "Alcalinity of ash": 14,
         "Magnesium": 97,
         "Total phenols": 2.8,
         "Flavanoids": 2.98,
         "Nonflavanoid phenols": 0.29,
         "Proanthocyanins": 1.98,
         "Color intensity": 5.2,
         "Hue": 1.08,
         "OD280/OD315 of diluted wines": 2.85,
         "Proline": 1045,
         "_deepnote_index_column": 8
        },
        {
         "Class label": 1,
         "Alcohol": 13.86,
         "Malic acid": 1.35,
         "Ash": 2.27,
         "Alcalinity of ash": 16,
         "Magnesium": 98,
         "Total phenols": 2.98,
         "Flavanoids": 3.15,
         "Nonflavanoid phenols": 0.22,
         "Proanthocyanins": 1.85,
         "Color intensity": 7.22,
         "Hue": 1.01,
         "OD280/OD315 of diluted wines": 3.55,
         "Proline": 1045,
         "_deepnote_index_column": 9
        }
       ]
      },
      "text/plain": "     Class label  Alcohol  Malic acid   Ash  Alcalinity of ash  Magnesium  \\\n0              1    14.23        1.71  2.43               15.6        127   \n1              1    13.20        1.78  2.14               11.2        100   \n2              1    13.16        2.36  2.67               18.6        101   \n3              1    14.37        1.95  2.50               16.8        113   \n4              1    13.24        2.59  2.87               21.0        118   \n..           ...      ...         ...   ...                ...        ...   \n173            3    13.71        5.65  2.45               20.5         95   \n174            3    13.40        3.91  2.48               23.0        102   \n175            3    13.27        4.28  2.26               20.0        120   \n176            3    13.17        2.59  2.37               20.0        120   \n177            3    14.13        4.10  2.74               24.5         96   \n\n     Total phenols  Flavanoids  Nonflavanoid phenols  Proanthocyanins  \\\n0             2.80        3.06                  0.28             2.29   \n1             2.65        2.76                  0.26             1.28   \n2             2.80        3.24                  0.30             2.81   \n3             3.85        3.49                  0.24             2.18   \n4             2.80        2.69                  0.39             1.82   \n..             ...         ...                   ...              ...   \n173           1.68        0.61                  0.52             1.06   \n174           1.80        0.75                  0.43             1.41   \n175           1.59        0.69                  0.43             1.35   \n176           1.65        0.68                  0.53             1.46   \n177           2.05        0.76                  0.56             1.35   \n\n     Color intensity   Hue  OD280/OD315 of diluted wines  Proline  \n0               5.64  1.04                          3.92     1065  \n1               4.38  1.05                          3.40     1050  \n2               5.68  1.03                          3.17     1185  \n3               7.80  0.86                          3.45     1480  \n4               4.32  1.04                          2.93      735  \n..               ...   ...                           ...      ...  \n173             7.70  0.64                          1.74      740  \n174             7.30  0.70                          1.56      750  \n175            10.20  0.59                          1.56      835  \n176             9.30  0.60                          1.62      840  \n177             9.20  0.61                          1.60      560  \n\n[178 rows x 14 columns]",
      "text/html": "<div>\n<style scoped>\n    .dataframe tbody tr th:only-of-type {\n        vertical-align: middle;\n    }\n\n    .dataframe tbody tr th {\n        vertical-align: top;\n    }\n\n    .dataframe thead th {\n        text-align: right;\n    }\n</style>\n<table border=\"1\" class=\"dataframe\">\n  <thead>\n    <tr style=\"text-align: right;\">\n      <th></th>\n      <th>Class label</th>\n      <th>Alcohol</th>\n      <th>Malic acid</th>\n      <th>Ash</th>\n      <th>Alcalinity of ash</th>\n      <th>Magnesium</th>\n      <th>Total phenols</th>\n      <th>Flavanoids</th>\n      <th>Nonflavanoid phenols</th>\n      <th>Proanthocyanins</th>\n      <th>Color intensity</th>\n      <th>Hue</th>\n      <th>OD280/OD315 of diluted wines</th>\n      <th>Proline</th>\n    </tr>\n  </thead>\n  <tbody>\n    <tr>\n      <th>0</th>\n      <td>1</td>\n      <td>14.23</td>\n      <td>1.71</td>\n      <td>2.43</td>\n      <td>15.6</td>\n      <td>127</td>\n      <td>2.80</td>\n      <td>3.06</td>\n      <td>0.28</td>\n      <td>2.29</td>\n      <td>5.64</td>\n      <td>1.04</td>\n      <td>3.92</td>\n      <td>1065</td>\n    </tr>\n    <tr>\n      <th>1</th>\n      <td>1</td>\n      <td>13.20</td>\n      <td>1.78</td>\n      <td>2.14</td>\n      <td>11.2</td>\n      <td>100</td>\n      <td>2.65</td>\n      <td>2.76</td>\n      <td>0.26</td>\n      <td>1.28</td>\n      <td>4.38</td>\n      <td>1.05</td>\n      <td>3.40</td>\n      <td>1050</td>\n    </tr>\n    <tr>\n      <th>2</th>\n      <td>1</td>\n      <td>13.16</td>\n      <td>2.36</td>\n      <td>2.67</td>\n      <td>18.6</td>\n      <td>101</td>\n      <td>2.80</td>\n      <td>3.24</td>\n      <td>0.30</td>\n      <td>2.81</td>\n      <td>5.68</td>\n      <td>1.03</td>\n      <td>3.17</td>\n      <td>1185</td>\n    </tr>\n    <tr>\n      <th>3</th>\n      <td>1</td>\n      <td>14.37</td>\n      <td>1.95</td>\n      <td>2.50</td>\n      <td>16.8</td>\n      <td>113</td>\n      <td>3.85</td>\n      <td>3.49</td>\n      <td>0.24</td>\n      <td>2.18</td>\n      <td>7.80</td>\n      <td>0.86</td>\n      <td>3.45</td>\n      <td>1480</td>\n    </tr>\n    <tr>\n      <th>4</th>\n      <td>1</td>\n      <td>13.24</td>\n      <td>2.59</td>\n      <td>2.87</td>\n      <td>21.0</td>\n      <td>118</td>\n      <td>2.80</td>\n      <td>2.69</td>\n      <td>0.39</td>\n      <td>1.82</td>\n      <td>4.32</td>\n      <td>1.04</td>\n      <td>2.93</td>\n      <td>735</td>\n    </tr>\n    <tr>\n      <th>...</th>\n      <td>...</td>\n      <td>...</td>\n      <td>...</td>\n      <td>...</td>\n      <td>...</td>\n      <td>...</td>\n      <td>...</td>\n      <td>...</td>\n      <td>...</td>\n      <td>...</td>\n      <td>...</td>\n      <td>...</td>\n      <td>...</td>\n      <td>...</td>\n    </tr>\n    <tr>\n      <th>173</th>\n      <td>3</td>\n      <td>13.71</td>\n      <td>5.65</td>\n      <td>2.45</td>\n      <td>20.5</td>\n      <td>95</td>\n      <td>1.68</td>\n      <td>0.61</td>\n      <td>0.52</td>\n      <td>1.06</td>\n      <td>7.70</td>\n      <td>0.64</td>\n      <td>1.74</td>\n      <td>740</td>\n    </tr>\n    <tr>\n      <th>174</th>\n      <td>3</td>\n      <td>13.40</td>\n      <td>3.91</td>\n      <td>2.48</td>\n      <td>23.0</td>\n      <td>102</td>\n      <td>1.80</td>\n      <td>0.75</td>\n      <td>0.43</td>\n      <td>1.41</td>\n      <td>7.30</td>\n      <td>0.70</td>\n      <td>1.56</td>\n      <td>750</td>\n    </tr>\n    <tr>\n      <th>175</th>\n      <td>3</td>\n      <td>13.27</td>\n      <td>4.28</td>\n      <td>2.26</td>\n      <td>20.0</td>\n      <td>120</td>\n      <td>1.59</td>\n      <td>0.69</td>\n      <td>0.43</td>\n      <td>1.35</td>\n      <td>10.20</td>\n      <td>0.59</td>\n      <td>1.56</td>\n      <td>835</td>\n    </tr>\n    <tr>\n      <th>176</th>\n      <td>3</td>\n      <td>13.17</td>\n      <td>2.59</td>\n      <td>2.37</td>\n      <td>20.0</td>\n      <td>120</td>\n      <td>1.65</td>\n      <td>0.68</td>\n      <td>0.53</td>\n      <td>1.46</td>\n      <td>9.30</td>\n      <td>0.60</td>\n      <td>1.62</td>\n      <td>840</td>\n    </tr>\n    <tr>\n      <th>177</th>\n      <td>3</td>\n      <td>14.13</td>\n      <td>4.10</td>\n      <td>2.74</td>\n      <td>24.5</td>\n      <td>96</td>\n      <td>2.05</td>\n      <td>0.76</td>\n      <td>0.56</td>\n      <td>1.35</td>\n      <td>9.20</td>\n      <td>0.61</td>\n      <td>1.60</td>\n      <td>560</td>\n    </tr>\n  </tbody>\n</table>\n<p>178 rows × 14 columns</p>\n</div>"
     },
     "metadata": {}
    }
   ],
   "execution_count": 50
  },
  {
   "cell_type": "code",
   "metadata": {
    "deepnote_output_heights": [
     21.1875
    ],
    "cell_id": "00058-850c25f8-cb31-4763-96ee-35ea195e1058",
    "deepnote_to_be_reexecuted": false,
    "source_hash": "4691072d",
    "execution_start": 1643447632081,
    "execution_millis": 3,
    "deepnote_cell_type": "code"
   },
   "source": "np.unique(df_wine['Class label'])",
   "outputs": [
    {
     "output_type": "execute_result",
     "execution_count": 51,
     "data": {
      "text/plain": "array([1, 2, 3])"
     },
     "metadata": {}
    }
   ],
   "execution_count": 51
  },
  {
   "cell_type": "markdown",
   "source": "",
   "metadata": {
    "cell_id": "e6a5ed60-0247-4458-88f2-fbce26b52cc6",
    "tags": [],
    "deepnote_cell_type": "markdown"
   }
  },
  {
   "cell_type": "markdown",
   "source": "",
   "metadata": {
    "cell_id": "0eeb0b70-4f3c-437b-8663-7b70335604e8",
    "tags": [],
    "deepnote_cell_type": "markdown"
   }
  },
  {
   "cell_type": "code",
   "metadata": {
    "cell_id": "00059-56ada865-5365-4736-98c1-b11511d10079",
    "deepnote_to_be_reexecuted": false,
    "source_hash": "185b2581",
    "execution_start": 1643447632082,
    "execution_millis": 1756534,
    "deepnote_cell_type": "code"
   },
   "source": "from sklearn.model_selection import train_test_split\n",
   "outputs": [],
   "execution_count": 52
  },
  {
   "cell_type": "code",
   "metadata": {
    "cell_id": "00060-e77dee86-b3bd-4be1-b031-63c7d90b8fdb",
    "deepnote_to_be_reexecuted": false,
    "source_hash": "dd2efbce",
    "execution_start": 1643447632083,
    "execution_millis": 1756534,
    "deepnote_output_heights": [
     204.828125
    ],
    "deepnote_cell_type": "code"
   },
   "source": "X ,y = df_wine.iloc[:,1:].values, df_wine.iloc[:, 0].values\n",
   "outputs": [],
   "execution_count": 53
  },
  {
   "cell_type": "code",
   "metadata": {
    "cell_id": "00061-0f7313bf-b18e-4f4a-8f8b-51b2f6d9f0cb",
    "deepnote_to_be_reexecuted": false,
    "source_hash": "bf1ad5b2",
    "execution_start": 1643447632125,
    "execution_millis": 1756573,
    "deepnote_cell_type": "code"
   },
   "source": "X_train,X_test, y_train, y_test = train_test_split(X, y , test_size =0.3, random_state =42, stratify =y)",
   "outputs": [],
   "execution_count": 54
  },
  {
   "cell_type": "code",
   "metadata": {
    "deepnote_output_heights": [
     611
    ],
    "cell_id": "00062-fdfd09e6-693b-4781-a756-8a6fb98dc8b5",
    "deepnote_to_be_reexecuted": false,
    "source_hash": "d65cf08f",
    "execution_start": 1643447632126,
    "execution_millis": 14,
    "deepnote_cell_type": "code"
   },
   "source": "X_test",
   "outputs": [
    {
     "output_type": "execute_result",
     "execution_count": 55,
     "data": {
      "text/plain": "array([[1.316e+01, 2.360e+00, 2.670e+00, 1.860e+01, 1.010e+02, 2.800e+00,\n        3.240e+00, 3.000e-01, 2.810e+00, 5.680e+00, 1.030e+00, 3.170e+00,\n        1.185e+03],\n       [1.217e+01, 1.450e+00, 2.530e+00, 1.900e+01, 1.040e+02, 1.890e+00,\n        1.750e+00, 4.500e-01, 1.030e+00, 2.950e+00, 1.450e+00, 2.230e+00,\n        3.550e+02],\n       [1.419e+01, 1.590e+00, 2.480e+00, 1.650e+01, 1.080e+02, 3.300e+00,\n        3.930e+00, 3.200e-01, 1.860e+00, 8.700e+00, 1.230e+00, 2.820e+00,\n        1.680e+03],\n       [1.406e+01, 2.150e+00, 2.610e+00, 1.760e+01, 1.210e+02, 2.600e+00,\n        2.510e+00, 3.100e-01, 1.250e+00, 5.050e+00, 1.060e+00, 3.580e+00,\n        1.295e+03],\n       [1.307e+01, 1.500e+00, 2.100e+00, 1.550e+01, 9.800e+01, 2.400e+00,\n        2.640e+00, 2.800e-01, 1.370e+00, 3.700e+00, 1.180e+00, 2.690e+00,\n        1.020e+03],\n       [1.372e+01, 1.430e+00, 2.500e+00, 1.670e+01, 1.080e+02, 3.400e+00,\n        3.670e+00, 1.900e-01, 2.040e+00, 6.800e+00, 8.900e-01, 2.870e+00,\n        1.285e+03],\n       [1.384e+01, 4.120e+00, 2.380e+00, 1.950e+01, 8.900e+01, 1.800e+00,\n        8.300e-01, 4.800e-01, 1.560e+00, 9.010e+00, 5.700e-01, 1.640e+00,\n        4.800e+02],\n       [1.165e+01, 1.670e+00, 2.620e+00, 2.600e+01, 8.800e+01, 1.920e+00,\n        1.610e+00, 4.000e-01, 1.340e+00, 2.600e+00, 1.360e+00, 3.210e+00,\n        5.620e+02],\n       [1.156e+01, 2.050e+00, 3.230e+00, 2.850e+01, 1.190e+02, 3.180e+00,\n        5.080e+00, 4.700e-01, 1.870e+00, 6.000e+00, 9.300e-01, 3.690e+00,\n        4.650e+02],\n       [1.286e+01, 1.350e+00, 2.320e+00, 1.800e+01, 1.220e+02, 1.510e+00,\n        1.250e+00, 2.100e-01, 9.400e-01, 4.100e+00, 7.600e-01, 1.290e+00,\n        6.300e+02],\n       [1.277e+01, 3.430e+00, 1.980e+00, 1.600e+01, 8.000e+01, 1.630e+00,\n        1.250e+00, 4.300e-01, 8.300e-01, 3.400e+00, 7.000e-01, 2.120e+00,\n        3.720e+02],\n       [1.237e+01, 1.070e+00, 2.100e+00, 1.850e+01, 8.800e+01, 3.520e+00,\n        3.750e+00, 2.400e-01, 1.950e+00, 4.500e+00, 1.040e+00, 2.770e+00,\n        6.600e+02],\n       [1.413e+01, 4.100e+00, 2.740e+00, 2.450e+01, 9.600e+01, 2.050e+00,\n        7.600e-01, 5.600e-01, 1.350e+00, 9.200e+00, 6.100e-01, 1.600e+00,\n        5.600e+02],\n       [1.162e+01, 1.990e+00, 2.280e+00, 1.800e+01, 9.800e+01, 3.020e+00,\n        2.260e+00, 1.700e-01, 1.350e+00, 3.250e+00, 1.160e+00, 2.960e+00,\n        3.450e+02],\n       [1.371e+01, 1.860e+00, 2.360e+00, 1.660e+01, 1.010e+02, 2.610e+00,\n        2.880e+00, 2.700e-01, 1.690e+00, 3.800e+00, 1.110e+00, 4.000e+00,\n        1.035e+03],\n       [1.317e+01, 5.190e+00, 2.320e+00, 2.200e+01, 9.300e+01, 1.740e+00,\n        6.300e-01, 6.100e-01, 1.550e+00, 7.900e+00, 6.000e-01, 1.480e+00,\n        7.250e+02],\n       [1.303e+01, 9.000e-01, 1.710e+00, 1.600e+01, 8.600e+01, 1.950e+00,\n        2.030e+00, 2.400e-01, 1.460e+00, 4.600e+00, 1.190e+00, 2.480e+00,\n        3.920e+02],\n       [1.285e+01, 1.600e+00, 2.520e+00, 1.780e+01, 9.500e+01, 2.480e+00,\n        2.370e+00, 2.600e-01, 1.460e+00, 3.930e+00, 1.090e+00, 3.630e+00,\n        1.015e+03],\n       [1.317e+01, 2.590e+00, 2.370e+00, 2.000e+01, 1.200e+02, 1.650e+00,\n        6.800e-01, 5.300e-01, 1.460e+00, 9.300e+00, 6.000e-01, 1.620e+00,\n        8.400e+02],\n       [1.340e+01, 4.600e+00, 2.860e+00, 2.500e+01, 1.120e+02, 1.980e+00,\n        9.600e-01, 2.700e-01, 1.110e+00, 8.500e+00, 6.700e-01, 1.920e+00,\n        6.300e+02],\n       [1.234e+01, 2.450e+00, 2.460e+00, 2.100e+01, 9.800e+01, 2.560e+00,\n        2.110e+00, 3.400e-01, 1.310e+00, 2.800e+00, 8.000e-01, 3.380e+00,\n        4.380e+02],\n       [1.225e+01, 3.880e+00, 2.200e+00, 1.850e+01, 1.120e+02, 1.380e+00,\n        7.800e-01, 2.900e-01, 1.140e+00, 8.210e+00, 6.500e-01, 2.000e+00,\n        8.550e+02],\n       [1.349e+01, 3.590e+00, 2.190e+00, 1.950e+01, 8.800e+01, 1.620e+00,\n        4.800e-01, 5.800e-01, 8.800e-01, 5.700e+00, 8.100e-01, 1.820e+00,\n        5.800e+02],\n       [1.362e+01, 4.950e+00, 2.350e+00, 2.000e+01, 9.200e+01, 2.000e+00,\n        8.000e-01, 4.700e-01, 1.020e+00, 4.400e+00, 9.100e-01, 2.050e+00,\n        5.500e+02],\n       [1.334e+01, 9.400e-01, 2.360e+00, 1.700e+01, 1.100e+02, 2.530e+00,\n        1.300e+00, 5.500e-01, 4.200e-01, 3.170e+00, 1.020e+00, 1.930e+00,\n        7.500e+02],\n       [1.378e+01, 2.760e+00, 2.300e+00, 2.200e+01, 9.000e+01, 1.350e+00,\n        6.800e-01, 4.100e-01, 1.030e+00, 9.580e+00, 7.000e-01, 1.680e+00,\n        6.150e+02],\n       [1.348e+01, 1.810e+00, 2.410e+00, 2.050e+01, 1.000e+02, 2.700e+00,\n        2.980e+00, 2.600e-01, 1.860e+00, 5.100e+00, 1.040e+00, 3.470e+00,\n        9.200e+02],\n       [1.367e+01, 1.250e+00, 1.920e+00, 1.800e+01, 9.400e+01, 2.100e+00,\n        1.790e+00, 3.200e-01, 7.300e-01, 3.800e+00, 1.230e+00, 2.460e+00,\n        6.300e+02],\n       [1.438e+01, 1.870e+00, 2.380e+00, 1.200e+01, 1.020e+02, 3.300e+00,\n        3.640e+00, 2.900e-01, 2.960e+00, 7.500e+00, 1.200e+00, 3.000e+00,\n        1.547e+03],\n       [1.176e+01, 2.680e+00, 2.920e+00, 2.000e+01, 1.030e+02, 1.750e+00,\n        2.030e+00, 6.000e-01, 1.050e+00, 3.800e+00, 1.230e+00, 2.500e+00,\n        6.070e+02],\n       [1.293e+01, 3.800e+00, 2.650e+00, 1.860e+01, 1.020e+02, 2.410e+00,\n        2.410e+00, 2.500e-01, 1.980e+00, 4.500e+00, 1.030e+00, 3.520e+00,\n        7.700e+02],\n       [1.311e+01, 1.010e+00, 1.700e+00, 1.500e+01, 7.800e+01, 2.980e+00,\n        3.180e+00, 2.600e-01, 2.280e+00, 5.300e+00, 1.120e+00, 3.180e+00,\n        5.020e+02],\n       [1.251e+01, 1.240e+00, 2.250e+00, 1.750e+01, 8.500e+01, 2.000e+00,\n        5.800e-01, 6.000e-01, 1.250e+00, 5.450e+00, 7.500e-01, 1.510e+00,\n        6.500e+02],\n       [1.229e+01, 2.830e+00, 2.220e+00, 1.800e+01, 8.800e+01, 2.450e+00,\n        2.250e+00, 2.500e-01, 1.990e+00, 2.150e+00, 1.150e+00, 3.300e+00,\n        2.900e+02],\n       [1.208e+01, 2.080e+00, 1.700e+00, 1.750e+01, 9.700e+01, 2.230e+00,\n        2.170e+00, 2.600e-01, 1.400e+00, 3.300e+00, 1.270e+00, 2.960e+00,\n        7.100e+02],\n       [1.371e+01, 5.650e+00, 2.450e+00, 2.050e+01, 9.500e+01, 1.680e+00,\n        6.100e-01, 5.200e-01, 1.060e+00, 7.700e+00, 6.400e-01, 1.740e+00,\n        7.400e+02],\n       [1.233e+01, 1.100e+00, 2.280e+00, 1.600e+01, 1.010e+02, 2.050e+00,\n        1.090e+00, 6.300e-01, 4.100e-01, 3.270e+00, 1.250e+00, 1.670e+00,\n        6.800e+02],\n       [1.204e+01, 4.300e+00, 2.380e+00, 2.200e+01, 8.000e+01, 2.100e+00,\n        1.750e+00, 4.200e-01, 1.350e+00, 2.600e+00, 7.900e-01, 2.570e+00,\n        5.800e+02],\n       [1.184e+01, 8.900e-01, 2.580e+00, 1.800e+01, 9.400e+01, 2.200e+00,\n        2.210e+00, 2.200e-01, 2.350e+00, 3.050e+00, 7.900e-01, 3.080e+00,\n        5.200e+02],\n       [1.406e+01, 1.630e+00, 2.280e+00, 1.600e+01, 1.260e+02, 3.000e+00,\n        3.170e+00, 2.400e-01, 2.100e+00, 5.650e+00, 1.090e+00, 3.710e+00,\n        7.800e+02],\n       [1.281e+01, 2.310e+00, 2.400e+00, 2.400e+01, 9.800e+01, 1.150e+00,\n        1.090e+00, 2.700e-01, 8.300e-01, 5.700e+00, 6.600e-01, 1.360e+00,\n        5.600e+02],\n       [1.383e+01, 1.650e+00, 2.600e+00, 1.720e+01, 9.400e+01, 2.450e+00,\n        2.990e+00, 2.200e-01, 2.290e+00, 5.600e+00, 1.240e+00, 3.370e+00,\n        1.265e+03],\n       [1.438e+01, 3.590e+00, 2.280e+00, 1.600e+01, 1.020e+02, 3.250e+00,\n        3.170e+00, 2.700e-01, 2.190e+00, 4.900e+00, 1.040e+00, 3.440e+00,\n        1.065e+03],\n       [1.410e+01, 2.020e+00, 2.400e+00, 1.880e+01, 1.030e+02, 2.750e+00,\n        2.920e+00, 3.200e-01, 2.380e+00, 6.200e+00, 1.070e+00, 2.750e+00,\n        1.060e+03],\n       [1.410e+01, 2.160e+00, 2.300e+00, 1.800e+01, 1.050e+02, 2.950e+00,\n        3.320e+00, 2.200e-01, 2.380e+00, 5.750e+00, 1.250e+00, 3.170e+00,\n        1.510e+03],\n       [1.269e+01, 1.530e+00, 2.260e+00, 2.070e+01, 8.000e+01, 1.380e+00,\n        1.460e+00, 5.800e-01, 1.620e+00, 3.050e+00, 9.600e-01, 2.060e+00,\n        4.950e+02],\n       [1.237e+01, 1.630e+00, 2.300e+00, 2.450e+01, 8.800e+01, 2.220e+00,\n        2.450e+00, 4.000e-01, 1.900e+00, 2.120e+00, 8.900e-01, 2.780e+00,\n        3.420e+02],\n       [1.388e+01, 1.890e+00, 2.590e+00, 1.500e+01, 1.010e+02, 3.250e+00,\n        3.560e+00, 1.700e-01, 1.700e+00, 5.430e+00, 8.800e-01, 3.560e+00,\n        1.095e+03],\n       [1.345e+01, 3.700e+00, 2.600e+00, 2.300e+01, 1.110e+02, 1.700e+00,\n        9.200e-01, 4.300e-01, 1.460e+00, 1.068e+01, 8.500e-01, 1.560e+00,\n        6.950e+02],\n       [1.422e+01, 3.990e+00, 2.510e+00, 1.320e+01, 1.280e+02, 3.000e+00,\n        3.040e+00, 2.000e-01, 2.080e+00, 5.100e+00, 8.900e-01, 3.530e+00,\n        7.600e+02],\n       [1.222e+01, 1.290e+00, 1.940e+00, 1.900e+01, 9.200e+01, 2.360e+00,\n        2.040e+00, 3.900e-01, 2.080e+00, 2.700e+00, 8.600e-01, 3.020e+00,\n        3.120e+02],\n       [1.242e+01, 2.550e+00, 2.270e+00, 2.200e+01, 9.000e+01, 1.680e+00,\n        1.840e+00, 6.600e-01, 1.420e+00, 2.700e+00, 8.600e-01, 3.300e+00,\n        3.150e+02],\n       [1.373e+01, 4.360e+00, 2.260e+00, 2.250e+01, 8.800e+01, 1.280e+00,\n        4.700e-01, 5.200e-01, 1.150e+00, 6.620e+00, 7.800e-01, 1.750e+00,\n        5.200e+02],\n       [1.387e+01, 1.900e+00, 2.800e+00, 1.940e+01, 1.070e+02, 2.950e+00,\n        2.970e+00, 3.700e-01, 1.760e+00, 4.500e+00, 1.250e+00, 3.400e+00,\n        9.150e+02]])"
     },
     "metadata": {}
    }
   ],
   "execution_count": 55
  },
  {
   "cell_type": "markdown",
   "source": "### Bringing Features into the same scales",
   "metadata": {
    "cell_id": "00063-a65cb031-0ac9-45fc-b287-c59163e9235c",
    "deepnote_cell_type": "markdown"
   }
  },
  {
   "cell_type": "markdown",
   "source": "#### Normaizlation - in range of (0, 1)",
   "metadata": {
    "cell_id": "00064-edf03e28-5ec4-4c80-82fd-fc33afcbd808",
    "deepnote_cell_type": "markdown"
   }
  },
  {
   "cell_type": "markdown",
   "source": "",
   "metadata": {
    "cell_id": "4c512fa0-7929-4744-b23c-f4ec9d6067d4",
    "tags": [],
    "deepnote_cell_type": "markdown"
   }
  },
  {
   "cell_type": "markdown",
   "source": "![Picture title](image-20220121-162604.png)",
   "metadata": {
    "cell_id": "d5971543-ecf7-4b9c-b509-23f6b54ec6cb",
    "tags": [],
    "deepnote_cell_type": "markdown"
   }
  },
  {
   "cell_type": "markdown",
   "source": "![Picture title](image-20220121-162638.png)",
   "metadata": {
    "cell_id": "b32ddccf-c0da-41a1-8d4f-9d0817aa1ee4",
    "tags": [],
    "deepnote_cell_type": "markdown"
   }
  },
  {
   "cell_type": "code",
   "metadata": {
    "cell_id": "00065-022379aa-395a-4be1-9ff1-3385e69a1458",
    "deepnote_to_be_reexecuted": false,
    "source_hash": "4eee71fb",
    "execution_start": 1643447632153,
    "execution_millis": 13,
    "deepnote_cell_type": "code"
   },
   "source": "from sklearn.preprocessing import MinMaxScaler\nmms = MinMaxScaler()\n\n",
   "outputs": [],
   "execution_count": 56
  },
  {
   "cell_type": "code",
   "metadata": {
    "cell_id": "00066-162e75d0-0776-4887-992b-99b81a1aed72",
    "deepnote_to_be_reexecuted": false,
    "source_hash": "64b1cf33",
    "execution_start": 1643447632180,
    "execution_millis": 12,
    "deepnote_cell_type": "code"
   },
   "source": "X_train_norm = mms.fit_transform(X_train)\nX_test_norm = mms.transform(X_test)",
   "outputs": [],
   "execution_count": 57
  },
  {
   "cell_type": "markdown",
   "source": "#### Standarization - mean -0 ,  Var -1",
   "metadata": {
    "cell_id": "00067-a9650f62-dead-4d10-bc3e-53af775ed532",
    "deepnote_cell_type": "markdown"
   }
  },
  {
   "cell_type": "markdown",
   "source": "![Picture title](image-20220121-162517.png)\n",
   "metadata": {
    "cell_id": "8a04ea19-7b83-4f6b-b1c2-3eb192a9d198",
    "tags": [],
    "deepnote_cell_type": "markdown"
   }
  },
  {
   "cell_type": "code",
   "metadata": {
    "cell_id": "00068-8fd7dcce-e2f7-4eb7-a572-69edc86f53d2",
    "deepnote_to_be_reexecuted": false,
    "source_hash": "bd241816",
    "execution_start": 1643447632201,
    "execution_millis": 1756645,
    "deepnote_cell_type": "code"
   },
   "source": "from sklearn.preprocessing import StandardScaler\n",
   "outputs": [],
   "execution_count": 58
  },
  {
   "cell_type": "code",
   "metadata": {
    "cell_id": "00069-479fa231-3363-401d-9982-30a29b996ace",
    "deepnote_to_be_reexecuted": false,
    "source_hash": "6a45ce4d",
    "execution_start": 1643447632245,
    "execution_millis": 1756685,
    "deepnote_cell_type": "code"
   },
   "source": "stdsc = StandardScaler()",
   "outputs": [],
   "execution_count": 59
  },
  {
   "cell_type": "code",
   "metadata": {
    "cell_id": "00070-286ff173-cb21-4330-a5a9-7becc67a4af8",
    "deepnote_to_be_reexecuted": false,
    "source_hash": "9f3a5dab",
    "execution_start": 1643447632246,
    "execution_millis": 1756677,
    "deepnote_cell_type": "code"
   },
   "source": "X_train_std = stdsc.fit_transform(X_train)\nX_test_std = stdsc.transform(X_test)",
   "outputs": [],
   "execution_count": 60
  },
  {
   "cell_type": "code",
   "metadata": {
    "cell_id": "00071-3cbe8b65-1364-45e9-8f3b-eaf04c06ed70",
    "deepnote_to_be_reexecuted": false,
    "source_hash": "b623e53d",
    "execution_start": 1643447632248,
    "execution_millis": 1756675,
    "deepnote_cell_type": "code"
   },
   "source": "",
   "outputs": [],
   "execution_count": 60
  },
  {
   "cell_type": "code",
   "metadata": {
    "cell_id": "5bf33cb1-92f4-42ca-b29e-f3eb4e1a3d36",
    "tags": [],
    "deepnote_to_be_reexecuted": false,
    "source_hash": "b623e53d",
    "execution_start": 1643447632249,
    "execution_millis": 1756675,
    "deepnote_cell_type": "code"
   },
   "source": "",
   "outputs": [],
   "execution_count": 60
  },
  {
   "cell_type": "markdown",
   "source": "<a style='text-decoration:none;line-height:16px;display:flex;color:#5B5B62;padding:10px;justify-content:end;' href='https://deepnote.com?utm_source=created-in-deepnote-cell&projectId=57949008-d14a-4ee2-8f47-e94cc0939f85' target=\"_blank\">\n<img alt='Created in deepnote.com' style='display:inline;max-height:16px;margin:0px;margin-right:7.5px;' src='data:image/svg+xml;base64,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' > </img>\nCreated in <span style='font-weight:600;margin-left:4px;'>Deepnote</span></a>",
   "metadata": {
    "tags": [],
    "created_in_deepnote_cell": true,
    "deepnote_cell_type": "markdown"
   }
  }
 ],
 "nbformat": 4,
 "nbformat_minor": 4,
 "metadata": {
  "kernelspec": {
   "display_name": "Python 3",
   "language": "python",
   "name": "python3"
  },
  "language_info": {
   "codemirror_mode": {
    "name": "ipython",
    "version": 3
   },
   "file_extension": ".py",
   "mimetype": "text/x-python",
   "name": "python",
   "nbconvert_exporter": "python",
   "pygments_lexer": "ipython3",
   "version": "3.8.1"
  },
  "deepnote_notebook_id": "553ac533-4a2f-4cec-8b6c-24489a33ef9a",
  "deepnote": {},
  "deepnote_execution_queue": []
 }
}