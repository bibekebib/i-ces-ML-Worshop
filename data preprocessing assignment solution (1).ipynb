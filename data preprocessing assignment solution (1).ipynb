{
 "cells": [
  {
   "cell_type": "code",
   "metadata": {
    "tags": [],
    "cell_id": "d267b593-395c-4e78-ba87-09a4c10f7462",
    "deepnote_to_be_reexecuted": false,
    "source_hash": "9aa54e23",
    "execution_start": 1643538958263,
    "execution_millis": 2668,
    "deepnote_cell_type": "code"
   },
   "source": "\n#import all the necessary libraries Here\n#code starts here\n\nimport pandas as pd\nimport numpy as np\nimport matplotlib.pyplot as plt\nfrom sklearn.model_selection import train_test_split\n#code ends here",
   "outputs": [],
   "execution_count": 1
  },
  {
   "cell_type": "code",
   "metadata": {
    "cell_id": "1ef7262f-b1a4-4837-b189-3366c4596eca",
    "tags": [],
    "deepnote_to_be_reexecuted": false,
    "source_hash": "e1d9fa57",
    "execution_start": 1643538960951,
    "execution_millis": 112,
    "deepnote_cell_type": "code"
   },
   "source": "#use titanic dataset from kaggle.com and read it using pandas\n#code starts here\n\ndf = pd.read_csv('dataset_titanic.csv')\ndf.describe()\n#code ends here",
   "outputs": [
    {
     "output_type": "execute_result",
     "execution_count": 2,
     "data": {
      "application/vnd.deepnote.dataframe.v3+json": {
       "column_count": 7,
       "row_count": 8,
       "columns": [
        {
         "name": "PassengerId",
         "dtype": "float64",
         "stats": {
          "unique_count": 6,
          "nan_count": 0,
          "min": "1.0",
          "max": "891.0",
          "histogram": [
           {
            "bin_start": 1,
            "bin_end": 90,
            "count": 1
           },
           {
            "bin_start": 90,
            "bin_end": 179,
            "count": 0
           },
           {
            "bin_start": 179,
            "bin_end": 268,
            "count": 2
           },
           {
            "bin_start": 268,
            "bin_end": 357,
            "count": 0
           },
           {
            "bin_start": 357,
            "bin_end": 446,
            "count": 0
           },
           {
            "bin_start": 446,
            "bin_end": 535,
            "count": 2
           },
           {
            "bin_start": 535,
            "bin_end": 624,
            "count": 0
           },
           {
            "bin_start": 624,
            "bin_end": 713,
            "count": 1
           },
           {
            "bin_start": 713,
            "bin_end": 802,
            "count": 0
           },
           {
            "bin_start": 802,
            "bin_end": 891,
            "count": 2
           }
          ]
         }
        },
        {
         "name": "Survived",
         "dtype": "float64",
         "stats": {
          "unique_count": 5,
          "nan_count": 0,
          "min": "0.0",
          "max": "891.0",
          "histogram": [
           {
            "bin_start": 0,
            "bin_end": 89.1,
            "count": 7
           },
           {
            "bin_start": 89.1,
            "bin_end": 178.2,
            "count": 0
           },
           {
            "bin_start": 178.2,
            "bin_end": 267.29999999999995,
            "count": 0
           },
           {
            "bin_start": 267.29999999999995,
            "bin_end": 356.4,
            "count": 0
           },
           {
            "bin_start": 356.4,
            "bin_end": 445.5,
            "count": 0
           },
           {
            "bin_start": 445.5,
            "bin_end": 534.5999999999999,
            "count": 0
           },
           {
            "bin_start": 534.5999999999999,
            "bin_end": 623.6999999999999,
            "count": 0
           },
           {
            "bin_start": 623.6999999999999,
            "bin_end": 712.8,
            "count": 0
           },
           {
            "bin_start": 712.8,
            "bin_end": 801.9,
            "count": 0
           },
           {
            "bin_start": 801.9,
            "bin_end": 891,
            "count": 1
           }
          ]
         }
        },
        {
         "name": "Pclass",
         "dtype": "float64",
         "stats": {
          "unique_count": 6,
          "nan_count": 0,
          "min": "0.836071240977049",
          "max": "891.0",
          "histogram": [
           {
            "bin_start": 0.836071240977049,
            "bin_end": 89.85246411687935,
            "count": 7
           },
           {
            "bin_start": 89.85246411687935,
            "bin_end": 178.86885699278164,
            "count": 0
           },
           {
            "bin_start": 178.86885699278164,
            "bin_end": 267.88524986868396,
            "count": 0
           },
           {
            "bin_start": 267.88524986868396,
            "bin_end": 356.90164274458624,
            "count": 0
           },
           {
            "bin_start": 356.90164274458624,
            "bin_end": 445.9180356204885,
            "count": 0
           },
           {
            "bin_start": 445.9180356204885,
            "bin_end": 534.9344284963909,
            "count": 0
           },
           {
            "bin_start": 534.9344284963909,
            "bin_end": 623.9508213722931,
            "count": 0
           },
           {
            "bin_start": 623.9508213722931,
            "bin_end": 712.9672142481954,
            "count": 0
           },
           {
            "bin_start": 712.9672142481954,
            "bin_end": 801.9836071240977,
            "count": 0
           },
           {
            "bin_start": 801.9836071240977,
            "bin_end": 891,
            "count": 1
           }
          ]
         }
        },
        {
         "name": "Age",
         "dtype": "float64",
         "stats": {
          "unique_count": 8,
          "nan_count": 0,
          "min": "0.42",
          "max": "714.0",
          "histogram": [
           {
            "bin_start": 0.42,
            "bin_end": 71.778,
            "count": 6
           },
           {
            "bin_start": 71.778,
            "bin_end": 143.136,
            "count": 1
           },
           {
            "bin_start": 143.136,
            "bin_end": 214.494,
            "count": 0
           },
           {
            "bin_start": 214.494,
            "bin_end": 285.85200000000003,
            "count": 0
           },
           {
            "bin_start": 285.85200000000003,
            "bin_end": 357.21000000000004,
            "count": 0
           },
           {
            "bin_start": 357.21000000000004,
            "bin_end": 428.56800000000004,
            "count": 0
           },
           {
            "bin_start": 428.56800000000004,
            "bin_end": 499.92600000000004,
            "count": 0
           },
           {
            "bin_start": 499.92600000000004,
            "bin_end": 571.284,
            "count": 0
           },
           {
            "bin_start": 571.284,
            "bin_end": 642.6419999999999,
            "count": 0
           },
           {
            "bin_start": 642.6419999999999,
            "bin_end": 714,
            "count": 1
           }
          ]
         }
        },
        {
         "name": "SibSp",
         "dtype": "float64",
         "stats": {
          "unique_count": 6,
          "nan_count": 0,
          "min": "0.0",
          "max": "891.0",
          "histogram": [
           {
            "bin_start": 0,
            "bin_end": 89.1,
            "count": 7
           },
           {
            "bin_start": 89.1,
            "bin_end": 178.2,
            "count": 0
           },
           {
            "bin_start": 178.2,
            "bin_end": 267.29999999999995,
            "count": 0
           },
           {
            "bin_start": 267.29999999999995,
            "bin_end": 356.4,
            "count": 0
           },
           {
            "bin_start": 356.4,
            "bin_end": 445.5,
            "count": 0
           },
           {
            "bin_start": 445.5,
            "bin_end": 534.5999999999999,
            "count": 0
           },
           {
            "bin_start": 534.5999999999999,
            "bin_end": 623.6999999999999,
            "count": 0
           },
           {
            "bin_start": 623.6999999999999,
            "bin_end": 712.8,
            "count": 0
           },
           {
            "bin_start": 712.8,
            "bin_end": 801.9,
            "count": 0
           },
           {
            "bin_start": 801.9,
            "bin_end": 891,
            "count": 1
           }
          ]
         }
        },
        {
         "name": "Parch",
         "dtype": "float64",
         "stats": {
          "unique_count": 5,
          "nan_count": 0,
          "min": "0.0",
          "max": "891.0",
          "histogram": [
           {
            "bin_start": 0,
            "bin_end": 89.1,
            "count": 7
           },
           {
            "bin_start": 89.1,
            "bin_end": 178.2,
            "count": 0
           },
           {
            "bin_start": 178.2,
            "bin_end": 267.29999999999995,
            "count": 0
           },
           {
            "bin_start": 267.29999999999995,
            "bin_end": 356.4,
            "count": 0
           },
           {
            "bin_start": 356.4,
            "bin_end": 445.5,
            "count": 0
           },
           {
            "bin_start": 445.5,
            "bin_end": 534.5999999999999,
            "count": 0
           },
           {
            "bin_start": 534.5999999999999,
            "bin_end": 623.6999999999999,
            "count": 0
           },
           {
            "bin_start": 623.6999999999999,
            "bin_end": 712.8,
            "count": 0
           },
           {
            "bin_start": 712.8,
            "bin_end": 801.9,
            "count": 0
           },
           {
            "bin_start": 801.9,
            "bin_end": 891,
            "count": 1
           }
          ]
         }
        },
        {
         "name": "Fare",
         "dtype": "float64",
         "stats": {
          "unique_count": 8,
          "nan_count": 0,
          "min": "0.0",
          "max": "891.0",
          "histogram": [
           {
            "bin_start": 0,
            "bin_end": 89.1,
            "count": 6
           },
           {
            "bin_start": 89.1,
            "bin_end": 178.2,
            "count": 0
           },
           {
            "bin_start": 178.2,
            "bin_end": 267.29999999999995,
            "count": 0
           },
           {
            "bin_start": 267.29999999999995,
            "bin_end": 356.4,
            "count": 0
           },
           {
            "bin_start": 356.4,
            "bin_end": 445.5,
            "count": 0
           },
           {
            "bin_start": 445.5,
            "bin_end": 534.5999999999999,
            "count": 1
           },
           {
            "bin_start": 534.5999999999999,
            "bin_end": 623.6999999999999,
            "count": 0
           },
           {
            "bin_start": 623.6999999999999,
            "bin_end": 712.8,
            "count": 0
           },
           {
            "bin_start": 712.8,
            "bin_end": 801.9,
            "count": 0
           },
           {
            "bin_start": 801.9,
            "bin_end": 891,
            "count": 1
           }
          ]
         }
        },
        {
         "name": "_deepnote_index_column",
         "dtype": "object"
        }
       ],
       "rows": [
        {
         "PassengerId": 891,
         "Survived": 891,
         "Pclass": 891,
         "Age": 714,
         "SibSp": 891,
         "Parch": 891,
         "Fare": 891,
         "_deepnote_index_column": "count"
        },
        {
         "PassengerId": 446,
         "Survived": 0.3838383838383838,
         "Pclass": 2.308641975308642,
         "Age": 29.69911764705882,
         "SibSp": 0.5230078563411896,
         "Parch": 0.38159371492704824,
         "Fare": 32.204207968574636,
         "_deepnote_index_column": "mean"
        },
        {
         "PassengerId": 257.3538420152301,
         "Survived": 0.4865924542648575,
         "Pclass": 0.836071240977049,
         "Age": 14.526497332334042,
         "SibSp": 1.1027434322934317,
         "Parch": 0.8060572211299483,
         "Fare": 49.6934285971809,
         "_deepnote_index_column": "std"
        },
        {
         "PassengerId": 1,
         "Survived": 0,
         "Pclass": 1,
         "Age": 0.42,
         "SibSp": 0,
         "Parch": 0,
         "Fare": 0,
         "_deepnote_index_column": "min"
        },
        {
         "PassengerId": 223.5,
         "Survived": 0,
         "Pclass": 2,
         "Age": 20.125,
         "SibSp": 0,
         "Parch": 0,
         "Fare": 7.9104,
         "_deepnote_index_column": "25%"
        },
        {
         "PassengerId": 446,
         "Survived": 0,
         "Pclass": 3,
         "Age": 28,
         "SibSp": 0,
         "Parch": 0,
         "Fare": 14.4542,
         "_deepnote_index_column": "50%"
        },
        {
         "PassengerId": 668.5,
         "Survived": 1,
         "Pclass": 3,
         "Age": 38,
         "SibSp": 1,
         "Parch": 0,
         "Fare": 31,
         "_deepnote_index_column": "75%"
        },
        {
         "PassengerId": 891,
         "Survived": 1,
         "Pclass": 3,
         "Age": 80,
         "SibSp": 8,
         "Parch": 6,
         "Fare": 512.3292,
         "_deepnote_index_column": "max"
        }
       ]
      },
      "text/plain": "       PassengerId    Survived      Pclass         Age       SibSp  \\\ncount   891.000000  891.000000  891.000000  714.000000  891.000000   \nmean    446.000000    0.383838    2.308642   29.699118    0.523008   \nstd     257.353842    0.486592    0.836071   14.526497    1.102743   \nmin       1.000000    0.000000    1.000000    0.420000    0.000000   \n25%     223.500000    0.000000    2.000000   20.125000    0.000000   \n50%     446.000000    0.000000    3.000000   28.000000    0.000000   \n75%     668.500000    1.000000    3.000000   38.000000    1.000000   \nmax     891.000000    1.000000    3.000000   80.000000    8.000000   \n\n            Parch        Fare  \ncount  891.000000  891.000000  \nmean     0.381594   32.204208  \nstd      0.806057   49.693429  \nmin      0.000000    0.000000  \n25%      0.000000    7.910400  \n50%      0.000000   14.454200  \n75%      0.000000   31.000000  \nmax      6.000000  512.329200  ",
      "text/html": "<div>\n<style scoped>\n    .dataframe tbody tr th:only-of-type {\n        vertical-align: middle;\n    }\n\n    .dataframe tbody tr th {\n        vertical-align: top;\n    }\n\n    .dataframe thead th {\n        text-align: right;\n    }\n</style>\n<table border=\"1\" class=\"dataframe\">\n  <thead>\n    <tr style=\"text-align: right;\">\n      <th></th>\n      <th>PassengerId</th>\n      <th>Survived</th>\n      <th>Pclass</th>\n      <th>Age</th>\n      <th>SibSp</th>\n      <th>Parch</th>\n      <th>Fare</th>\n    </tr>\n  </thead>\n  <tbody>\n    <tr>\n      <th>count</th>\n      <td>891.000000</td>\n      <td>891.000000</td>\n      <td>891.000000</td>\n      <td>714.000000</td>\n      <td>891.000000</td>\n      <td>891.000000</td>\n      <td>891.000000</td>\n    </tr>\n    <tr>\n      <th>mean</th>\n      <td>446.000000</td>\n      <td>0.383838</td>\n      <td>2.308642</td>\n      <td>29.699118</td>\n      <td>0.523008</td>\n      <td>0.381594</td>\n      <td>32.204208</td>\n    </tr>\n    <tr>\n      <th>std</th>\n      <td>257.353842</td>\n      <td>0.486592</td>\n      <td>0.836071</td>\n      <td>14.526497</td>\n      <td>1.102743</td>\n      <td>0.806057</td>\n      <td>49.693429</td>\n    </tr>\n    <tr>\n      <th>min</th>\n      <td>1.000000</td>\n      <td>0.000000</td>\n      <td>1.000000</td>\n      <td>0.420000</td>\n      <td>0.000000</td>\n      <td>0.000000</td>\n      <td>0.000000</td>\n    </tr>\n    <tr>\n      <th>25%</th>\n      <td>223.500000</td>\n      <td>0.000000</td>\n      <td>2.000000</td>\n      <td>20.125000</td>\n      <td>0.000000</td>\n      <td>0.000000</td>\n      <td>7.910400</td>\n    </tr>\n    <tr>\n      <th>50%</th>\n      <td>446.000000</td>\n      <td>0.000000</td>\n      <td>3.000000</td>\n      <td>28.000000</td>\n      <td>0.000000</td>\n      <td>0.000000</td>\n      <td>14.454200</td>\n    </tr>\n    <tr>\n      <th>75%</th>\n      <td>668.500000</td>\n      <td>1.000000</td>\n      <td>3.000000</td>\n      <td>38.000000</td>\n      <td>1.000000</td>\n      <td>0.000000</td>\n      <td>31.000000</td>\n    </tr>\n    <tr>\n      <th>max</th>\n      <td>891.000000</td>\n      <td>1.000000</td>\n      <td>3.000000</td>\n      <td>80.000000</td>\n      <td>8.000000</td>\n      <td>6.000000</td>\n      <td>512.329200</td>\n    </tr>\n  </tbody>\n</table>\n</div>"
     },
     "metadata": {}
    }
   ],
   "execution_count": 2
  },
  {
   "cell_type": "code",
   "metadata": {
    "cell_id": "9654b078-f7e3-4044-86f3-98ccdeb972fe",
    "tags": [],
    "deepnote_to_be_reexecuted": false,
    "source_hash": "a978963e",
    "execution_start": 1643538961083,
    "execution_millis": 5,
    "deepnote_output_heights": [
     1
    ],
    "deepnote_cell_type": "code"
   },
   "source": "#check if there is any missing values or not\n#code starts here\n\ndf.isna().sum()\n\n#code ends here",
   "outputs": [
    {
     "output_type": "execute_result",
     "execution_count": 3,
     "data": {
      "text/plain": "PassengerId      0\nSurvived         0\nPclass           0\nName             0\nSex              0\nAge            177\nSibSp            0\nParch            0\nTicket           0\nFare             0\nCabin          687\nEmbarked         2\ndtype: int64"
     },
     "metadata": {}
    }
   ],
   "execution_count": 3
  },
  {
   "cell_type": "code",
   "metadata": {
    "cell_id": "7dae090e-c0b0-43ee-b6ad-ad17dc9e8149",
    "tags": [],
    "deepnote_to_be_reexecuted": false,
    "source_hash": "ee7d8b63",
    "execution_start": 1643538961104,
    "execution_millis": 11,
    "deepnote_output_heights": [
     232
    ],
    "deepnote_cell_type": "code"
   },
   "source": "#fill the missing value with appropritae method,using mean / mode / median\n#code starts here\ndf.drop('Cabin', axis=1, inplace=True)\n\ndf.dropna(subset=['Embarked'], inplace=True)\nmean = df['Age'].mean()\ndf['Age'].fillna(mean, inplace=True)\ndf.isna().sum()\n#code ends here",
   "outputs": [
    {
     "output_type": "execute_result",
     "execution_count": 4,
     "data": {
      "text/plain": "PassengerId    0\nSurvived       0\nPclass         0\nName           0\nSex            0\nAge            0\nSibSp          0\nParch          0\nTicket         0\nFare           0\nEmbarked       0\ndtype: int64"
     },
     "metadata": {}
    }
   ],
   "execution_count": 4
  },
  {
   "cell_type": "code",
   "metadata": {
    "cell_id": "4e8baaf3-c544-4854-873e-7ec005946f2b",
    "tags": [],
    "deepnote_to_be_reexecuted": false,
    "source_hash": "966688a1",
    "execution_start": 1643538961126,
    "execution_millis": 249,
    "deepnote_output_heights": [
     21.1875
    ],
    "deepnote_cell_type": "code"
   },
   "source": "#perform one hot encoding for the categorical features\n#code starts here\ncate_col = df.select_dtypes('object').columns\ncate_col\ncategorical_columns = ['Name', 'Sex', 'Ticket', 'Embarked']\ndf['Ticket'].unique()\ndf['Name'].unique\ndf['Embarked'].unique()\ndf.drop(['Name', 'Ticket'], axis=1, inplace=True)\ndf_one_hot_encoded = pd.get_dummies(df)\ndf_one_hot_encoded\n#here we removed columns Name and Ticket although being categorical as they make no sense. \n#code ends here",
   "outputs": [
    {
     "output_type": "execute_result",
     "execution_count": 5,
     "data": {
      "application/vnd.deepnote.dataframe.v3+json": {
       "column_count": 12,
       "row_count": 889,
       "columns": [
        {
         "name": "PassengerId",
         "dtype": "int64",
         "stats": {
          "unique_count": 889,
          "nan_count": 0,
          "min": "1",
          "max": "891",
          "histogram": [
           {
            "bin_start": 1,
            "bin_end": 90,
            "count": 88
           },
           {
            "bin_start": 90,
            "bin_end": 179,
            "count": 89
           },
           {
            "bin_start": 179,
            "bin_end": 268,
            "count": 89
           },
           {
            "bin_start": 268,
            "bin_end": 357,
            "count": 89
           },
           {
            "bin_start": 357,
            "bin_end": 446,
            "count": 89
           },
           {
            "bin_start": 446,
            "bin_end": 535,
            "count": 89
           },
           {
            "bin_start": 535,
            "bin_end": 624,
            "count": 89
           },
           {
            "bin_start": 624,
            "bin_end": 713,
            "count": 89
           },
           {
            "bin_start": 713,
            "bin_end": 802,
            "count": 89
           },
           {
            "bin_start": 802,
            "bin_end": 891,
            "count": 89
           }
          ]
         }
        },
        {
         "name": "Survived",
         "dtype": "int64",
         "stats": {
          "unique_count": 2,
          "nan_count": 0,
          "min": "0",
          "max": "1",
          "histogram": [
           {
            "bin_start": 0,
            "bin_end": 0.1,
            "count": 549
           },
           {
            "bin_start": 0.1,
            "bin_end": 0.2,
            "count": 0
           },
           {
            "bin_start": 0.2,
            "bin_end": 0.30000000000000004,
            "count": 0
           },
           {
            "bin_start": 0.30000000000000004,
            "bin_end": 0.4,
            "count": 0
           },
           {
            "bin_start": 0.4,
            "bin_end": 0.5,
            "count": 0
           },
           {
            "bin_start": 0.5,
            "bin_end": 0.6000000000000001,
            "count": 0
           },
           {
            "bin_start": 0.6000000000000001,
            "bin_end": 0.7000000000000001,
            "count": 0
           },
           {
            "bin_start": 0.7000000000000001,
            "bin_end": 0.8,
            "count": 0
           },
           {
            "bin_start": 0.8,
            "bin_end": 0.9,
            "count": 0
           },
           {
            "bin_start": 0.9,
            "bin_end": 1,
            "count": 340
           }
          ]
         }
        },
        {
         "name": "Pclass",
         "dtype": "int64",
         "stats": {
          "unique_count": 3,
          "nan_count": 0,
          "min": "1",
          "max": "3",
          "histogram": [
           {
            "bin_start": 1,
            "bin_end": 1.2,
            "count": 214
           },
           {
            "bin_start": 1.2,
            "bin_end": 1.4,
            "count": 0
           },
           {
            "bin_start": 1.4,
            "bin_end": 1.6,
            "count": 0
           },
           {
            "bin_start": 1.6,
            "bin_end": 1.8,
            "count": 0
           },
           {
            "bin_start": 1.8,
            "bin_end": 2,
            "count": 0
           },
           {
            "bin_start": 2,
            "bin_end": 2.2,
            "count": 184
           },
           {
            "bin_start": 2.2,
            "bin_end": 2.4000000000000004,
            "count": 0
           },
           {
            "bin_start": 2.4000000000000004,
            "bin_end": 2.6,
            "count": 0
           },
           {
            "bin_start": 2.6,
            "bin_end": 2.8,
            "count": 0
           },
           {
            "bin_start": 2.8,
            "bin_end": 3,
            "count": 491
           }
          ]
         }
        },
        {
         "name": "Age",
         "dtype": "float64",
         "stats": {
          "unique_count": 89,
          "nan_count": 0,
          "min": "0.42",
          "max": "80.0",
          "histogram": [
           {
            "bin_start": 0.42,
            "bin_end": 8.378,
            "count": 54
           },
           {
            "bin_start": 8.378,
            "bin_end": 16.336000000000002,
            "count": 46
           },
           {
            "bin_start": 16.336000000000002,
            "bin_end": 24.294000000000004,
            "count": 177
           },
           {
            "bin_start": 24.294000000000004,
            "bin_end": 32.252,
            "count": 346
           },
           {
            "bin_start": 32.252,
            "bin_end": 40.21,
            "count": 117
           },
           {
            "bin_start": 40.21,
            "bin_end": 48.168000000000006,
            "count": 70
           },
           {
            "bin_start": 48.168000000000006,
            "bin_end": 56.126000000000005,
            "count": 45
           },
           {
            "bin_start": 56.126000000000005,
            "bin_end": 64.084,
            "count": 23
           },
           {
            "bin_start": 64.084,
            "bin_end": 72.042,
            "count": 9
           },
           {
            "bin_start": 72.042,
            "bin_end": 80,
            "count": 2
           }
          ]
         }
        },
        {
         "name": "SibSp",
         "dtype": "int64",
         "stats": {
          "unique_count": 7,
          "nan_count": 0,
          "min": "0",
          "max": "8",
          "histogram": [
           {
            "bin_start": 0,
            "bin_end": 0.8,
            "count": 606
           },
           {
            "bin_start": 0.8,
            "bin_end": 1.6,
            "count": 209
           },
           {
            "bin_start": 1.6,
            "bin_end": 2.4000000000000004,
            "count": 28
           },
           {
            "bin_start": 2.4000000000000004,
            "bin_end": 3.2,
            "count": 16
           },
           {
            "bin_start": 3.2,
            "bin_end": 4,
            "count": 0
           },
           {
            "bin_start": 4,
            "bin_end": 4.800000000000001,
            "count": 18
           },
           {
            "bin_start": 4.800000000000001,
            "bin_end": 5.6000000000000005,
            "count": 5
           },
           {
            "bin_start": 5.6000000000000005,
            "bin_end": 6.4,
            "count": 0
           },
           {
            "bin_start": 6.4,
            "bin_end": 7.2,
            "count": 0
           },
           {
            "bin_start": 7.2,
            "bin_end": 8,
            "count": 7
           }
          ]
         }
        },
        {
         "name": "Parch",
         "dtype": "int64",
         "stats": {
          "unique_count": 7,
          "nan_count": 0,
          "min": "0",
          "max": "6",
          "histogram": [
           {
            "bin_start": 0,
            "bin_end": 0.6,
            "count": 676
           },
           {
            "bin_start": 0.6,
            "bin_end": 1.2,
            "count": 118
           },
           {
            "bin_start": 1.2,
            "bin_end": 1.7999999999999998,
            "count": 0
           },
           {
            "bin_start": 1.7999999999999998,
            "bin_end": 2.4,
            "count": 80
           },
           {
            "bin_start": 2.4,
            "bin_end": 3,
            "count": 0
           },
           {
            "bin_start": 3,
            "bin_end": 3.5999999999999996,
            "count": 5
           },
           {
            "bin_start": 3.5999999999999996,
            "bin_end": 4.2,
            "count": 4
           },
           {
            "bin_start": 4.2,
            "bin_end": 4.8,
            "count": 0
           },
           {
            "bin_start": 4.8,
            "bin_end": 5.3999999999999995,
            "count": 5
           },
           {
            "bin_start": 5.3999999999999995,
            "bin_end": 6,
            "count": 1
           }
          ]
         }
        },
        {
         "name": "Fare",
         "dtype": "float64",
         "stats": {
          "unique_count": 247,
          "nan_count": 0,
          "min": "0.0",
          "max": "512.3292",
          "histogram": [
           {
            "bin_start": 0,
            "bin_end": 51.23292,
            "count": 732
           },
           {
            "bin_start": 51.23292,
            "bin_end": 102.46584,
            "count": 104
           },
           {
            "bin_start": 102.46584,
            "bin_end": 153.69876,
            "count": 31
           },
           {
            "bin_start": 153.69876,
            "bin_end": 204.93168,
            "count": 2
           },
           {
            "bin_start": 204.93168,
            "bin_end": 256.1646,
            "count": 11
           },
           {
            "bin_start": 256.1646,
            "bin_end": 307.39752,
            "count": 6
           },
           {
            "bin_start": 307.39752,
            "bin_end": 358.63044,
            "count": 0
           },
           {
            "bin_start": 358.63044,
            "bin_end": 409.86336,
            "count": 0
           },
           {
            "bin_start": 409.86336,
            "bin_end": 461.09628,
            "count": 0
           },
           {
            "bin_start": 461.09628,
            "bin_end": 512.3292,
            "count": 3
           }
          ]
         }
        },
        {
         "name": "Sex_female",
         "dtype": "uint8",
         "stats": {
          "unique_count": 2,
          "nan_count": 0,
          "min": "0",
          "max": "1",
          "histogram": [
           {
            "bin_start": 0,
            "bin_end": 0.1,
            "count": 577
           },
           {
            "bin_start": 0.1,
            "bin_end": 0.2,
            "count": 0
           },
           {
            "bin_start": 0.2,
            "bin_end": 0.30000000000000004,
            "count": 0
           },
           {
            "bin_start": 0.30000000000000004,
            "bin_end": 0.4,
            "count": 0
           },
           {
            "bin_start": 0.4,
            "bin_end": 0.5,
            "count": 0
           },
           {
            "bin_start": 0.5,
            "bin_end": 0.6000000000000001,
            "count": 0
           },
           {
            "bin_start": 0.6000000000000001,
            "bin_end": 0.7000000000000001,
            "count": 0
           },
           {
            "bin_start": 0.7000000000000001,
            "bin_end": 0.8,
            "count": 0
           },
           {
            "bin_start": 0.8,
            "bin_end": 0.9,
            "count": 0
           },
           {
            "bin_start": 0.9,
            "bin_end": 1,
            "count": 312
           }
          ]
         }
        },
        {
         "name": "Sex_male",
         "dtype": "uint8",
         "stats": {
          "unique_count": 2,
          "nan_count": 0,
          "min": "0",
          "max": "1",
          "histogram": [
           {
            "bin_start": 0,
            "bin_end": 0.1,
            "count": 312
           },
           {
            "bin_start": 0.1,
            "bin_end": 0.2,
            "count": 0
           },
           {
            "bin_start": 0.2,
            "bin_end": 0.30000000000000004,
            "count": 0
           },
           {
            "bin_start": 0.30000000000000004,
            "bin_end": 0.4,
            "count": 0
           },
           {
            "bin_start": 0.4,
            "bin_end": 0.5,
            "count": 0
           },
           {
            "bin_start": 0.5,
            "bin_end": 0.6000000000000001,
            "count": 0
           },
           {
            "bin_start": 0.6000000000000001,
            "bin_end": 0.7000000000000001,
            "count": 0
           },
           {
            "bin_start": 0.7000000000000001,
            "bin_end": 0.8,
            "count": 0
           },
           {
            "bin_start": 0.8,
            "bin_end": 0.9,
            "count": 0
           },
           {
            "bin_start": 0.9,
            "bin_end": 1,
            "count": 577
           }
          ]
         }
        },
        {
         "name": "Embarked_C",
         "dtype": "uint8",
         "stats": {
          "unique_count": 2,
          "nan_count": 0,
          "min": "0",
          "max": "1",
          "histogram": [
           {
            "bin_start": 0,
            "bin_end": 0.1,
            "count": 721
           },
           {
            "bin_start": 0.1,
            "bin_end": 0.2,
            "count": 0
           },
           {
            "bin_start": 0.2,
            "bin_end": 0.30000000000000004,
            "count": 0
           },
           {
            "bin_start": 0.30000000000000004,
            "bin_end": 0.4,
            "count": 0
           },
           {
            "bin_start": 0.4,
            "bin_end": 0.5,
            "count": 0
           },
           {
            "bin_start": 0.5,
            "bin_end": 0.6000000000000001,
            "count": 0
           },
           {
            "bin_start": 0.6000000000000001,
            "bin_end": 0.7000000000000001,
            "count": 0
           },
           {
            "bin_start": 0.7000000000000001,
            "bin_end": 0.8,
            "count": 0
           },
           {
            "bin_start": 0.8,
            "bin_end": 0.9,
            "count": 0
           },
           {
            "bin_start": 0.9,
            "bin_end": 1,
            "count": 168
           }
          ]
         }
        },
        {
         "name": "Embarked_Q",
         "dtype": "uint8",
         "stats": {
          "unique_count": 2,
          "nan_count": 0,
          "min": "0",
          "max": "1",
          "histogram": [
           {
            "bin_start": 0,
            "bin_end": 0.1,
            "count": 812
           },
           {
            "bin_start": 0.1,
            "bin_end": 0.2,
            "count": 0
           },
           {
            "bin_start": 0.2,
            "bin_end": 0.30000000000000004,
            "count": 0
           },
           {
            "bin_start": 0.30000000000000004,
            "bin_end": 0.4,
            "count": 0
           },
           {
            "bin_start": 0.4,
            "bin_end": 0.5,
            "count": 0
           },
           {
            "bin_start": 0.5,
            "bin_end": 0.6000000000000001,
            "count": 0
           },
           {
            "bin_start": 0.6000000000000001,
            "bin_end": 0.7000000000000001,
            "count": 0
           },
           {
            "bin_start": 0.7000000000000001,
            "bin_end": 0.8,
            "count": 0
           },
           {
            "bin_start": 0.8,
            "bin_end": 0.9,
            "count": 0
           },
           {
            "bin_start": 0.9,
            "bin_end": 1,
            "count": 77
           }
          ]
         }
        },
        {
         "name": "Embarked_S",
         "dtype": "uint8",
         "stats": {
          "unique_count": 2,
          "nan_count": 0,
          "min": "0",
          "max": "1",
          "histogram": [
           {
            "bin_start": 0,
            "bin_end": 0.1,
            "count": 245
           },
           {
            "bin_start": 0.1,
            "bin_end": 0.2,
            "count": 0
           },
           {
            "bin_start": 0.2,
            "bin_end": 0.30000000000000004,
            "count": 0
           },
           {
            "bin_start": 0.30000000000000004,
            "bin_end": 0.4,
            "count": 0
           },
           {
            "bin_start": 0.4,
            "bin_end": 0.5,
            "count": 0
           },
           {
            "bin_start": 0.5,
            "bin_end": 0.6000000000000001,
            "count": 0
           },
           {
            "bin_start": 0.6000000000000001,
            "bin_end": 0.7000000000000001,
            "count": 0
           },
           {
            "bin_start": 0.7000000000000001,
            "bin_end": 0.8,
            "count": 0
           },
           {
            "bin_start": 0.8,
            "bin_end": 0.9,
            "count": 0
           },
           {
            "bin_start": 0.9,
            "bin_end": 1,
            "count": 644
           }
          ]
         }
        },
        {
         "name": "_deepnote_index_column",
         "dtype": "int64"
        }
       ],
       "rows": [
        {
         "PassengerId": 1,
         "Survived": 0,
         "Pclass": 3,
         "Age": 22,
         "SibSp": 1,
         "Parch": 0,
         "Fare": 7.25,
         "Sex_female": 0,
         "Sex_male": 1,
         "Embarked_C": 0,
         "Embarked_Q": 0,
         "Embarked_S": 1,
         "_deepnote_index_column": 0
        },
        {
         "PassengerId": 2,
         "Survived": 1,
         "Pclass": 1,
         "Age": 38,
         "SibSp": 1,
         "Parch": 0,
         "Fare": 71.2833,
         "Sex_female": 1,
         "Sex_male": 0,
         "Embarked_C": 1,
         "Embarked_Q": 0,
         "Embarked_S": 0,
         "_deepnote_index_column": 1
        },
        {
         "PassengerId": 3,
         "Survived": 1,
         "Pclass": 3,
         "Age": 26,
         "SibSp": 0,
         "Parch": 0,
         "Fare": 7.925,
         "Sex_female": 1,
         "Sex_male": 0,
         "Embarked_C": 0,
         "Embarked_Q": 0,
         "Embarked_S": 1,
         "_deepnote_index_column": 2
        },
        {
         "PassengerId": 4,
         "Survived": 1,
         "Pclass": 1,
         "Age": 35,
         "SibSp": 1,
         "Parch": 0,
         "Fare": 53.1,
         "Sex_female": 1,
         "Sex_male": 0,
         "Embarked_C": 0,
         "Embarked_Q": 0,
         "Embarked_S": 1,
         "_deepnote_index_column": 3
        },
        {
         "PassengerId": 5,
         "Survived": 0,
         "Pclass": 3,
         "Age": 35,
         "SibSp": 0,
         "Parch": 0,
         "Fare": 8.05,
         "Sex_female": 0,
         "Sex_male": 1,
         "Embarked_C": 0,
         "Embarked_Q": 0,
         "Embarked_S": 1,
         "_deepnote_index_column": 4
        },
        {
         "PassengerId": 6,
         "Survived": 0,
         "Pclass": 3,
         "Age": 29.64209269662921,
         "SibSp": 0,
         "Parch": 0,
         "Fare": 8.4583,
         "Sex_female": 0,
         "Sex_male": 1,
         "Embarked_C": 0,
         "Embarked_Q": 1,
         "Embarked_S": 0,
         "_deepnote_index_column": 5
        },
        {
         "PassengerId": 7,
         "Survived": 0,
         "Pclass": 1,
         "Age": 54,
         "SibSp": 0,
         "Parch": 0,
         "Fare": 51.8625,
         "Sex_female": 0,
         "Sex_male": 1,
         "Embarked_C": 0,
         "Embarked_Q": 0,
         "Embarked_S": 1,
         "_deepnote_index_column": 6
        },
        {
         "PassengerId": 8,
         "Survived": 0,
         "Pclass": 3,
         "Age": 2,
         "SibSp": 3,
         "Parch": 1,
         "Fare": 21.075,
         "Sex_female": 0,
         "Sex_male": 1,
         "Embarked_C": 0,
         "Embarked_Q": 0,
         "Embarked_S": 1,
         "_deepnote_index_column": 7
        },
        {
         "PassengerId": 9,
         "Survived": 1,
         "Pclass": 3,
         "Age": 27,
         "SibSp": 0,
         "Parch": 2,
         "Fare": 11.1333,
         "Sex_female": 1,
         "Sex_male": 0,
         "Embarked_C": 0,
         "Embarked_Q": 0,
         "Embarked_S": 1,
         "_deepnote_index_column": 8
        },
        {
         "PassengerId": 10,
         "Survived": 1,
         "Pclass": 2,
         "Age": 14,
         "SibSp": 1,
         "Parch": 0,
         "Fare": 30.0708,
         "Sex_female": 1,
         "Sex_male": 0,
         "Embarked_C": 1,
         "Embarked_Q": 0,
         "Embarked_S": 0,
         "_deepnote_index_column": 9
        }
       ]
      },
      "text/plain": "     PassengerId  Survived  Pclass        Age  SibSp  Parch     Fare  \\\n0              1         0       3  22.000000      1      0   7.2500   \n1              2         1       1  38.000000      1      0  71.2833   \n2              3         1       3  26.000000      0      0   7.9250   \n3              4         1       1  35.000000      1      0  53.1000   \n4              5         0       3  35.000000      0      0   8.0500   \n..           ...       ...     ...        ...    ...    ...      ...   \n886          887         0       2  27.000000      0      0  13.0000   \n887          888         1       1  19.000000      0      0  30.0000   \n888          889         0       3  29.642093      1      2  23.4500   \n889          890         1       1  26.000000      0      0  30.0000   \n890          891         0       3  32.000000      0      0   7.7500   \n\n     Sex_female  Sex_male  Embarked_C  Embarked_Q  Embarked_S  \n0             0         1           0           0           1  \n1             1         0           1           0           0  \n2             1         0           0           0           1  \n3             1         0           0           0           1  \n4             0         1           0           0           1  \n..          ...       ...         ...         ...         ...  \n886           0         1           0           0           1  \n887           1         0           0           0           1  \n888           1         0           0           0           1  \n889           0         1           1           0           0  \n890           0         1           0           1           0  \n\n[889 rows x 12 columns]",
      "text/html": "<div>\n<style scoped>\n    .dataframe tbody tr th:only-of-type {\n        vertical-align: middle;\n    }\n\n    .dataframe tbody tr th {\n        vertical-align: top;\n    }\n\n    .dataframe thead th {\n        text-align: right;\n    }\n</style>\n<table border=\"1\" class=\"dataframe\">\n  <thead>\n    <tr style=\"text-align: right;\">\n      <th></th>\n      <th>PassengerId</th>\n      <th>Survived</th>\n      <th>Pclass</th>\n      <th>Age</th>\n      <th>SibSp</th>\n      <th>Parch</th>\n      <th>Fare</th>\n      <th>Sex_female</th>\n      <th>Sex_male</th>\n      <th>Embarked_C</th>\n      <th>Embarked_Q</th>\n      <th>Embarked_S</th>\n    </tr>\n  </thead>\n  <tbody>\n    <tr>\n      <th>0</th>\n      <td>1</td>\n      <td>0</td>\n      <td>3</td>\n      <td>22.000000</td>\n      <td>1</td>\n      <td>0</td>\n      <td>7.2500</td>\n      <td>0</td>\n      <td>1</td>\n      <td>0</td>\n      <td>0</td>\n      <td>1</td>\n    </tr>\n    <tr>\n      <th>1</th>\n      <td>2</td>\n      <td>1</td>\n      <td>1</td>\n      <td>38.000000</td>\n      <td>1</td>\n      <td>0</td>\n      <td>71.2833</td>\n      <td>1</td>\n      <td>0</td>\n      <td>1</td>\n      <td>0</td>\n      <td>0</td>\n    </tr>\n    <tr>\n      <th>2</th>\n      <td>3</td>\n      <td>1</td>\n      <td>3</td>\n      <td>26.000000</td>\n      <td>0</td>\n      <td>0</td>\n      <td>7.9250</td>\n      <td>1</td>\n      <td>0</td>\n      <td>0</td>\n      <td>0</td>\n      <td>1</td>\n    </tr>\n    <tr>\n      <th>3</th>\n      <td>4</td>\n      <td>1</td>\n      <td>1</td>\n      <td>35.000000</td>\n      <td>1</td>\n      <td>0</td>\n      <td>53.1000</td>\n      <td>1</td>\n      <td>0</td>\n      <td>0</td>\n      <td>0</td>\n      <td>1</td>\n    </tr>\n    <tr>\n      <th>4</th>\n      <td>5</td>\n      <td>0</td>\n      <td>3</td>\n      <td>35.000000</td>\n      <td>0</td>\n      <td>0</td>\n      <td>8.0500</td>\n      <td>0</td>\n      <td>1</td>\n      <td>0</td>\n      <td>0</td>\n      <td>1</td>\n    </tr>\n    <tr>\n      <th>...</th>\n      <td>...</td>\n      <td>...</td>\n      <td>...</td>\n      <td>...</td>\n      <td>...</td>\n      <td>...</td>\n      <td>...</td>\n      <td>...</td>\n      <td>...</td>\n      <td>...</td>\n      <td>...</td>\n      <td>...</td>\n    </tr>\n    <tr>\n      <th>886</th>\n      <td>887</td>\n      <td>0</td>\n      <td>2</td>\n      <td>27.000000</td>\n      <td>0</td>\n      <td>0</td>\n      <td>13.0000</td>\n      <td>0</td>\n      <td>1</td>\n      <td>0</td>\n      <td>0</td>\n      <td>1</td>\n    </tr>\n    <tr>\n      <th>887</th>\n      <td>888</td>\n      <td>1</td>\n      <td>1</td>\n      <td>19.000000</td>\n      <td>0</td>\n      <td>0</td>\n      <td>30.0000</td>\n      <td>1</td>\n      <td>0</td>\n      <td>0</td>\n      <td>0</td>\n      <td>1</td>\n    </tr>\n    <tr>\n      <th>888</th>\n      <td>889</td>\n      <td>0</td>\n      <td>3</td>\n      <td>29.642093</td>\n      <td>1</td>\n      <td>2</td>\n      <td>23.4500</td>\n      <td>1</td>\n      <td>0</td>\n      <td>0</td>\n      <td>0</td>\n      <td>1</td>\n    </tr>\n    <tr>\n      <th>889</th>\n      <td>890</td>\n      <td>1</td>\n      <td>1</td>\n      <td>26.000000</td>\n      <td>0</td>\n      <td>0</td>\n      <td>30.0000</td>\n      <td>0</td>\n      <td>1</td>\n      <td>1</td>\n      <td>0</td>\n      <td>0</td>\n    </tr>\n    <tr>\n      <th>890</th>\n      <td>891</td>\n      <td>0</td>\n      <td>3</td>\n      <td>32.000000</td>\n      <td>0</td>\n      <td>0</td>\n      <td>7.7500</td>\n      <td>0</td>\n      <td>1</td>\n      <td>0</td>\n      <td>1</td>\n      <td>0</td>\n    </tr>\n  </tbody>\n</table>\n<p>889 rows × 12 columns</p>\n</div>"
     },
     "metadata": {}
    }
   ],
   "execution_count": 5
  },
  {
   "cell_type": "code",
   "metadata": {
    "cell_id": "17757a17-a5d8-4d9a-b93c-5b74afc63732",
    "tags": [],
    "deepnote_to_be_reexecuted": false,
    "source_hash": "ebaf08fb",
    "execution_start": 1643538961414,
    "execution_millis": 227744,
    "deepnote_cell_type": "code"
   },
   "source": "#divide the data into train and test dataset\n#code starts here,\nX = df_one_hot_encoded.drop('Survived', axis=1)\ny = df_one_hot_encoded['Survived']\nX_train, X_test, y_train, y_test = train_test_split(X,y, test_size=0.3, stratify=y)\n\n#code ends here",
   "outputs": [],
   "execution_count": 6
  },
  {
   "cell_type": "code",
   "metadata": {
    "cell_id": "22f924ef-3a5f-4ae9-a876-95e882647b0f",
    "tags": [],
    "deepnote_to_be_reexecuted": false,
    "source_hash": "4868ea80",
    "execution_start": 1643538961431,
    "execution_millis": 38619,
    "deepnote_cell_type": "code"
   },
   "source": "#standardize the data\n#code starts here\nfrom sklearn.preprocessing import StandardScaler\nstdsc = StandardScaler()\nX_train_std = stdsc.fit_transform(X_train)\nX_test_std = stdsc.transform(X_test)\n\n#code ends here",
   "outputs": [],
   "execution_count": 7
  },
  {
   "cell_type": "code",
   "metadata": {
    "cell_id": "9d2ed562-8f7d-42c3-a3ff-c41b52f9fe63",
    "tags": [],
    "deepnote_to_be_reexecuted": false,
    "source_hash": "a06f7cff",
    "execution_start": 1643538961479,
    "execution_millis": 89624267,
    "deepnote_cell_type": "code"
   },
   "source": "#Additional Tasks (Optional)\n#1. Perform Exploratory data analysis of given data using different plots if you are available\n#code starts here\n\n\n\n#code ends here",
   "outputs": [],
   "execution_count": 8
  },
  {
   "cell_type": "code",
   "metadata": {
    "cell_id": "68dd4eac-cb6d-4cea-ada5-d49b139e1bbb",
    "tags": [],
    "deepnote_to_be_reexecuted": false,
    "source_hash": "b623e53d",
    "execution_start": 1643538961480,
    "deepnote_cell_type": "code"
   },
   "source": "",
   "outputs": [],
   "execution_count": 8
  },
  {
   "cell_type": "markdown",
   "source": "<a style='text-decoration:none;line-height:16px;display:flex;color:#5B5B62;padding:10px;justify-content:end;' href='https://deepnote.com?utm_source=created-in-deepnote-cell&projectId=57949008-d14a-4ee2-8f47-e94cc0939f85' target=\"_blank\">\n<img alt='Created in deepnote.com' style='display:inline;max-height:16px;margin:0px;margin-right:7.5px;' src='data:image/svg+xml;base64,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' > </img>\nCreated in <span style='font-weight:600;margin-left:4px;'>Deepnote</span></a>",
   "metadata": {
    "tags": [],
    "created_in_deepnote_cell": true,
    "deepnote_cell_type": "markdown"
   }
  }
 ],
 "nbformat": 4,
 "nbformat_minor": 2,
 "metadata": {
  "orig_nbformat": 2,
  "deepnote": {
   "is_reactive": false
  },
  "deepnote_notebook_id": "0bbf7903-4f05-494f-a92a-f2ea887e0bbd",
  "deepnote_execution_queue": []
 }
}