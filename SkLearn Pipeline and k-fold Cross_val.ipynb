{
 "cells": [
  {
   "cell_type": "markdown",
   "source": "# Scikit Learn Pipeline Class",
   "metadata": {
    "cell_id": "095c6730-72d7-4ab1-835b-11c1852c8188",
    "deepnote_cell_type": "markdown"
   }
  },
  {
   "cell_type": "code",
   "metadata": {
    "cell_id": "00001-ebe335f9-6378-4e7f-be35-335fed594948",
    "deepnote_cell_type": "code"
   },
   "source": "import pandas as pd",
   "execution_count": null,
   "outputs": []
  },
  {
   "cell_type": "code",
   "metadata": {
    "cell_id": "00002-13c39f39-bb9d-491e-a450-559c694cbff3",
    "deepnote_cell_type": "code"
   },
   "source": "df = pd.read_csv('https://archive.ics.uci.edu/ml/'                 'machine-learning-databases'                 '/breast-cancer-wisconsin/wdbc.data',                 header=None)",
   "execution_count": null,
   "outputs": []
  },
  {
   "cell_type": "code",
   "metadata": {
    "cell_id": "00003-fbccc4a7-b071-40a4-8182-755d879d04cb",
    "deepnote_output_heights": [
     382.1875
    ],
    "deepnote_cell_type": "code"
   },
   "source": "df",
   "execution_count": null,
   "outputs": [
    {
     "data": {
      "text/html": "<div>\n<style scoped>\n    .dataframe tbody tr th:only-of-type {\n        vertical-align: middle;\n    }\n\n    .dataframe tbody tr th {\n        vertical-align: top;\n    }\n\n    .dataframe thead th {\n        text-align: right;\n    }\n</style>\n<table border=\"1\" class=\"dataframe\">\n  <thead>\n    <tr style=\"text-align: right;\">\n      <th></th>\n      <th>0</th>\n      <th>1</th>\n      <th>2</th>\n      <th>3</th>\n      <th>4</th>\n      <th>5</th>\n      <th>6</th>\n      <th>7</th>\n      <th>8</th>\n      <th>9</th>\n      <th>...</th>\n      <th>22</th>\n      <th>23</th>\n      <th>24</th>\n      <th>25</th>\n      <th>26</th>\n      <th>27</th>\n      <th>28</th>\n      <th>29</th>\n      <th>30</th>\n      <th>31</th>\n    </tr>\n  </thead>\n  <tbody>\n    <tr>\n      <th>0</th>\n      <td>842302</td>\n      <td>M</td>\n      <td>17.99</td>\n      <td>10.38</td>\n      <td>122.80</td>\n      <td>1001.0</td>\n      <td>0.11840</td>\n      <td>0.27760</td>\n      <td>0.30010</td>\n      <td>0.14710</td>\n      <td>...</td>\n      <td>25.380</td>\n      <td>17.33</td>\n      <td>184.60</td>\n      <td>2019.0</td>\n      <td>0.16220</td>\n      <td>0.66560</td>\n      <td>0.7119</td>\n      <td>0.2654</td>\n      <td>0.4601</td>\n      <td>0.11890</td>\n    </tr>\n    <tr>\n      <th>1</th>\n      <td>842517</td>\n      <td>M</td>\n      <td>20.57</td>\n      <td>17.77</td>\n      <td>132.90</td>\n      <td>1326.0</td>\n      <td>0.08474</td>\n      <td>0.07864</td>\n      <td>0.08690</td>\n      <td>0.07017</td>\n      <td>...</td>\n      <td>24.990</td>\n      <td>23.41</td>\n      <td>158.80</td>\n      <td>1956.0</td>\n      <td>0.12380</td>\n      <td>0.18660</td>\n      <td>0.2416</td>\n      <td>0.1860</td>\n      <td>0.2750</td>\n      <td>0.08902</td>\n    </tr>\n    <tr>\n      <th>2</th>\n      <td>84300903</td>\n      <td>M</td>\n      <td>19.69</td>\n      <td>21.25</td>\n      <td>130.00</td>\n      <td>1203.0</td>\n      <td>0.10960</td>\n      <td>0.15990</td>\n      <td>0.19740</td>\n      <td>0.12790</td>\n      <td>...</td>\n      <td>23.570</td>\n      <td>25.53</td>\n      <td>152.50</td>\n      <td>1709.0</td>\n      <td>0.14440</td>\n      <td>0.42450</td>\n      <td>0.4504</td>\n      <td>0.2430</td>\n      <td>0.3613</td>\n      <td>0.08758</td>\n    </tr>\n    <tr>\n      <th>3</th>\n      <td>84348301</td>\n      <td>M</td>\n      <td>11.42</td>\n      <td>20.38</td>\n      <td>77.58</td>\n      <td>386.1</td>\n      <td>0.14250</td>\n      <td>0.28390</td>\n      <td>0.24140</td>\n      <td>0.10520</td>\n      <td>...</td>\n      <td>14.910</td>\n      <td>26.50</td>\n      <td>98.87</td>\n      <td>567.7</td>\n      <td>0.20980</td>\n      <td>0.86630</td>\n      <td>0.6869</td>\n      <td>0.2575</td>\n      <td>0.6638</td>\n      <td>0.17300</td>\n    </tr>\n    <tr>\n      <th>4</th>\n      <td>84358402</td>\n      <td>M</td>\n      <td>20.29</td>\n      <td>14.34</td>\n      <td>135.10</td>\n      <td>1297.0</td>\n      <td>0.10030</td>\n      <td>0.13280</td>\n      <td>0.19800</td>\n      <td>0.10430</td>\n      <td>...</td>\n      <td>22.540</td>\n      <td>16.67</td>\n      <td>152.20</td>\n      <td>1575.0</td>\n      <td>0.13740</td>\n      <td>0.20500</td>\n      <td>0.4000</td>\n      <td>0.1625</td>\n      <td>0.2364</td>\n      <td>0.07678</td>\n    </tr>\n    <tr>\n      <th>...</th>\n      <td>...</td>\n      <td>...</td>\n      <td>...</td>\n      <td>...</td>\n      <td>...</td>\n      <td>...</td>\n      <td>...</td>\n      <td>...</td>\n      <td>...</td>\n      <td>...</td>\n      <td>...</td>\n      <td>...</td>\n      <td>...</td>\n      <td>...</td>\n      <td>...</td>\n      <td>...</td>\n      <td>...</td>\n      <td>...</td>\n      <td>...</td>\n      <td>...</td>\n      <td>...</td>\n    </tr>\n    <tr>\n      <th>564</th>\n      <td>926424</td>\n      <td>M</td>\n      <td>21.56</td>\n      <td>22.39</td>\n      <td>142.00</td>\n      <td>1479.0</td>\n      <td>0.11100</td>\n      <td>0.11590</td>\n      <td>0.24390</td>\n      <td>0.13890</td>\n      <td>...</td>\n      <td>25.450</td>\n      <td>26.40</td>\n      <td>166.10</td>\n      <td>2027.0</td>\n      <td>0.14100</td>\n      <td>0.21130</td>\n      <td>0.4107</td>\n      <td>0.2216</td>\n      <td>0.2060</td>\n      <td>0.07115</td>\n    </tr>\n    <tr>\n      <th>565</th>\n      <td>926682</td>\n      <td>M</td>\n      <td>20.13</td>\n      <td>28.25</td>\n      <td>131.20</td>\n      <td>1261.0</td>\n      <td>0.09780</td>\n      <td>0.10340</td>\n      <td>0.14400</td>\n      <td>0.09791</td>\n      <td>...</td>\n      <td>23.690</td>\n      <td>38.25</td>\n      <td>155.00</td>\n      <td>1731.0</td>\n      <td>0.11660</td>\n      <td>0.19220</td>\n      <td>0.3215</td>\n      <td>0.1628</td>\n      <td>0.2572</td>\n      <td>0.06637</td>\n    </tr>\n    <tr>\n      <th>566</th>\n      <td>926954</td>\n      <td>M</td>\n      <td>16.60</td>\n      <td>28.08</td>\n      <td>108.30</td>\n      <td>858.1</td>\n      <td>0.08455</td>\n      <td>0.10230</td>\n      <td>0.09251</td>\n      <td>0.05302</td>\n      <td>...</td>\n      <td>18.980</td>\n      <td>34.12</td>\n      <td>126.70</td>\n      <td>1124.0</td>\n      <td>0.11390</td>\n      <td>0.30940</td>\n      <td>0.3403</td>\n      <td>0.1418</td>\n      <td>0.2218</td>\n      <td>0.07820</td>\n    </tr>\n    <tr>\n      <th>567</th>\n      <td>927241</td>\n      <td>M</td>\n      <td>20.60</td>\n      <td>29.33</td>\n      <td>140.10</td>\n      <td>1265.0</td>\n      <td>0.11780</td>\n      <td>0.27700</td>\n      <td>0.35140</td>\n      <td>0.15200</td>\n      <td>...</td>\n      <td>25.740</td>\n      <td>39.42</td>\n      <td>184.60</td>\n      <td>1821.0</td>\n      <td>0.16500</td>\n      <td>0.86810</td>\n      <td>0.9387</td>\n      <td>0.2650</td>\n      <td>0.4087</td>\n      <td>0.12400</td>\n    </tr>\n    <tr>\n      <th>568</th>\n      <td>92751</td>\n      <td>B</td>\n      <td>7.76</td>\n      <td>24.54</td>\n      <td>47.92</td>\n      <td>181.0</td>\n      <td>0.05263</td>\n      <td>0.04362</td>\n      <td>0.00000</td>\n      <td>0.00000</td>\n      <td>...</td>\n      <td>9.456</td>\n      <td>30.37</td>\n      <td>59.16</td>\n      <td>268.6</td>\n      <td>0.08996</td>\n      <td>0.06444</td>\n      <td>0.0000</td>\n      <td>0.0000</td>\n      <td>0.2871</td>\n      <td>0.07039</td>\n    </tr>\n  </tbody>\n</table>\n<p>569 rows × 32 columns</p>\n</div>",
      "text/plain": "           0  1      2      3       4       5        6        7        8   \\\n0      842302  M  17.99  10.38  122.80  1001.0  0.11840  0.27760  0.30010   \n1      842517  M  20.57  17.77  132.90  1326.0  0.08474  0.07864  0.08690   \n2    84300903  M  19.69  21.25  130.00  1203.0  0.10960  0.15990  0.19740   \n3    84348301  M  11.42  20.38   77.58   386.1  0.14250  0.28390  0.24140   \n4    84358402  M  20.29  14.34  135.10  1297.0  0.10030  0.13280  0.19800   \n..        ... ..    ...    ...     ...     ...      ...      ...      ...   \n564    926424  M  21.56  22.39  142.00  1479.0  0.11100  0.11590  0.24390   \n565    926682  M  20.13  28.25  131.20  1261.0  0.09780  0.10340  0.14400   \n566    926954  M  16.60  28.08  108.30   858.1  0.08455  0.10230  0.09251   \n567    927241  M  20.60  29.33  140.10  1265.0  0.11780  0.27700  0.35140   \n568     92751  B   7.76  24.54   47.92   181.0  0.05263  0.04362  0.00000   \n\n          9   ...      22     23      24      25       26       27      28  \\\n0    0.14710  ...  25.380  17.33  184.60  2019.0  0.16220  0.66560  0.7119   \n1    0.07017  ...  24.990  23.41  158.80  1956.0  0.12380  0.18660  0.2416   \n2    0.12790  ...  23.570  25.53  152.50  1709.0  0.14440  0.42450  0.4504   \n3    0.10520  ...  14.910  26.50   98.87   567.7  0.20980  0.86630  0.6869   \n4    0.10430  ...  22.540  16.67  152.20  1575.0  0.13740  0.20500  0.4000   \n..       ...  ...     ...    ...     ...     ...      ...      ...     ...   \n564  0.13890  ...  25.450  26.40  166.10  2027.0  0.14100  0.21130  0.4107   \n565  0.09791  ...  23.690  38.25  155.00  1731.0  0.11660  0.19220  0.3215   \n566  0.05302  ...  18.980  34.12  126.70  1124.0  0.11390  0.30940  0.3403   \n567  0.15200  ...  25.740  39.42  184.60  1821.0  0.16500  0.86810  0.9387   \n568  0.00000  ...   9.456  30.37   59.16   268.6  0.08996  0.06444  0.0000   \n\n         29      30       31  \n0    0.2654  0.4601  0.11890  \n1    0.1860  0.2750  0.08902  \n2    0.2430  0.3613  0.08758  \n3    0.2575  0.6638  0.17300  \n4    0.1625  0.2364  0.07678  \n..      ...     ...      ...  \n564  0.2216  0.2060  0.07115  \n565  0.1628  0.2572  0.06637  \n566  0.1418  0.2218  0.07820  \n567  0.2650  0.4087  0.12400  \n568  0.0000  0.2871  0.07039  \n\n[569 rows x 32 columns]"
     },
     "execution_count": 3,
     "metadata": {},
     "output_type": "execute_result"
    }
   ]
  },
  {
   "cell_type": "code",
   "metadata": {
    "cell_id": "00004-dc8c23ce-81df-43bd-af16-1b5fa4e171cd",
    "deepnote_cell_type": "code"
   },
   "source": "X = df.loc[:,2:].values",
   "execution_count": null,
   "outputs": []
  },
  {
   "cell_type": "code",
   "metadata": {
    "cell_id": "00005-1d97fcc3-082f-4ee0-b0db-9612338b6ca0",
    "deepnote_cell_type": "code"
   },
   "source": "y = df.loc[:,1]",
   "execution_count": null,
   "outputs": []
  },
  {
   "cell_type": "code",
   "metadata": {
    "cell_id": "00006-3b09f3bd-9f56-45a9-a4a5-425d757750da",
    "deepnote_cell_type": "code"
   },
   "source": "from sklearn.preprocessing import LabelEncoder",
   "execution_count": null,
   "outputs": []
  },
  {
   "cell_type": "code",
   "metadata": {
    "cell_id": "00007-2d77512e-7ce6-4393-8a35-050f32ec5b7a",
    "deepnote_cell_type": "code"
   },
   "source": "le = LabelEncoder()",
   "execution_count": null,
   "outputs": []
  },
  {
   "cell_type": "code",
   "metadata": {
    "cell_id": "00008-8b58564a-1a4b-41ca-8b3e-f68f11cce03d",
    "deepnote_cell_type": "code"
   },
   "source": "y = le.fit_transform(y)",
   "execution_count": null,
   "outputs": []
  },
  {
   "cell_type": "code",
   "metadata": {
    "cell_id": "00009-ca194942-88c8-4286-b239-fd4d2281718a",
    "deepnote_output_heights": [
     21.1875
    ],
    "deepnote_cell_type": "code"
   },
   "source": "le.classes_",
   "execution_count": null,
   "outputs": [
    {
     "data": {
      "text/plain": "array(['B', 'M'], dtype=object)"
     },
     "execution_count": 9,
     "metadata": {},
     "output_type": "execute_result"
    }
   ]
  },
  {
   "cell_type": "code",
   "metadata": {
    "cell_id": "00010-02d77657-f597-4f2b-b300-411ff3372166",
    "deepnote_output_heights": [
     21.1875
    ],
    "deepnote_cell_type": "code"
   },
   "source": "# malignant -1 \n# Beningn -0\nX.shape",
   "execution_count": null,
   "outputs": [
    {
     "data": {
      "text/plain": "(569, 30)"
     },
     "execution_count": 10,
     "metadata": {},
     "output_type": "execute_result"
    }
   ]
  },
  {
   "cell_type": "code",
   "metadata": {
    "cell_id": "00011-892f0d54-3968-47ad-8c5c-bd0090dc1cdd",
    "deepnote_cell_type": "code"
   },
   "source": "from sklearn.model_selection import train_test_split",
   "execution_count": null,
   "outputs": []
  },
  {
   "cell_type": "code",
   "metadata": {
    "cell_id": "00012-063ca3fe-bc78-45c1-b492-445804db3084",
    "deepnote_cell_type": "code"
   },
   "source": "X_train,X_test, y_train, y_test = train_test_split(X, y , test_size =0.2, stratify =y, random_state =1)\nprint(X_train.shape)\nprint(y_train.shape)",
   "execution_count": null,
   "outputs": [
    {
     "name": "stdout",
     "output_type": "stream",
     "text": "(455, 30)\n(455,)\n"
    }
   ]
  },
  {
   "cell_type": "markdown",
   "source": "### Combining Trasformations And Estimators in a Single PipeLine",
   "metadata": {
    "cell_id": "00013-312d6f76-3de6-4681-9eac-4a19e2cd9318",
    "deepnote_cell_type": "markdown"
   }
  },
  {
   "cell_type": "markdown",
   "source": "Suppose we want to Use a Lienar classifer such as LogistiC Regression also PCA , for dim. reduction.\n\n\nChainging - standardscalar -> PCA -> Logistic Regression",
   "metadata": {
    "cell_id": "00014-b62b4232-8c3f-43d6-9d63-566db3ab2f3f",
    "deepnote_cell_type": "markdown"
   }
  },
  {
   "cell_type": "code",
   "metadata": {
    "cell_id": "00015-511636fd-7944-40df-83ba-46cf84723a5b",
    "deepnote_cell_type": "code"
   },
   "source": "from sklearn.preprocessing import StandardScaler\nfrom sklearn.decomposition import PCA\nfrom sklearn.linear_model import LogisticRegression\nfrom sklearn.pipeline import make_pipeline",
   "execution_count": null,
   "outputs": []
  },
  {
   "cell_type": "code",
   "metadata": {
    "cell_id": "00016-78545746-0a78-4eb6-a2e0-e6fad46bbe08",
    "deepnote_cell_type": "code"
   },
   "source": "pipe_lr = make_pipeline(StandardScaler(),\n                       PCA(n_components=2),\n                       LogisticRegression(random_state=1))\n",
   "execution_count": null,
   "outputs": []
  },
  {
   "cell_type": "code",
   "metadata": {
    "cell_id": "00017-920f1cc1-2f42-4965-ba0b-61a51fd6bac8",
    "deepnote_output_heights": [
     309.1875
    ],
    "deepnote_cell_type": "code"
   },
   "source": "pipe_lr.fit(X_train, y_train)",
   "execution_count": null,
   "outputs": [
    {
     "data": {
      "text/plain": "Pipeline(memory=None,\n         steps=[('standardscaler',\n                 StandardScaler(copy=True, with_mean=True, with_std=True)),\n                ('pca',\n                 PCA(copy=True, iterated_power='auto', n_components=2,\n                     random_state=None, svd_solver='auto', tol=0.0,\n                     whiten=False)),\n                ('logisticregression',\n                 LogisticRegression(C=1.0, class_weight=None, dual=False,\n                                    fit_intercept=True, intercept_scaling=1,\n                                    l1_ratio=None, max_iter=100,\n                                    multi_class='auto', n_jobs=None,\n                                    penalty='l2', random_state=1,\n                                    solver='lbfgs', tol=0.0001, verbose=0,\n                                    warm_start=False))],\n         verbose=False)"
     },
     "execution_count": 15,
     "metadata": {},
     "output_type": "execute_result"
    }
   ]
  },
  {
   "cell_type": "code",
   "metadata": {
    "cell_id": "00018-161f0605-d7a6-45f6-a679-d4c11ca8905c",
    "deepnote_cell_type": "code"
   },
   "source": "y_pred = pipe_lr.predict(X_test)",
   "execution_count": null,
   "outputs": []
  },
  {
   "cell_type": "code",
   "metadata": {
    "cell_id": "00019-ec4e8a40-6799-4dbb-afc2-c71e6d89d2f2",
    "deepnote_output_heights": [
     117.1875
    ],
    "deepnote_cell_type": "code"
   },
   "source": "y_pred",
   "execution_count": null,
   "outputs": [
    {
     "data": {
      "text/plain": "array([1, 0, 0, 1, 0, 1, 1, 1, 0, 0, 0, 0, 1, 0, 1, 0, 0, 0, 1, 0, 1, 0,\n       0, 1, 1, 0, 0, 0, 0, 0, 0, 0, 0, 0, 0, 0, 0, 0, 0, 1, 1, 1, 0, 0,\n       0, 0, 1, 1, 1, 0, 1, 1, 1, 0, 0, 0, 0, 1, 0, 0, 0, 1, 1, 0, 0, 1,\n       1, 0, 0, 0, 0, 0, 1, 0, 1, 1, 0, 0, 1, 0, 0, 0, 0, 0, 0, 1, 0, 0,\n       1, 1, 1, 0, 1, 1, 0, 0, 0, 0, 0, 0, 0, 0, 0, 1, 0, 0, 1, 1, 0, 0,\n       0, 0, 0, 1])"
     },
     "execution_count": 17,
     "metadata": {},
     "output_type": "execute_result"
    }
   ]
  },
  {
   "cell_type": "code",
   "metadata": {
    "cell_id": "00020-d853f01a-abc8-4036-a9bd-f36dd6cb73e0",
    "deepnote_cell_type": "code"
   },
   "source": "print('Test Accuracy: % .3f' % pipe_lr.score(X_test, y_test))",
   "execution_count": null,
   "outputs": [
    {
     "name": "stdout",
     "output_type": "stream",
     "text": "Test Accuracy:  0.956\n"
    }
   ]
  },
  {
   "cell_type": "markdown",
   "source": "## Using K-fold Cross Validaiton to access the Model performance",
   "metadata": {
    "cell_id": "00021-cd563f17-8f67-4137-944c-8be946504ff5",
    "deepnote_cell_type": "markdown"
   }
  },
  {
   "cell_type": "markdown",
   "source": "### holdout-cross Validation\nhttps://en.wikipedia.org/wiki/Cross-validation_(statistics)#Holdout_method",
   "metadata": {
    "cell_id": "00022-473dbe22-b6d4-4660-a901-398c21860913",
    "deepnote_cell_type": "markdown"
   }
  },
  {
   "cell_type": "markdown",
   "source": "### K fold Cross Validation",
   "metadata": {
    "cell_id": "00023-be94fc0e-9563-428c-a5e9-3f1e45197109",
    "deepnote_cell_type": "markdown"
   }
  },
  {
   "cell_type": "markdown",
   "source": "In k-fold cross-validation, we randomly split the training dataset into k folds without replacement, where k — 1 folds are used for the model training, and one fold is used for performance evaluation. This procedure is repeated k times so that we obtain kmodels and performance estimates.",
   "metadata": {
    "cell_id": "00024-e86cfad9-19b3-4508-828c-be36daea355a",
    "deepnote_cell_type": "markdown"
   }
  },
  {
   "cell_type": "markdown",
   "source": "<pic>",
   "metadata": {
    "cell_id": "00025-93e5d0cb-6191-4087-a713-8d8e75890dbf",
    "deepnote_cell_type": "markdown"
   }
  },
  {
   "cell_type": "code",
   "metadata": {
    "cell_id": "00026-2ed6f5cd-6ba2-4c64-b6d9-524ee5a7eb4a",
    "deepnote_cell_type": "code"
   },
   "source": "import numpy as np\nfrom sklearn.model_selection import StratifiedKFold\n",
   "execution_count": null,
   "outputs": []
  },
  {
   "cell_type": "code",
   "metadata": {
    "cell_id": "00027-b8cb37c0-e88c-4075-ab35-c00bdbdbc259",
    "deepnote_cell_type": "code"
   },
   "source": "kfold = StratifiedKFold(n_splits=10, random_state=1).split(X_train, y_train)\n",
   "execution_count": null,
   "outputs": [
    {
     "name": "stderr",
     "output_type": "stream",
     "text": "/usr/lib/python3.8/site-packages/sklearn/model_selection/_split.py:292: FutureWarning: Setting a random_state has no effect since shuffle is False. This will raise an error in 0.24. You should leave random_state to its default (None), or set shuffle=True.\n  warnings.warn(\n"
    }
   ]
  },
  {
   "cell_type": "code",
   "metadata": {
    "cell_id": "00028-95b2d5aa-4960-40da-8979-2064a1a164db",
    "deepnote_cell_type": "code"
   },
   "source": "scores = []",
   "execution_count": null,
   "outputs": []
  },
  {
   "cell_type": "code",
   "metadata": {
    "cell_id": "00029-08ebce4f-38d3-4d2b-ace5-22786c688b93",
    "deepnote_cell_type": "code"
   },
   "source": "for k , (train, test) in enumerate(kfold):\n    pipe_lr.fit(X_train[train], y_train[train])\n    score =pipe_lr.score(X_train[test], y_train[test])\n    scores.append(score)\n    \n    print('Fold: %2d, class dist. :%s, Acc: %.3f' %(k+1, np.bincount(y_train[train]), score) )\n    ",
   "execution_count": null,
   "outputs": [
    {
     "name": "stdout",
     "output_type": "stream",
     "text": "Fold:  1, class dist. :[256 153], Acc: 0.935\nFold:  2, class dist. :[256 153], Acc: 0.935\nFold:  3, class dist. :[256 153], Acc: 0.957\nFold:  4, class dist. :[256 153], Acc: 0.957\nFold:  5, class dist. :[256 153], Acc: 0.935\nFold:  6, class dist. :[257 153], Acc: 0.956\nFold:  7, class dist. :[257 153], Acc: 0.978\nFold:  8, class dist. :[257 153], Acc: 0.933\nFold:  9, class dist. :[257 153], Acc: 0.956\nFold: 10, class dist. :[257 153], Acc: 0.956\n"
    }
   ]
  },
  {
   "cell_type": "code",
   "metadata": {
    "cell_id": "00030-76ce222b-0d86-4ab9-8a6e-372917348cb2",
    "deepnote_cell_type": "code"
   },
   "source": "# Simpler Implementation",
   "execution_count": null,
   "outputs": []
  },
  {
   "cell_type": "code",
   "metadata": {
    "cell_id": "00031-1a47c9e1-e7d8-4d19-8c83-665759812dcc",
    "deepnote_cell_type": "code"
   },
   "source": "from sklearn.model_selection import cross_val_score",
   "execution_count": null,
   "outputs": []
  },
  {
   "cell_type": "code",
   "metadata": {
    "cell_id": "00032-7f86c5ae-5657-4d21-aff9-124b691945ee",
    "deepnote_cell_type": "code"
   },
   "source": "scores = cross_val_score(estimator=pipe_lr,\n                        X= X_train,\n                        y = y_train,\n                        cv=10,\n                        n_jobs =1)",
   "execution_count": null,
   "outputs": []
  },
  {
   "cell_type": "code",
   "metadata": {
    "cell_id": "00033-65f726ee-9e16-4739-bc2a-b2adb2f45dc3",
    "deepnote_output_heights": [
     40.390625
    ],
    "deepnote_cell_type": "code"
   },
   "source": "scores",
   "execution_count": null,
   "outputs": [
    {
     "data": {
      "text/plain": "array([0.93478261, 0.93478261, 0.95652174, 0.95652174, 0.93478261,\n       0.95555556, 0.97777778, 0.93333333, 0.95555556, 0.95555556])"
     },
     "execution_count": 33,
     "metadata": {},
     "output_type": "execute_result"
    }
   ]
  },
  {
   "cell_type": "code",
   "metadata": {
    "cell_id": "00034-4a5f95ec-2a3a-4a87-a9b2-b4bdc7b866f5",
    "deepnote_cell_type": "code"
   },
   "source": "",
   "execution_count": null,
   "outputs": []
  },
  {
   "cell_type": "markdown",
   "source": "<a style='text-decoration:none;line-height:16px;display:flex;color:#5B5B62;padding:10px;justify-content:end;' href='https://deepnote.com?utm_source=created-in-deepnote-cell&projectId=57949008-d14a-4ee2-8f47-e94cc0939f85' target=\"_blank\">\n<img alt='Created in deepnote.com' style='display:inline;max-height:16px;margin:0px;margin-right:7.5px;' src='data:image/svg+xml;base64,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' > </img>\nCreated in <span style='font-weight:600;margin-left:4px;'>Deepnote</span></a>",
   "metadata": {
    "tags": [],
    "created_in_deepnote_cell": true,
    "deepnote_cell_type": "markdown"
   }
  }
 ],
 "nbformat": 4,
 "nbformat_minor": 4,
 "metadata": {
  "kernelspec": {
   "display_name": "Python 3",
   "language": "python",
   "name": "python3"
  },
  "language_info": {
   "codemirror_mode": {
    "name": "ipython",
    "version": 3
   },
   "file_extension": ".py",
   "mimetype": "text/x-python",
   "name": "python",
   "nbconvert_exporter": "python",
   "pygments_lexer": "ipython3",
   "version": "3.8.1"
  },
  "deepnote_notebook_id": "8b3041ba-4945-49dd-921d-f33807da02d2",
  "deepnote": {},
  "deepnote_execution_queue": []
 }
}