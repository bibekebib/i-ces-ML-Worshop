{
 "cells": [
  {
   "cell_type": "markdown",
   "source": "# basic data-preprocessing",
   "metadata": {
    "cell_id": "adf7e21c-e88e-498b-88ff-44bc1caa36dc",
    "tags": [],
    "deepnote_cell_type": "markdown"
   }
  },
  {
   "cell_type": "code",
   "metadata": {
    "cell_id": "f3e538f8-e7d9-43ae-a142-41628e86796b",
    "deepnote_to_be_reexecuted": false,
    "source_hash": "8ca6a091",
    "execution_start": 1643377074880,
    "execution_millis": 1731,
    "deepnote_cell_type": "code"
   },
   "source": "import pandas as pd\nimport numpy as np\nimport matplotlib.pyplot as plt",
   "execution_count": null,
   "outputs": []
  },
  {
   "cell_type": "code",
   "metadata": {
    "cell_id": "00001-6267f8c5-5518-47f5-93bb-0a4b8bd2fb1a",
    "deepnote_to_be_reexecuted": false,
    "source_hash": "95417039",
    "execution_start": 1643377076611,
    "execution_millis": 454,
    "deepnote_cell_type": "code"
   },
   "source": "df_wine = pd.read_csv('https://archive.ics.uci.edu/''ml/machine-learning-databases/''wine/wine.data', header=None)",
   "execution_count": null,
   "outputs": []
  },
  {
   "cell_type": "code",
   "metadata": {
    "cell_id": "00002-fd4d1596-a54a-4d9e-9be4-a84808bdaa08",
    "deepnote_output_heights": [
     412.078125
    ],
    "deepnote_to_be_reexecuted": false,
    "source_hash": "95f4800d",
    "execution_start": 1643377077079,
    "execution_millis": 129,
    "deepnote_cell_type": "code"
   },
   "source": "df_wine",
   "execution_count": null,
   "outputs": [
    {
     "output_type": "execute_result",
     "execution_count": 3,
     "data": {
      "application/vnd.deepnote.dataframe.v3+json": {
       "column_count": 14,
       "row_count": 178,
       "columns": [
        {
         "name": 0,
         "dtype": "int64",
         "stats": {
          "unique_count": 3,
          "nan_count": 0,
          "min": "1",
          "max": "3",
          "histogram": [
           {
            "bin_start": 1,
            "bin_end": 1.2,
            "count": 59
           },
           {
            "bin_start": 1.2,
            "bin_end": 1.4,
            "count": 0
           },
           {
            "bin_start": 1.4,
            "bin_end": 1.6,
            "count": 0
           },
           {
            "bin_start": 1.6,
            "bin_end": 1.8,
            "count": 0
           },
           {
            "bin_start": 1.8,
            "bin_end": 2,
            "count": 0
           },
           {
            "bin_start": 2,
            "bin_end": 2.2,
            "count": 71
           },
           {
            "bin_start": 2.2,
            "bin_end": 2.4000000000000004,
            "count": 0
           },
           {
            "bin_start": 2.4000000000000004,
            "bin_end": 2.6,
            "count": 0
           },
           {
            "bin_start": 2.6,
            "bin_end": 2.8,
            "count": 0
           },
           {
            "bin_start": 2.8,
            "bin_end": 3,
            "count": 48
           }
          ]
         }
        },
        {
         "name": 1,
         "dtype": "float64",
         "stats": {
          "unique_count": 126,
          "nan_count": 0,
          "min": "11.03",
          "max": "14.83",
          "histogram": [
           {
            "bin_start": 11.03,
            "bin_end": 11.41,
            "count": 1
           },
           {
            "bin_start": 11.41,
            "bin_end": 11.79,
            "count": 10
           },
           {
            "bin_start": 11.79,
            "bin_end": 12.17,
            "count": 19
           },
           {
            "bin_start": 12.17,
            "bin_end": 12.549999999999999,
            "count": 31
           },
           {
            "bin_start": 12.549999999999999,
            "bin_end": 12.93,
            "count": 21
           },
           {
            "bin_start": 12.93,
            "bin_end": 13.309999999999999,
            "count": 27
           },
           {
            "bin_start": 13.309999999999999,
            "bin_end": 13.69,
            "count": 25
           },
           {
            "bin_start": 13.69,
            "bin_end": 14.07,
            "count": 25
           },
           {
            "bin_start": 14.07,
            "bin_end": 14.45,
            "count": 17
           },
           {
            "bin_start": 14.45,
            "bin_end": 14.83,
            "count": 2
           }
          ]
         }
        },
        {
         "name": 2,
         "dtype": "float64",
         "stats": {
          "unique_count": 133,
          "nan_count": 0,
          "min": "0.74",
          "max": "5.8",
          "histogram": [
           {
            "bin_start": 0.74,
            "bin_end": 1.246,
            "count": 18
           },
           {
            "bin_start": 1.246,
            "bin_end": 1.752,
            "count": 59
           },
           {
            "bin_start": 1.752,
            "bin_end": 2.258,
            "count": 33
           },
           {
            "bin_start": 2.258,
            "bin_end": 2.7640000000000002,
            "count": 16
           },
           {
            "bin_start": 2.7640000000000002,
            "bin_end": 3.2700000000000005,
            "count": 14
           },
           {
            "bin_start": 3.2700000000000005,
            "bin_end": 3.776,
            "count": 11
           },
           {
            "bin_start": 3.776,
            "bin_end": 4.282,
            "count": 14
           },
           {
            "bin_start": 4.282,
            "bin_end": 4.788,
            "count": 7
           },
           {
            "bin_start": 4.788,
            "bin_end": 5.2940000000000005,
            "count": 3
           },
           {
            "bin_start": 5.2940000000000005,
            "bin_end": 5.8,
            "count": 3
           }
          ]
         }
        },
        {
         "name": 3,
         "dtype": "float64",
         "stats": {
          "unique_count": 79,
          "nan_count": 0,
          "min": "1.36",
          "max": "3.23",
          "histogram": [
           {
            "bin_start": 1.36,
            "bin_end": 1.5470000000000002,
            "count": 1
           },
           {
            "bin_start": 1.5470000000000002,
            "bin_end": 1.734,
            "count": 3
           },
           {
            "bin_start": 1.734,
            "bin_end": 1.921,
            "count": 7
           },
           {
            "bin_start": 1.921,
            "bin_end": 2.108,
            "count": 14
           },
           {
            "bin_start": 2.108,
            "bin_end": 2.295,
            "count": 43
           },
           {
            "bin_start": 2.295,
            "bin_end": 2.482,
            "count": 54
           },
           {
            "bin_start": 2.482,
            "bin_end": 2.669,
            "count": 31
           },
           {
            "bin_start": 2.669,
            "bin_end": 2.856,
            "count": 20
           },
           {
            "bin_start": 2.856,
            "bin_end": 3.043,
            "count": 3
           },
           {
            "bin_start": 3.043,
            "bin_end": 3.23,
            "count": 2
           }
          ]
         }
        },
        {
         "name": 4,
         "dtype": "float64",
         "stats": {
          "unique_count": 63,
          "nan_count": 0,
          "min": "10.6",
          "max": "30.0",
          "histogram": [
           {
            "bin_start": 10.6,
            "bin_end": 12.54,
            "count": 5
           },
           {
            "bin_start": 12.54,
            "bin_end": 14.48,
            "count": 3
           },
           {
            "bin_start": 14.48,
            "bin_end": 16.42,
            "count": 24
           },
           {
            "bin_start": 16.42,
            "bin_end": 18.36,
            "count": 32
           },
           {
            "bin_start": 18.36,
            "bin_end": 20.299999999999997,
            "count": 47
           },
           {
            "bin_start": 20.299999999999997,
            "bin_end": 22.240000000000002,
            "count": 34
           },
           {
            "bin_start": 22.240000000000002,
            "bin_end": 24.18,
            "count": 18
           },
           {
            "bin_start": 24.18,
            "bin_end": 26.119999999999997,
            "count": 10
           },
           {
            "bin_start": 26.119999999999997,
            "bin_end": 28.060000000000002,
            "count": 2
           },
           {
            "bin_start": 28.060000000000002,
            "bin_end": 30,
            "count": 3
           }
          ]
         }
        },
        {
         "name": 5,
         "dtype": "int64",
         "stats": {
          "unique_count": 53,
          "nan_count": 0,
          "min": "70",
          "max": "162",
          "histogram": [
           {
            "bin_start": 70,
            "bin_end": 79.2,
            "count": 4
           },
           {
            "bin_start": 79.2,
            "bin_end": 88.4,
            "count": 43
           },
           {
            "bin_start": 88.4,
            "bin_end": 97.6,
            "count": 40
           },
           {
            "bin_start": 97.6,
            "bin_end": 106.8,
            "count": 43
           },
           {
            "bin_start": 106.8,
            "bin_end": 116,
            "count": 24
           },
           {
            "bin_start": 116,
            "bin_end": 125.19999999999999,
            "count": 15
           },
           {
            "bin_start": 125.19999999999999,
            "bin_end": 134.39999999999998,
            "count": 5
           },
           {
            "bin_start": 134.39999999999998,
            "bin_end": 143.6,
            "count": 2
           },
           {
            "bin_start": 143.6,
            "bin_end": 152.8,
            "count": 1
           },
           {
            "bin_start": 152.8,
            "bin_end": 162,
            "count": 1
           }
          ]
         }
        },
        {
         "name": 6,
         "dtype": "float64",
         "stats": {
          "unique_count": 97,
          "nan_count": 0,
          "min": "0.98",
          "max": "3.88",
          "histogram": [
           {
            "bin_start": 0.98,
            "bin_end": 1.27,
            "count": 4
           },
           {
            "bin_start": 1.27,
            "bin_end": 1.56,
            "count": 22
           },
           {
            "bin_start": 1.56,
            "bin_end": 1.8499999999999999,
            "count": 26
           },
           {
            "bin_start": 1.8499999999999999,
            "bin_end": 2.1399999999999997,
            "count": 24
           },
           {
            "bin_start": 2.1399999999999997,
            "bin_end": 2.4299999999999997,
            "count": 20
           },
           {
            "bin_start": 2.4299999999999997,
            "bin_end": 2.7199999999999998,
            "count": 30
           },
           {
            "bin_start": 2.7199999999999998,
            "bin_end": 3.01,
            "count": 33
           },
           {
            "bin_start": 3.01,
            "bin_end": 3.3,
            "count": 10
           },
           {
            "bin_start": 3.3,
            "bin_end": 3.59,
            "count": 7
           },
           {
            "bin_start": 3.59,
            "bin_end": 3.88,
            "count": 2
           }
          ]
         }
        },
        {
         "name": 7,
         "dtype": "float64",
         "stats": {
          "unique_count": 132,
          "nan_count": 0,
          "min": "0.34",
          "max": "5.08",
          "histogram": [
           {
            "bin_start": 0.34,
            "bin_end": 0.8140000000000001,
            "count": 33
           },
           {
            "bin_start": 0.8140000000000001,
            "bin_end": 1.288,
            "count": 18
           },
           {
            "bin_start": 1.288,
            "bin_end": 1.7620000000000002,
            "count": 23
           },
           {
            "bin_start": 1.7620000000000002,
            "bin_end": 2.236,
            "count": 20
           },
           {
            "bin_start": 2.236,
            "bin_end": 2.71,
            "count": 32
           },
           {
            "bin_start": 2.71,
            "bin_end": 3.184,
            "count": 32
           },
           {
            "bin_start": 3.184,
            "bin_end": 3.658,
            "count": 14
           },
           {
            "bin_start": 3.658,
            "bin_end": 4.132000000000001,
            "count": 5
           },
           {
            "bin_start": 4.132000000000001,
            "bin_end": 4.606,
            "count": 0
           },
           {
            "bin_start": 4.606,
            "bin_end": 5.08,
            "count": 1
           }
          ]
         }
        },
        {
         "name": 8,
         "dtype": "float64",
         "stats": {
          "unique_count": 39,
          "nan_count": 0,
          "min": "0.13",
          "max": "0.66",
          "histogram": [
           {
            "bin_start": 0.13,
            "bin_end": 0.183,
            "count": 8
           },
           {
            "bin_start": 0.183,
            "bin_end": 0.23600000000000002,
            "count": 16
           },
           {
            "bin_start": 0.23600000000000002,
            "bin_end": 0.28900000000000003,
            "count": 33
           },
           {
            "bin_start": 0.28900000000000003,
            "bin_end": 0.342,
            "count": 38
           },
           {
            "bin_start": 0.342,
            "bin_end": 0.395,
            "count": 14
           },
           {
            "bin_start": 0.395,
            "bin_end": 0.44800000000000006,
            "count": 25
           },
           {
            "bin_start": 0.44800000000000006,
            "bin_end": 0.5010000000000001,
            "count": 16
           },
           {
            "bin_start": 0.5010000000000001,
            "bin_end": 0.554,
            "count": 13
           },
           {
            "bin_start": 0.554,
            "bin_end": 0.607,
            "count": 7
           },
           {
            "bin_start": 0.607,
            "bin_end": 0.66,
            "count": 8
           }
          ]
         }
        },
        {
         "name": 9,
         "dtype": "float64",
         "stats": {
          "unique_count": 101,
          "nan_count": 0,
          "min": "0.41",
          "max": "3.58",
          "histogram": [
           {
            "bin_start": 0.41,
            "bin_end": 0.727,
            "count": 8
           },
           {
            "bin_start": 0.727,
            "bin_end": 1.044,
            "count": 25
           },
           {
            "bin_start": 1.044,
            "bin_end": 1.361,
            "count": 31
           },
           {
            "bin_start": 1.361,
            "bin_end": 1.678,
            "count": 43
           },
           {
            "bin_start": 1.678,
            "bin_end": 1.9949999999999999,
            "count": 36
           },
           {
            "bin_start": 1.9949999999999999,
            "bin_end": 2.3120000000000003,
            "count": 17
           },
           {
            "bin_start": 2.3120000000000003,
            "bin_end": 2.629,
            "count": 8
           },
           {
            "bin_start": 2.629,
            "bin_end": 2.946,
            "count": 7
           },
           {
            "bin_start": 2.946,
            "bin_end": 3.2630000000000003,
            "count": 1
           },
           {
            "bin_start": 3.2630000000000003,
            "bin_end": 3.58,
            "count": 2
           }
          ]
         }
        },
        {
         "name": 10,
         "dtype": "float64",
         "stats": {
          "unique_count": 132,
          "nan_count": 0,
          "min": "1.28",
          "max": "13.0",
          "histogram": [
           {
            "bin_start": 1.28,
            "bin_end": 2.452,
            "count": 16
           },
           {
            "bin_start": 2.452,
            "bin_end": 3.6240000000000006,
            "count": 42
           },
           {
            "bin_start": 3.6240000000000006,
            "bin_end": 4.796,
            "count": 32
           },
           {
            "bin_start": 4.796,
            "bin_end": 5.968000000000001,
            "count": 38
           },
           {
            "bin_start": 5.968000000000001,
            "bin_end": 7.1400000000000015,
            "count": 17
           },
           {
            "bin_start": 7.1400000000000015,
            "bin_end": 8.312000000000001,
            "count": 13
           },
           {
            "bin_start": 8.312000000000001,
            "bin_end": 9.484,
            "count": 10
           },
           {
            "bin_start": 9.484,
            "bin_end": 10.656,
            "count": 6
           },
           {
            "bin_start": 10.656,
            "bin_end": 11.828000000000001,
            "count": 3
           },
           {
            "bin_start": 11.828000000000001,
            "bin_end": 13,
            "count": 1
           }
          ]
         }
        },
        {
         "name": 11,
         "dtype": "float64",
         "stats": {
          "unique_count": 78,
          "nan_count": 0,
          "min": "0.48",
          "max": "1.71",
          "histogram": [
           {
            "bin_start": 0.48,
            "bin_end": 0.603,
            "count": 17
           },
           {
            "bin_start": 0.603,
            "bin_end": 0.726,
            "count": 16
           },
           {
            "bin_start": 0.726,
            "bin_end": 0.849,
            "count": 20
           },
           {
            "bin_start": 0.849,
            "bin_end": 0.972,
            "count": 37
           },
           {
            "bin_start": 0.972,
            "bin_end": 1.095,
            "count": 38
           },
           {
            "bin_start": 1.095,
            "bin_end": 1.218,
            "count": 24
           },
           {
            "bin_start": 1.218,
            "bin_end": 1.341,
            "count": 20
           },
           {
            "bin_start": 1.341,
            "bin_end": 1.464,
            "count": 5
           },
           {
            "bin_start": 1.464,
            "bin_end": 1.587,
            "count": 0
           },
           {
            "bin_start": 1.587,
            "bin_end": 1.71,
            "count": 1
           }
          ]
         }
        },
        {
         "name": 12,
         "dtype": "float64",
         "stats": {
          "unique_count": 122,
          "nan_count": 0,
          "min": "1.27",
          "max": "4.0",
          "histogram": [
           {
            "bin_start": 1.27,
            "bin_end": 1.5430000000000001,
            "count": 13
           },
           {
            "bin_start": 1.5430000000000001,
            "bin_end": 1.816,
            "count": 24
           },
           {
            "bin_start": 1.816,
            "bin_end": 2.089,
            "count": 14
           },
           {
            "bin_start": 2.089,
            "bin_end": 2.362,
            "count": 12
           },
           {
            "bin_start": 2.362,
            "bin_end": 2.6350000000000002,
            "count": 12
           },
           {
            "bin_start": 2.6350000000000002,
            "bin_end": 2.9080000000000004,
            "count": 32
           },
           {
            "bin_start": 2.9080000000000004,
            "bin_end": 3.181,
            "count": 28
           },
           {
            "bin_start": 3.181,
            "bin_end": 3.454,
            "count": 25
           },
           {
            "bin_start": 3.454,
            "bin_end": 3.7270000000000003,
            "count": 15
           },
           {
            "bin_start": 3.7270000000000003,
            "bin_end": 4,
            "count": 3
           }
          ]
         }
        },
        {
         "name": 13,
         "dtype": "int64",
         "stats": {
          "unique_count": 121,
          "nan_count": 0,
          "min": "278",
          "max": "1680",
          "histogram": [
           {
            "bin_start": 278,
            "bin_end": 418.2,
            "count": 22
           },
           {
            "bin_start": 418.2,
            "bin_end": 558.4,
            "count": 37
           },
           {
            "bin_start": 558.4,
            "bin_end": 698.5999999999999,
            "count": 41
           },
           {
            "bin_start": 698.5999999999999,
            "bin_end": 838.8,
            "count": 19
           },
           {
            "bin_start": 838.8,
            "bin_end": 979,
            "count": 13
           },
           {
            "bin_start": 979,
            "bin_end": 1119.1999999999998,
            "count": 19
           },
           {
            "bin_start": 1119.1999999999998,
            "bin_end": 1259.3999999999999,
            "count": 8
           },
           {
            "bin_start": 1259.3999999999999,
            "bin_end": 1399.6,
            "count": 13
           },
           {
            "bin_start": 1399.6,
            "bin_end": 1539.8,
            "count": 4
           },
           {
            "bin_start": 1539.8,
            "bin_end": 1680,
            "count": 2
           }
          ]
         }
        },
        {
         "name": "_deepnote_index_column",
         "dtype": "int64"
        }
       ],
       "rows": [
        {
         "0": 1,
         "1": 14.23,
         "2": 1.71,
         "3": 2.43,
         "4": 15.6,
         "5": 127,
         "6": 2.8,
         "7": 3.06,
         "8": 0.28,
         "9": 2.29,
         "10": 5.64,
         "11": 1.04,
         "12": 3.92,
         "13": 1065,
         "_deepnote_index_column": 0
        },
        {
         "0": 1,
         "1": 13.2,
         "2": 1.78,
         "3": 2.14,
         "4": 11.2,
         "5": 100,
         "6": 2.65,
         "7": 2.76,
         "8": 0.26,
         "9": 1.28,
         "10": 4.38,
         "11": 1.05,
         "12": 3.4,
         "13": 1050,
         "_deepnote_index_column": 1
        },
        {
         "0": 1,
         "1": 13.16,
         "2": 2.36,
         "3": 2.67,
         "4": 18.6,
         "5": 101,
         "6": 2.8,
         "7": 3.24,
         "8": 0.3,
         "9": 2.81,
         "10": 5.68,
         "11": 1.03,
         "12": 3.17,
         "13": 1185,
         "_deepnote_index_column": 2
        },
        {
         "0": 1,
         "1": 14.37,
         "2": 1.95,
         "3": 2.5,
         "4": 16.8,
         "5": 113,
         "6": 3.85,
         "7": 3.49,
         "8": 0.24,
         "9": 2.18,
         "10": 7.8,
         "11": 0.86,
         "12": 3.45,
         "13": 1480,
         "_deepnote_index_column": 3
        },
        {
         "0": 1,
         "1": 13.24,
         "2": 2.59,
         "3": 2.87,
         "4": 21,
         "5": 118,
         "6": 2.8,
         "7": 2.69,
         "8": 0.39,
         "9": 1.82,
         "10": 4.32,
         "11": 1.04,
         "12": 2.93,
         "13": 735,
         "_deepnote_index_column": 4
        },
        {
         "0": 1,
         "1": 14.2,
         "2": 1.76,
         "3": 2.45,
         "4": 15.2,
         "5": 112,
         "6": 3.27,
         "7": 3.39,
         "8": 0.34,
         "9": 1.97,
         "10": 6.75,
         "11": 1.05,
         "12": 2.85,
         "13": 1450,
         "_deepnote_index_column": 5
        },
        {
         "0": 1,
         "1": 14.39,
         "2": 1.87,
         "3": 2.45,
         "4": 14.6,
         "5": 96,
         "6": 2.5,
         "7": 2.52,
         "8": 0.3,
         "9": 1.98,
         "10": 5.25,
         "11": 1.02,
         "12": 3.58,
         "13": 1290,
         "_deepnote_index_column": 6
        },
        {
         "0": 1,
         "1": 14.06,
         "2": 2.15,
         "3": 2.61,
         "4": 17.6,
         "5": 121,
         "6": 2.6,
         "7": 2.51,
         "8": 0.31,
         "9": 1.25,
         "10": 5.05,
         "11": 1.06,
         "12": 3.58,
         "13": 1295,
         "_deepnote_index_column": 7
        },
        {
         "0": 1,
         "1": 14.83,
         "2": 1.64,
         "3": 2.17,
         "4": 14,
         "5": 97,
         "6": 2.8,
         "7": 2.98,
         "8": 0.29,
         "9": 1.98,
         "10": 5.2,
         "11": 1.08,
         "12": 2.85,
         "13": 1045,
         "_deepnote_index_column": 8
        },
        {
         "0": 1,
         "1": 13.86,
         "2": 1.35,
         "3": 2.27,
         "4": 16,
         "5": 98,
         "6": 2.98,
         "7": 3.15,
         "8": 0.22,
         "9": 1.85,
         "10": 7.22,
         "11": 1.01,
         "12": 3.55,
         "13": 1045,
         "_deepnote_index_column": 9
        }
       ]
      },
      "text/plain": "     0      1     2     3     4    5     6     7     8     9      10    11  \\\n0     1  14.23  1.71  2.43  15.6  127  2.80  3.06  0.28  2.29   5.64  1.04   \n1     1  13.20  1.78  2.14  11.2  100  2.65  2.76  0.26  1.28   4.38  1.05   \n2     1  13.16  2.36  2.67  18.6  101  2.80  3.24  0.30  2.81   5.68  1.03   \n3     1  14.37  1.95  2.50  16.8  113  3.85  3.49  0.24  2.18   7.80  0.86   \n4     1  13.24  2.59  2.87  21.0  118  2.80  2.69  0.39  1.82   4.32  1.04   \n..   ..    ...   ...   ...   ...  ...   ...   ...   ...   ...    ...   ...   \n173   3  13.71  5.65  2.45  20.5   95  1.68  0.61  0.52  1.06   7.70  0.64   \n174   3  13.40  3.91  2.48  23.0  102  1.80  0.75  0.43  1.41   7.30  0.70   \n175   3  13.27  4.28  2.26  20.0  120  1.59  0.69  0.43  1.35  10.20  0.59   \n176   3  13.17  2.59  2.37  20.0  120  1.65  0.68  0.53  1.46   9.30  0.60   \n177   3  14.13  4.10  2.74  24.5   96  2.05  0.76  0.56  1.35   9.20  0.61   \n\n       12    13  \n0    3.92  1065  \n1    3.40  1050  \n2    3.17  1185  \n3    3.45  1480  \n4    2.93   735  \n..    ...   ...  \n173  1.74   740  \n174  1.56   750  \n175  1.56   835  \n176  1.62   840  \n177  1.60   560  \n\n[178 rows x 14 columns]",
      "text/html": "<div>\n<style scoped>\n    .dataframe tbody tr th:only-of-type {\n        vertical-align: middle;\n    }\n\n    .dataframe tbody tr th {\n        vertical-align: top;\n    }\n\n    .dataframe thead th {\n        text-align: right;\n    }\n</style>\n<table border=\"1\" class=\"dataframe\">\n  <thead>\n    <tr style=\"text-align: right;\">\n      <th></th>\n      <th>0</th>\n      <th>1</th>\n      <th>2</th>\n      <th>3</th>\n      <th>4</th>\n      <th>5</th>\n      <th>6</th>\n      <th>7</th>\n      <th>8</th>\n      <th>9</th>\n      <th>10</th>\n      <th>11</th>\n      <th>12</th>\n      <th>13</th>\n    </tr>\n  </thead>\n  <tbody>\n    <tr>\n      <th>0</th>\n      <td>1</td>\n      <td>14.23</td>\n      <td>1.71</td>\n      <td>2.43</td>\n      <td>15.6</td>\n      <td>127</td>\n      <td>2.80</td>\n      <td>3.06</td>\n      <td>0.28</td>\n      <td>2.29</td>\n      <td>5.64</td>\n      <td>1.04</td>\n      <td>3.92</td>\n      <td>1065</td>\n    </tr>\n    <tr>\n      <th>1</th>\n      <td>1</td>\n      <td>13.20</td>\n      <td>1.78</td>\n      <td>2.14</td>\n      <td>11.2</td>\n      <td>100</td>\n      <td>2.65</td>\n      <td>2.76</td>\n      <td>0.26</td>\n      <td>1.28</td>\n      <td>4.38</td>\n      <td>1.05</td>\n      <td>3.40</td>\n      <td>1050</td>\n    </tr>\n    <tr>\n      <th>2</th>\n      <td>1</td>\n      <td>13.16</td>\n      <td>2.36</td>\n      <td>2.67</td>\n      <td>18.6</td>\n      <td>101</td>\n      <td>2.80</td>\n      <td>3.24</td>\n      <td>0.30</td>\n      <td>2.81</td>\n      <td>5.68</td>\n      <td>1.03</td>\n      <td>3.17</td>\n      <td>1185</td>\n    </tr>\n    <tr>\n      <th>3</th>\n      <td>1</td>\n      <td>14.37</td>\n      <td>1.95</td>\n      <td>2.50</td>\n      <td>16.8</td>\n      <td>113</td>\n      <td>3.85</td>\n      <td>3.49</td>\n      <td>0.24</td>\n      <td>2.18</td>\n      <td>7.80</td>\n      <td>0.86</td>\n      <td>3.45</td>\n      <td>1480</td>\n    </tr>\n    <tr>\n      <th>4</th>\n      <td>1</td>\n      <td>13.24</td>\n      <td>2.59</td>\n      <td>2.87</td>\n      <td>21.0</td>\n      <td>118</td>\n      <td>2.80</td>\n      <td>2.69</td>\n      <td>0.39</td>\n      <td>1.82</td>\n      <td>4.32</td>\n      <td>1.04</td>\n      <td>2.93</td>\n      <td>735</td>\n    </tr>\n    <tr>\n      <th>...</th>\n      <td>...</td>\n      <td>...</td>\n      <td>...</td>\n      <td>...</td>\n      <td>...</td>\n      <td>...</td>\n      <td>...</td>\n      <td>...</td>\n      <td>...</td>\n      <td>...</td>\n      <td>...</td>\n      <td>...</td>\n      <td>...</td>\n      <td>...</td>\n    </tr>\n    <tr>\n      <th>173</th>\n      <td>3</td>\n      <td>13.71</td>\n      <td>5.65</td>\n      <td>2.45</td>\n      <td>20.5</td>\n      <td>95</td>\n      <td>1.68</td>\n      <td>0.61</td>\n      <td>0.52</td>\n      <td>1.06</td>\n      <td>7.70</td>\n      <td>0.64</td>\n      <td>1.74</td>\n      <td>740</td>\n    </tr>\n    <tr>\n      <th>174</th>\n      <td>3</td>\n      <td>13.40</td>\n      <td>3.91</td>\n      <td>2.48</td>\n      <td>23.0</td>\n      <td>102</td>\n      <td>1.80</td>\n      <td>0.75</td>\n      <td>0.43</td>\n      <td>1.41</td>\n      <td>7.30</td>\n      <td>0.70</td>\n      <td>1.56</td>\n      <td>750</td>\n    </tr>\n    <tr>\n      <th>175</th>\n      <td>3</td>\n      <td>13.27</td>\n      <td>4.28</td>\n      <td>2.26</td>\n      <td>20.0</td>\n      <td>120</td>\n      <td>1.59</td>\n      <td>0.69</td>\n      <td>0.43</td>\n      <td>1.35</td>\n      <td>10.20</td>\n      <td>0.59</td>\n      <td>1.56</td>\n      <td>835</td>\n    </tr>\n    <tr>\n      <th>176</th>\n      <td>3</td>\n      <td>13.17</td>\n      <td>2.59</td>\n      <td>2.37</td>\n      <td>20.0</td>\n      <td>120</td>\n      <td>1.65</td>\n      <td>0.68</td>\n      <td>0.53</td>\n      <td>1.46</td>\n      <td>9.30</td>\n      <td>0.60</td>\n      <td>1.62</td>\n      <td>840</td>\n    </tr>\n    <tr>\n      <th>177</th>\n      <td>3</td>\n      <td>14.13</td>\n      <td>4.10</td>\n      <td>2.74</td>\n      <td>24.5</td>\n      <td>96</td>\n      <td>2.05</td>\n      <td>0.76</td>\n      <td>0.56</td>\n      <td>1.35</td>\n      <td>9.20</td>\n      <td>0.61</td>\n      <td>1.60</td>\n      <td>560</td>\n    </tr>\n  </tbody>\n</table>\n<p>178 rows × 14 columns</p>\n</div>"
     },
     "metadata": {}
    }
   ]
  },
  {
   "cell_type": "code",
   "metadata": {
    "cell_id": "00003-e0301af0-18ab-409d-a758-d0dcf449f694",
    "deepnote_to_be_reexecuted": false,
    "source_hash": "185b2581",
    "execution_start": 1643377077212,
    "execution_millis": 843,
    "deepnote_cell_type": "code"
   },
   "source": "from sklearn.model_selection import train_test_split\n",
   "execution_count": null,
   "outputs": []
  },
  {
   "cell_type": "code",
   "metadata": {
    "cell_id": "00004-28981ca1-e916-4b82-a528-49cc636eac3a",
    "deepnote_to_be_reexecuted": false,
    "source_hash": "dd2efbce",
    "execution_start": 1643377078068,
    "execution_millis": 7,
    "deepnote_cell_type": "code"
   },
   "source": "X ,y = df_wine.iloc[:,1:].values, df_wine.iloc[:, 0].values\n",
   "execution_count": null,
   "outputs": []
  },
  {
   "cell_type": "code",
   "metadata": {
    "cell_id": "00005-ae77ffa4-118f-4f80-a245-9d0ade0eb48f",
    "deepnote_to_be_reexecuted": false,
    "source_hash": "6ce01098",
    "execution_start": 1643377078086,
    "execution_millis": 20,
    "deepnote_cell_type": "code"
   },
   "source": "X_train,X_test, y_train, y_test = train_test_split(X, y , test_size =0.3, random_state =0, stratify =y)",
   "execution_count": null,
   "outputs": []
  },
  {
   "cell_type": "code",
   "metadata": {
    "cell_id": "00006-03aa449a-68b2-4e68-a79b-eb3a56ab98e8",
    "deepnote_to_be_reexecuted": false,
    "source_hash": "bd241816",
    "execution_start": 1643377078165,
    "execution_millis": 0,
    "deepnote_cell_type": "code"
   },
   "source": "from sklearn.preprocessing import StandardScaler\n",
   "execution_count": null,
   "outputs": []
  },
  {
   "cell_type": "code",
   "metadata": {
    "cell_id": "00007-12f8788d-be2b-49a9-a9e0-8d763747068d",
    "deepnote_to_be_reexecuted": false,
    "source_hash": "6a45ce4d",
    "execution_start": 1643377078166,
    "execution_millis": 0,
    "deepnote_cell_type": "code"
   },
   "source": "stdsc = StandardScaler()",
   "execution_count": null,
   "outputs": []
  },
  {
   "cell_type": "code",
   "metadata": {
    "cell_id": "00008-769841d8-0605-4dc4-a6d7-f104fe543fc2",
    "deepnote_to_be_reexecuted": false,
    "source_hash": "9f3a5dab",
    "execution_start": 1643377078167,
    "execution_millis": 38,
    "deepnote_cell_type": "code"
   },
   "source": "X_train_std = stdsc.fit_transform(X_train)\nX_test_std = stdsc.transform(X_test)",
   "execution_count": null,
   "outputs": []
  },
  {
   "cell_type": "markdown",
   "source": "## Accessing Feature Importance wih random Forest\n",
   "metadata": {
    "cell_id": "00032-9df715f6-2d2d-4fc7-9309-d19b58f55c46",
    "deepnote_cell_type": "markdown"
   }
  },
  {
   "cell_type": "markdown",
   "source": "Feature Selection with Importance; Feature Importance. Feature importance refers to a class of techniques for assigning scores to input features to a predictive model that indicates the relative importance of each feature when making a prediction.",
   "metadata": {
    "cell_id": "cb4288b7-49bc-493d-ba5d-ab7ea8ba8894",
    "tags": [],
    "deepnote_cell_type": "markdown"
   }
  },
  {
   "cell_type": "code",
   "metadata": {
    "cell_id": "00033-c9bc2c98-b4c3-4351-b240-9d6b17dced2d",
    "deepnote_to_be_reexecuted": false,
    "source_hash": "56bea0e0",
    "execution_start": 1643377078205,
    "execution_millis": 203,
    "deepnote_cell_type": "code"
   },
   "source": "from sklearn.ensemble import RandomForestClassifier\n",
   "execution_count": null,
   "outputs": []
  },
  {
   "cell_type": "code",
   "metadata": {
    "cell_id": "00034-1decd66c-97eb-462e-ae5c-fa5ffcd59779",
    "deepnote_to_be_reexecuted": false,
    "source_hash": "dbadd536",
    "execution_start": 1643377078408,
    "execution_millis": 24,
    "deepnote_cell_type": "code"
   },
   "source": "feat_labels = df_wine.columns[1:]",
   "execution_count": null,
   "outputs": []
  },
  {
   "cell_type": "code",
   "metadata": {
    "cell_id": "00035-c3cef8c2-279d-4340-88b6-d9d9ed0221bc",
    "deepnote_output_heights": [
     21.1875
    ],
    "deepnote_to_be_reexecuted": false,
    "source_hash": "9e11165e",
    "execution_start": 1643377078433,
    "execution_millis": 614229152,
    "deepnote_cell_type": "code"
   },
   "source": "feat_labels",
   "execution_count": null,
   "outputs": [
    {
     "output_type": "execute_result",
     "execution_count": 12,
     "data": {
      "text/plain": "Int64Index([1, 2, 3, 4, 5, 6, 7, 8, 9, 10, 11, 12, 13], dtype='int64')"
     },
     "metadata": {}
    }
   ]
  },
  {
   "cell_type": "code",
   "metadata": {
    "cell_id": "00036-0af76f9b-db80-4a09-a142-d977f96306f6",
    "deepnote_to_be_reexecuted": false,
    "source_hash": "c871a6cf",
    "execution_start": 1643377078439,
    "execution_millis": 16,
    "deepnote_cell_type": "code"
   },
   "source": "forest = RandomForestClassifier(n_estimators=500, random_state=1)",
   "execution_count": null,
   "outputs": []
  },
  {
   "cell_type": "code",
   "metadata": {
    "cell_id": "00037-bd341cd8-9f69-4b77-8a14-8d880b0c78f9",
    "deepnote_output_heights": [
     21.1875
    ],
    "deepnote_to_be_reexecuted": false,
    "source_hash": "dfecd993",
    "execution_start": 1643377078441,
    "execution_millis": 910,
    "deepnote_cell_type": "code"
   },
   "source": "forest.fit(X_train, y_train)",
   "execution_count": null,
   "outputs": [
    {
     "output_type": "execute_result",
     "execution_count": 14,
     "data": {
      "text/plain": "RandomForestClassifier(n_estimators=500, random_state=1)"
     },
     "metadata": {}
    }
   ]
  },
  {
   "cell_type": "code",
   "metadata": {
    "cell_id": "00038-a3586877-be97-4be7-a335-8bc12fc8a6eb",
    "deepnote_to_be_reexecuted": false,
    "source_hash": "1ff2ac4e",
    "execution_start": 1643377079381,
    "execution_millis": 32,
    "deepnote_cell_type": "code"
   },
   "source": "importances = forest.feature_importances_",
   "execution_count": null,
   "outputs": []
  },
  {
   "cell_type": "code",
   "metadata": {
    "cell_id": "00039-0101e105-c68e-49f7-8bad-808ad5c3a638",
    "deepnote_output_heights": [
     59.59375
    ],
    "deepnote_to_be_reexecuted": false,
    "source_hash": "6d9c9e9d",
    "execution_start": 1643377079413,
    "execution_millis": 8,
    "deepnote_cell_type": "code"
   },
   "source": "importances",
   "execution_count": null,
   "outputs": [
    {
     "output_type": "execute_result",
     "execution_count": 16,
     "data": {
      "text/plain": "array([0.11852942, 0.02564836, 0.01327854, 0.02236594, 0.03135708,\n       0.05087243, 0.17475098, 0.01335393, 0.02556988, 0.1439199 ,\n       0.058739  , 0.13616194, 0.1854526 ])"
     },
     "metadata": {}
    }
   ]
  },
  {
   "cell_type": "code",
   "metadata": {
    "cell_id": "00040-749f7d25-eee2-4835-8bbf-caa1d0ba5f46",
    "deepnote_to_be_reexecuted": false,
    "source_hash": "91a9fea3",
    "execution_start": 1643377079414,
    "execution_millis": 0,
    "deepnote_cell_type": "code"
   },
   "source": "indices = np.argsort(importances)[::-1]",
   "execution_count": null,
   "outputs": []
  },
  {
   "cell_type": "code",
   "metadata": {
    "cell_id": "00041-cfdf4470-cf75-4462-80d4-57c4e344043d",
    "deepnote_output_heights": [
     21.1875
    ],
    "deepnote_to_be_reexecuted": false,
    "source_hash": "bd6655cb",
    "execution_start": 1643377079415,
    "execution_millis": 7,
    "deepnote_cell_type": "code"
   },
   "source": "indices",
   "execution_count": null,
   "outputs": [
    {
     "output_type": "execute_result",
     "execution_count": 18,
     "data": {
      "text/plain": "array([12,  6,  9, 11,  0, 10,  5,  4,  1,  8,  3,  7,  2])"
     },
     "metadata": {}
    }
   ]
  },
  {
   "cell_type": "code",
   "metadata": {
    "cell_id": "00042-078cf400-b511-48e0-99a0-010f3ec06414",
    "deepnote_to_be_reexecuted": false,
    "source_hash": "2158ed21",
    "execution_start": 1643377079423,
    "execution_millis": 9,
    "deepnote_cell_type": "code"
   },
   "source": "for f in range(X_train.shape[1]):\n    print(\"%2d) %-*s %f\" % (f+1 ,30, feat_labels[indices[f]],\n                           importances[indices[f]]))",
   "execution_count": null,
   "outputs": [
    {
     "name": "stdout",
     "text": " 1) 13                             0.185453\n 2) 7                              0.174751\n 3) 10                             0.143920\n 4) 12                             0.136162\n 5) 1                              0.118529\n 6) 11                             0.058739\n 7) 6                              0.050872\n 8) 5                              0.031357\n 9) 2                              0.025648\n10) 9                              0.025570\n11) 4                              0.022366\n12) 8                              0.013354\n13) 3                              0.013279\n",
     "output_type": "stream"
    }
   ]
  },
  {
   "cell_type": "code",
   "metadata": {
    "cell_id": "00043-5f0b3df3-e041-4b33-a178-75410ed2aa25",
    "deepnote_output_heights": [
     282
    ],
    "deepnote_to_be_reexecuted": false,
    "source_hash": "b5b309b",
    "execution_start": 1643377079472,
    "execution_millis": 234,
    "deepnote_cell_type": "code"
   },
   "source": "plt.title('Feature Importance')\nplt.bar(range(X_train.shape[1]),importances[indices],align='center')\n\nplt.xticks(range(X_train.shape[1]),feat_labels, rotation=90)\nplt.xlim([-1, X_train.shape[1]])\nplt.tight_layout()\nplt.show()",
   "execution_count": null,
   "outputs": [
    {
     "data": {
      "text/plain": "<Figure size 432x288 with 1 Axes>",
      "image/png": "[encoded data removed]"
     },
     "metadata": {
      "needs_background": "light",
      "image/png": {
       "width": 424,
       "height": 280
      }
     },
     "output_type": "display_data"
    }
   ]
  },
  {
   "cell_type": "code",
   "metadata": {
    "cell_id": "00044-7b4bf235-9ed7-4d23-ad25-c396bdbcbd8b",
    "deepnote_to_be_reexecuted": false,
    "source_hash": "504b711f",
    "execution_start": 1643377079714,
    "execution_millis": 7,
    "deepnote_cell_type": "code"
   },
   "source": "from sklearn.feature_selection import SelectFromModel",
   "execution_count": null,
   "outputs": []
  },
  {
   "cell_type": "code",
   "metadata": {
    "cell_id": "00045-449faf42-a985-484c-8a17-ba298a2f3e27",
    "deepnote_to_be_reexecuted": false,
    "source_hash": "322eeb7b",
    "execution_start": 1643377079732,
    "execution_millis": 0,
    "deepnote_cell_type": "code"
   },
   "source": "sfm = SelectFromModel(forest, threshold=0.1, prefit=True)",
   "execution_count": null,
   "outputs": []
  },
  {
   "cell_type": "code",
   "metadata": {
    "cell_id": "00046-d299ce95-0a6d-4ef6-ab73-2964d91a7d4b",
    "deepnote_to_be_reexecuted": false,
    "source_hash": "5bc7f254",
    "execution_start": 1643377079735,
    "execution_millis": 236,
    "deepnote_cell_type": "code"
   },
   "source": "X_selected = sfm.transform(X_train)",
   "execution_count": null,
   "outputs": []
  },
  {
   "cell_type": "code",
   "metadata": {
    "cell_id": "34112bb5-f09d-45c1-b5e2-5a8d43441aab",
    "tags": [],
    "deepnote_to_be_reexecuted": false,
    "source_hash": "706d022",
    "execution_start": 1643377079982,
    "execution_millis": 80,
    "deepnote_output_heights": [
     611
    ],
    "deepnote_cell_type": "code"
   },
   "source": "X_selected",
   "execution_count": null,
   "outputs": [
    {
     "output_type": "execute_result",
     "execution_count": 24,
     "data": {
      "text/plain": "array([[1.362000e+01, 8.000000e-01, 4.400000e+00, 2.050000e+00,\n        5.500000e+02],\n       [1.376000e+01, 2.740000e+00, 5.400000e+00, 3.000000e+00,\n        1.235000e+03],\n       [1.373000e+01, 3.250000e+00, 5.700000e+00, 2.710000e+00,\n        1.285000e+03],\n       [1.351000e+01, 2.530000e+00, 4.200000e+00, 2.870000e+00,\n        1.095000e+03],\n       [1.260000e+01, 6.600000e-01, 7.100000e+00, 1.580000e+00,\n        6.950000e+02],\n       [1.208000e+01, 2.290000e+00, 2.900000e+00, 3.190000e+00,\n        3.850000e+02],\n       [1.222000e+01, 2.040000e+00, 2.700000e+00, 3.020000e+00,\n        3.120000e+02],\n       [1.251000e+01, 5.800000e-01, 5.450000e+00, 1.510000e+00,\n        6.500000e+02],\n       [1.269000e+01, 1.460000e+00, 3.050000e+00, 2.060000e+00,\n        4.950000e+02],\n       [1.182000e+01, 1.640000e+00, 2.060000e+00, 2.440000e+00,\n        4.150000e+02],\n       [1.349000e+01, 1.840000e+00, 3.740000e+00, 2.780000e+00,\n        4.720000e+02],\n       [1.388000e+01, 3.560000e+00, 5.430000e+00, 3.560000e+00,\n        1.095000e+03],\n       [1.277000e+01, 1.250000e+00, 3.400000e+00, 2.120000e+00,\n        3.720000e+02],\n       [1.277000e+01, 5.100000e-01, 9.899999e+00, 1.630000e+00,\n        4.700000e+02],\n       [1.305000e+01, 2.430000e+00, 4.250000e+00, 2.510000e+00,\n        1.105000e+03],\n       [1.323000e+01, 8.300000e-01, 1.052000e+01, 1.510000e+00,\n        6.750000e+02],\n       [1.200000e+01, 2.260000e+00, 2.500000e+00, 3.120000e+00,\n        2.780000e+02],\n       [1.368000e+01, 2.690000e+00, 3.840000e+00, 2.870000e+00,\n        9.900000e+02],\n       [1.371000e+01, 6.100000e-01, 7.700000e+00, 1.740000e+00,\n        7.400000e+02],\n       [1.349000e+01, 4.800000e-01, 5.700000e+00, 1.820000e+00,\n        5.800000e+02],\n       [1.146000e+01, 2.580000e+00, 2.900000e+00, 2.810000e+00,\n        5.620000e+02],\n       [1.412000e+01, 2.430000e+00, 5.000000e+00, 2.820000e+00,\n        1.280000e+03],\n       [1.161000e+01, 2.920000e+00, 2.650000e+00, 3.260000e+00,\n        6.800000e+02],\n       [1.242000e+01, 2.130000e+00, 2.080000e+00, 3.120000e+00,\n        3.650000e+02],\n       [1.145000e+01, 2.790000e+00, 3.250000e+00, 3.390000e+00,\n        6.250000e+02],\n       [1.311000e+01, 3.180000e+00, 5.300000e+00, 3.180000e+00,\n        5.020000e+02],\n       [1.308000e+01, 1.390000e+00, 9.400000e+00, 1.330000e+00,\n        5.500000e+02],\n       [1.406000e+01, 2.510000e+00, 5.050000e+00, 3.580000e+00,\n        1.295000e+03],\n       [1.386000e+01, 2.860000e+00, 3.380000e+00, 3.160000e+00,\n        4.100000e+02],\n       [1.305000e+01, 1.590000e+00, 4.800000e+00, 2.010000e+00,\n        5.150000e+02],\n       [1.356000e+01, 3.290000e+00, 6.130000e+00, 3.380000e+00,\n        7.950000e+02],\n       [1.430000e+01, 3.140000e+00, 6.200000e+00, 2.650000e+00,\n        1.280000e+03],\n       [1.225000e+01, 4.700000e-01, 3.850000e+00, 1.270000e+00,\n        7.200000e+02],\n       [1.305000e+01, 2.680000e+00, 3.580000e+00, 3.200000e+00,\n        8.300000e+02],\n       [1.187000e+01, 3.030000e+00, 2.800000e+00, 3.640000e+00,\n        3.800000e+02],\n       [1.339000e+01, 2.940000e+00, 4.800000e+00, 3.220000e+00,\n        1.195000e+03],\n       [1.316000e+01, 3.240000e+00, 5.680000e+00, 3.170000e+00,\n        1.185000e+03],\n       [1.184000e+01, 2.210000e+00, 3.050000e+00, 3.080000e+00,\n        5.200000e+02],\n       [1.281000e+01, 1.090000e+00, 5.700000e+00, 1.360000e+00,\n        5.600000e+02],\n       [1.282000e+01, 6.600000e-01, 1.026000e+01, 1.750000e+00,\n        6.850000e+02],\n       [1.483000e+01, 2.980000e+00, 5.200000e+00, 2.850000e+00,\n        1.045000e+03],\n       [1.296000e+01, 7.000000e-01, 5.280000e+00, 1.750000e+00,\n        6.750000e+02],\n       [1.416000e+01, 7.000000e-01, 9.700000e+00, 1.710000e+00,\n        6.600000e+02],\n       [1.317000e+01, 6.300000e-01, 7.900000e+00, 1.480000e+00,\n        7.250000e+02],\n       [1.438000e+01, 3.170000e+00, 4.900000e+00, 3.440000e+00,\n        1.065000e+03],\n       [1.237000e+01, 2.450000e+00, 2.120000e+00, 2.780000e+00,\n        3.420000e+02],\n       [1.316000e+01, 5.500000e-01, 4.000000e+00, 1.680000e+00,\n        8.300000e+02],\n       [1.413000e+01, 7.600000e-01, 9.200000e+00, 1.600000e+00,\n        5.600000e+02],\n       [1.164000e+01, 1.690000e+00, 2.800000e+00, 2.750000e+00,\n        6.800000e+02],\n       [1.352000e+01, 5.200000e-01, 4.350000e+00, 2.060000e+00,\n        5.200000e+02],\n       [1.221000e+01, 1.280000e+00, 2.850000e+00, 3.070000e+00,\n        7.180000e+02],\n       [1.305000e+01, 2.650000e+00, 2.600000e+00, 3.100000e+00,\n        3.800000e+02],\n       [1.267000e+01, 1.940000e+00, 2.620000e+00, 3.160000e+00,\n        4.500000e+02],\n       [1.330000e+01, 2.190000e+00, 3.950000e+00, 2.770000e+00,\n        1.285000e+03],\n       [1.229000e+01, 2.990000e+00, 2.300000e+00, 2.830000e+00,\n        4.060000e+02],\n       [1.165000e+01, 1.610000e+00, 2.600000e+00, 3.210000e+00,\n        5.620000e+02],\n       [1.384000e+01, 8.300000e-01, 9.010000e+00, 1.640000e+00,\n        4.800000e+02],\n       [1.258000e+01, 5.800000e-01, 7.600000e+00, 1.550000e+00,\n        6.400000e+02],\n       [1.264000e+01, 1.410000e+00, 5.750000e+00, 1.590000e+00,\n        4.500000e+02],\n       [1.371000e+01, 2.880000e+00, 3.800000e+00, 4.000000e+00,\n        1.035000e+03],\n       [1.329000e+01, 3.230000e+00, 6.000000e+00, 2.840000e+00,\n        1.270000e+03],\n       [1.367000e+01, 1.790000e+00, 3.800000e+00, 2.460000e+00,\n        6.300000e+02],\n       [1.434000e+01, 1.310000e+00, 1.300000e+01, 1.960000e+00,\n        6.600000e+02],\n       [1.358000e+01, 8.400000e-01, 8.660000e+00, 1.800000e+00,\n        7.500000e+02],\n       [1.179000e+01, 2.240000e+00, 3.000000e+00, 2.440000e+00,\n        4.660000e+02],\n       [1.394000e+01, 3.540000e+00, 8.900000e+00, 3.100000e+00,\n        1.260000e+03],\n       [1.208000e+01, 1.590000e+00, 1.740000e+00, 3.210000e+00,\n        6.250000e+02],\n       [1.229000e+01, 2.250000e+00, 2.150000e+00, 3.300000e+00,\n        2.900000e+02],\n       [1.272000e+01, 2.530000e+00, 3.900000e+00, 3.140000e+00,\n        7.140000e+02],\n       [1.422000e+01, 3.000000e+00, 6.380000e+00, 3.310000e+00,\n        9.700000e+02],\n       [1.363000e+01, 2.910000e+00, 7.300000e+00, 2.880000e+00,\n        1.310000e+03],\n       [1.324000e+01, 2.630000e+00, 4.360000e+00, 3.000000e+00,\n        6.800000e+02],\n       [1.420000e+01, 3.390000e+00, 6.750000e+00, 2.850000e+00,\n        1.450000e+03],\n       [1.383000e+01, 3.400000e+00, 6.600000e+00, 2.570000e+00,\n        1.130000e+03],\n       [1.284000e+01, 6.000000e-01, 4.920000e+00, 2.150000e+00,\n        5.900000e+02],\n       [1.324000e+01, 2.690000e+00, 4.320000e+00, 2.930000e+00,\n        7.350000e+02],\n       [1.299000e+01, 2.890000e+00, 3.350000e+00, 3.500000e+00,\n        9.850000e+02],\n       [1.340000e+01, 9.600000e-01, 8.500000e+00, 1.920000e+00,\n        6.300000e+02],\n       [1.233000e+01, 1.850000e+00, 3.400000e+00, 2.310000e+00,\n        7.500000e+02],\n       [1.207000e+01, 2.650000e+00, 2.760000e+00, 3.280000e+00,\n        3.780000e+02],\n       [1.286000e+01, 1.250000e+00, 4.100000e+00, 1.290000e+00,\n        6.300000e+02],\n       [1.475000e+01, 3.690000e+00, 5.400000e+00, 2.730000e+00,\n        1.150000e+03],\n       [1.251000e+01, 1.920000e+00, 2.940000e+00, 3.570000e+00,\n        6.720000e+02],\n       [1.387000e+01, 2.970000e+00, 4.500000e+00, 3.400000e+00,\n        9.150000e+02],\n       [1.234000e+01, 2.110000e+00, 2.800000e+00, 3.380000e+00,\n        4.380000e+02],\n       [1.334000e+01, 1.300000e+00, 3.170000e+00, 1.930000e+00,\n        7.500000e+02],\n       [1.327000e+01, 6.900000e-01, 1.020000e+01, 1.560000e+00,\n        8.350000e+02],\n       [1.181000e+01, 9.900000e-01, 2.500000e+00, 2.260000e+00,\n        6.250000e+02],\n       [1.348000e+01, 2.980000e+00, 5.100000e+00, 3.470000e+00,\n        9.200000e+02],\n       [1.372000e+01, 3.670000e+00, 6.800000e+00, 2.870000e+00,\n        1.285000e+03],\n       [1.410000e+01, 3.320000e+00, 5.750000e+00, 3.170000e+00,\n        1.510000e+03],\n       [1.253000e+01, 6.000000e-01, 5.000000e+00, 1.690000e+00,\n        5.150000e+02],\n       [1.200000e+01, 1.250000e+00, 3.600000e+00, 2.650000e+00,\n        4.500000e+02],\n       [1.382000e+01, 3.740000e+00, 7.050000e+00, 3.260000e+00,\n        1.190000e+03],\n       [1.438000e+01, 3.640000e+00, 7.500000e+00, 3.000000e+00,\n        1.547000e+03],\n       [1.237000e+01, 2.000000e+00, 4.680000e+00, 3.480000e+00,\n        5.100000e+02],\n       [1.204000e+01, 1.750000e+00, 2.600000e+00, 2.570000e+00,\n        5.800000e+02],\n       [1.369000e+01, 5.600000e-01, 5.880000e+00, 1.820000e+00,\n        6.800000e+02],\n       [1.348000e+01, 1.100000e+00, 1.175000e+01, 1.780000e+00,\n        6.200000e+02],\n       [1.156000e+01, 5.080000e+00, 6.000000e+00, 3.690000e+00,\n        4.650000e+02],\n       [1.341000e+01, 2.680000e+00, 4.280000e+00, 3.000000e+00,\n        1.035000e+03],\n       [1.305000e+01, 3.270000e+00, 7.200000e+00, 2.910000e+00,\n        1.150000e+03],\n       [1.141000e+01, 2.010000e+00, 3.080000e+00, 2.310000e+00,\n        4.340000e+02],\n       [1.166000e+01, 1.570000e+00, 3.800000e+00, 2.140000e+00,\n        4.280000e+02],\n       [1.220000e+01, 4.900000e-01, 5.500000e+00, 1.830000e+00,\n        5.100000e+02],\n       [1.406000e+01, 3.170000e+00, 5.650000e+00, 3.710000e+00,\n        7.800000e+02],\n       [1.279000e+01, 1.360000e+00, 1.080000e+01, 1.470000e+00,\n        4.800000e+02],\n       [1.383000e+01, 2.990000e+00, 5.600000e+00, 3.370000e+00,\n        1.265000e+03],\n       [1.237000e+01, 2.650000e+00, 4.600000e+00, 2.300000e+00,\n        6.780000e+02],\n       [1.252000e+01, 2.270000e+00, 2.000000e+00, 2.780000e+00,\n        3.250000e+02],\n       [1.182000e+01, 1.600000e+00, 1.950000e+00, 3.330000e+00,\n        4.950000e+02],\n       [1.225000e+01, 2.030000e+00, 3.400000e+00, 3.170000e+00,\n        5.100000e+02],\n       [1.356000e+01, 2.780000e+00, 6.250000e+00, 3.030000e+00,\n        1.120000e+03],\n       [1.285000e+01, 6.000000e-01, 5.580000e+00, 2.110000e+00,\n        5.700000e+02],\n       [1.402000e+01, 2.330000e+00, 4.700000e+00, 3.590000e+00,\n        1.035000e+03],\n       [1.358000e+01, 3.190000e+00, 6.900000e+00, 2.880000e+00,\n        1.515000e+03],\n       [1.419000e+01, 3.930000e+00, 8.700000e+00, 2.820000e+00,\n        1.680000e+03],\n       [1.410000e+01, 2.920000e+00, 6.200000e+00, 2.750000e+00,\n        1.060000e+03],\n       [1.272000e+01, 1.760000e+00, 3.300000e+00, 2.420000e+00,\n        4.880000e+02],\n       [1.208000e+01, 1.580000e+00, 2.200000e+00, 2.720000e+00,\n        6.300000e+02],\n       [1.340000e+01, 7.500000e-01, 7.300000e+00, 1.560000e+00,\n        7.500000e+02],\n       [1.388000e+01, 3.400000e-01, 4.900000e+00, 1.330000e+00,\n        4.150000e+02],\n       [1.196000e+01, 2.140000e+00, 3.210000e+00, 3.130000e+00,\n        8.860000e+02],\n       [1.270000e+01, 2.550000e+00, 2.570000e+00, 3.130000e+00,\n        4.630000e+02]])"
     },
     "metadata": {}
    }
   ]
  },
  {
   "cell_type": "code",
   "metadata": {
    "cell_id": "00047-5438a63b-5ef8-488f-a1ac-d7b98c6bef10",
    "deepnote_to_be_reexecuted": false,
    "source_hash": "d9c2352a",
    "execution_start": 1643377532841,
    "execution_millis": 3,
    "deepnote_cell_type": "code"
   },
   "source": "print('Number of samples that meet this criterion:',X_selected.shape[0])\nprint('Number of samples that meet this criterion:',len(X_selected))",
   "execution_count": null,
   "outputs": [
    {
     "name": "stdout",
     "text": "Number of samples that meet this criterion: 124\nNumber of samples that meet this criterion: 124\n",
     "output_type": "stream"
    }
   ]
  },
  {
   "cell_type": "code",
   "metadata": {
    "cell_id": "00048-4808470f-7599-41e7-bac2-daf55b40d060",
    "deepnote_to_be_reexecuted": false,
    "source_hash": "a1437769",
    "execution_start": 1643377080136,
    "execution_millis": 3,
    "deepnote_cell_type": "code"
   },
   "source": "for f in range(X_selected.shape[1]):print(\"%2d) %-*s %f\" % (f + 1, 30,feat_labels[indices[f]],importances[indices[f]]))",
   "execution_count": null,
   "outputs": [
    {
     "name": "stdout",
     "text": " 1) 13                             0.185453\n 2) 7                              0.174751\n 3) 10                             0.143920\n 4) 12                             0.136162\n 5) 1                              0.118529\n",
     "output_type": "stream"
    }
   ]
  },
  {
   "cell_type": "code",
   "metadata": {
    "cell_id": "00049-0caa7472-d4da-442c-bc17-6bddbd44df93",
    "deepnote_to_be_reexecuted": false,
    "source_hash": "b623e53d",
    "execution_start": 1643377080138,
    "execution_millis": 614228404,
    "deepnote_cell_type": "code"
   },
   "source": "",
   "execution_count": null,
   "outputs": []
  },
  {
   "cell_type": "markdown",
   "source": "<a style='text-decoration:none;line-height:16px;display:flex;color:#5B5B62;padding:10px;justify-content:end;' href='https://deepnote.com?utm_source=created-in-deepnote-cell&projectId=57949008-d14a-4ee2-8f47-e94cc0939f85' target=\"_blank\">\n<img alt='Created in deepnote.com' style='display:inline;max-height:16px;margin:0px;margin-right:7.5px;' src='data:image/svg+xml;base64,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' > </img>\nCreated in <span style='font-weight:600;margin-left:4px;'>Deepnote</span></a>",
   "metadata": {
    "tags": [],
    "created_in_deepnote_cell": true,
    "deepnote_cell_type": "markdown"
   }
  }
 ],
 "nbformat": 4,
 "nbformat_minor": 4,
 "metadata": {
  "kernelspec": {
   "display_name": "Python 3",
   "language": "python",
   "name": "python3"
  },
  "language_info": {
   "codemirror_mode": {
    "name": "ipython",
    "version": 3
   },
   "file_extension": ".py",
   "mimetype": "text/x-python",
   "name": "python",
   "nbconvert_exporter": "python",
   "pygments_lexer": "ipython3",
   "version": "3.8.1"
  },
  "deepnote_notebook_id": "d95aa0de-a67f-4745-af68-3e99bb9191d2",
  "deepnote": {},
  "deepnote_execution_queue": []
 }
}